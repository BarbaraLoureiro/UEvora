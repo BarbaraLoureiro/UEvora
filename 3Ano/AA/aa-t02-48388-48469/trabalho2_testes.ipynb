{
 "cells": [
  {
   "cell_type": "code",
   "execution_count": 1,
   "id": "ZiDT9i9whIEJ",
   "metadata": {
    "id": "ZiDT9i9whIEJ"
   },
   "outputs": [],
   "source": [
    "import pandas as pd\n",
    "from sklearn.model_selection import train_test_split\n",
    "from sklearn.metrics import precision_score,recall_score,classification_report\n",
    "from sklearn.model_selection import cross_val_score\n",
    "from sklearn.tree import DecisionTreeClassifier\n",
    "from sklearn.ensemble import ExtraTreesClassifier\n",
    "from sklearn.ensemble import RandomForestClassifier\n",
    "from sklearn.ensemble import GradientBoostingClassifier\n",
    "from sklearn.neighbors import KNeighborsClassifier\n",
    "from sklearn.naive_bayes import GaussianNB\n",
    "from sklearn.linear_model import LogisticRegression\n",
    "from sklearn.svm import SVC\n",
    "from sklearn.neural_network import MLPClassifier\n",
    "from sklearn.model_selection import GridSearchCV\n",
    "import warnings\n",
    "import pickle \n",
    "warnings.filterwarnings(\"ignore\")\n",
    "data = pd.read_csv(\"dropout-trabalho2.csv\")"
   ]
  },
  {
   "cell_type": "markdown",
   "id": "3be30ea7",
   "metadata": {
    "id": "GPmbfrxMhIPe"
   },
   "source": [
    "# Exploratory Data Analysis"
   ]
  },
  {
   "cell_type": "code",
   "execution_count": 2,
   "id": "aedfef2a",
   "metadata": {
    "id": "aedfef2a"
   },
   "outputs": [],
   "source": [
    "#data['Program']=data['Program'].astype('category')\n",
    "#data['Id']=data['Id'].astype('object')"
   ]
  },
  {
   "cell_type": "code",
   "execution_count": 3,
   "id": "4ffce6f0",
   "metadata": {
    "colab": {
     "base_uri": "https://localhost:8080/"
    },
    "id": "4ffce6f0",
    "outputId": "760f27ed-9130-4766-893a-c76fc81f8725"
   },
   "outputs": [
    {
     "data": {
      "text/plain": [
       "0       33.0\n",
       "1       30.0\n",
       "2       24.0\n",
       "3       33.0\n",
       "4       30.0\n",
       "        ... \n",
       "2105    10.0\n",
       "2106    35.0\n",
       "2107    41.0\n",
       "2108    36.0\n",
       "2109    35.0\n",
       "Name: Y0s1_enrol, Length: 2110, dtype: float64"
      ]
     },
     "execution_count": 3,
     "metadata": {},
     "output_type": "execute_result"
    }
   ],
   "source": [
    "data['Y0s1_enrol']"
   ]
  },
  {
   "cell_type": "code",
   "execution_count": 4,
   "id": "e46ae2fe",
   "metadata": {
    "colab": {
     "base_uri": "https://localhost:8080/"
    },
    "id": "e46ae2fe",
    "outputId": "eda327d6-af4e-4f5e-e889-5ebf3d4a8bd6"
   },
   "outputs": [
    {
     "data": {
      "text/plain": [
       "Id               0\n",
       "Program          0\n",
       "Y0s1_enrol       0\n",
       "Y0s2_enrol       0\n",
       "Y1s1_enrol       0\n",
       "Y1s1_complete    0\n",
       "Y1s1_grade       0\n",
       "Y1s2_enrol       0\n",
       "Y1s2_complete    0\n",
       "Y1s2_grade       0\n",
       "Y2s1_enrol       0\n",
       "Y2s1_complete    0\n",
       "Y2s1_grade       0\n",
       "Y2s2_enrol       0\n",
       "Y2s2_complete    0\n",
       "Y2s2_grade       0\n",
       "Y3s1_enrol       0\n",
       "Y3s1_complete    0\n",
       "Y3s1_grade       0\n",
       "Y3s2_enrol       0\n",
       "Y3s2_complete    0\n",
       "Y3s2_grade       0\n",
       "Y4s1_enrol       0\n",
       "Y4s1_complete    0\n",
       "Y4s1_grade       0\n",
       "Y4s2_enrol       0\n",
       "Y4s2_complete    0\n",
       "Y4s2_grade       0\n",
       "Rest_enrol       0\n",
       "Rest_complete    0\n",
       "Rest_grade       0\n",
       "Failure          0\n",
       "dtype: int64"
      ]
     },
     "execution_count": 4,
     "metadata": {},
     "output_type": "execute_result"
    }
   ],
   "source": [
    "data.isna().sum()# logo não existem NA's"
   ]
  },
  {
   "cell_type": "code",
   "execution_count": 5,
   "id": "721d5666",
   "metadata": {
    "colab": {
     "base_uri": "https://localhost:8080/",
     "height": 394
    },
    "id": "721d5666",
    "outputId": "7d840834-16fe-4165-f6f1-954bf93548a5"
   },
   "outputs": [
    {
     "data": {
      "text/html": [
       "<div>\n",
       "<style scoped>\n",
       "    .dataframe tbody tr th:only-of-type {\n",
       "        vertical-align: middle;\n",
       "    }\n",
       "\n",
       "    .dataframe tbody tr th {\n",
       "        vertical-align: top;\n",
       "    }\n",
       "\n",
       "    .dataframe thead th {\n",
       "        text-align: right;\n",
       "    }\n",
       "</style>\n",
       "<table border=\"1\" class=\"dataframe\">\n",
       "  <thead>\n",
       "    <tr style=\"text-align: right;\">\n",
       "      <th></th>\n",
       "      <th>Id</th>\n",
       "      <th>Program</th>\n",
       "      <th>Y0s1_enrol</th>\n",
       "      <th>Y0s2_enrol</th>\n",
       "      <th>Y1s1_enrol</th>\n",
       "      <th>Y1s1_complete</th>\n",
       "      <th>Y1s1_grade</th>\n",
       "      <th>Y1s2_enrol</th>\n",
       "      <th>Y1s2_complete</th>\n",
       "      <th>Y1s2_grade</th>\n",
       "      <th>...</th>\n",
       "      <th>Y4s1_enrol</th>\n",
       "      <th>Y4s1_complete</th>\n",
       "      <th>Y4s1_grade</th>\n",
       "      <th>Y4s2_enrol</th>\n",
       "      <th>Y4s2_complete</th>\n",
       "      <th>Y4s2_grade</th>\n",
       "      <th>Rest_enrol</th>\n",
       "      <th>Rest_complete</th>\n",
       "      <th>Rest_grade</th>\n",
       "      <th>Failure</th>\n",
       "    </tr>\n",
       "  </thead>\n",
       "  <tbody>\n",
       "    <tr>\n",
       "      <th>count</th>\n",
       "      <td>2.110000e+03</td>\n",
       "      <td>2110.000000</td>\n",
       "      <td>2110.000000</td>\n",
       "      <td>2110.000000</td>\n",
       "      <td>2110.000000</td>\n",
       "      <td>2110.000000</td>\n",
       "      <td>2110.000000</td>\n",
       "      <td>2110.000000</td>\n",
       "      <td>2110.000000</td>\n",
       "      <td>2110.000000</td>\n",
       "      <td>...</td>\n",
       "      <td>2110.000000</td>\n",
       "      <td>2110.000000</td>\n",
       "      <td>2110.000000</td>\n",
       "      <td>2110.000000</td>\n",
       "      <td>2110.000000</td>\n",
       "      <td>2110.000000</td>\n",
       "      <td>2110.000000</td>\n",
       "      <td>2110.000000</td>\n",
       "      <td>2110.000000</td>\n",
       "      <td>2110.000000</td>\n",
       "    </tr>\n",
       "    <tr>\n",
       "      <th>mean</th>\n",
       "      <td>1.288536e+08</td>\n",
       "      <td>1.733175</td>\n",
       "      <td>27.040047</td>\n",
       "      <td>28.938863</td>\n",
       "      <td>25.399052</td>\n",
       "      <td>18.560664</td>\n",
       "      <td>10.392925</td>\n",
       "      <td>27.689573</td>\n",
       "      <td>19.906161</td>\n",
       "      <td>10.767200</td>\n",
       "      <td>...</td>\n",
       "      <td>6.496682</td>\n",
       "      <td>3.171564</td>\n",
       "      <td>2.260109</td>\n",
       "      <td>7.133649</td>\n",
       "      <td>3.384834</td>\n",
       "      <td>2.198823</td>\n",
       "      <td>11.720142</td>\n",
       "      <td>3.326540</td>\n",
       "      <td>0.970491</td>\n",
       "      <td>0.275829</td>\n",
       "    </tr>\n",
       "    <tr>\n",
       "      <th>std</th>\n",
       "      <td>6.663121e+06</td>\n",
       "      <td>1.102774</td>\n",
       "      <td>10.837147</td>\n",
       "      <td>13.665683</td>\n",
       "      <td>13.331220</td>\n",
       "      <td>13.091278</td>\n",
       "      <td>6.164561</td>\n",
       "      <td>14.229294</td>\n",
       "      <td>13.413102</td>\n",
       "      <td>6.284379</td>\n",
       "      <td>...</td>\n",
       "      <td>13.318561</td>\n",
       "      <td>7.836959</td>\n",
       "      <td>4.877508</td>\n",
       "      <td>14.911392</td>\n",
       "      <td>8.302442</td>\n",
       "      <td>4.836866</td>\n",
       "      <td>49.871917</td>\n",
       "      <td>14.553754</td>\n",
       "      <td>3.358431</td>\n",
       "      <td>0.447037</td>\n",
       "    </tr>\n",
       "    <tr>\n",
       "      <th>min</th>\n",
       "      <td>1.113357e+08</td>\n",
       "      <td>0.000000</td>\n",
       "      <td>0.000000</td>\n",
       "      <td>0.000000</td>\n",
       "      <td>0.000000</td>\n",
       "      <td>0.000000</td>\n",
       "      <td>0.000000</td>\n",
       "      <td>0.000000</td>\n",
       "      <td>0.000000</td>\n",
       "      <td>0.000000</td>\n",
       "      <td>...</td>\n",
       "      <td>0.000000</td>\n",
       "      <td>0.000000</td>\n",
       "      <td>0.000000</td>\n",
       "      <td>0.000000</td>\n",
       "      <td>0.000000</td>\n",
       "      <td>0.000000</td>\n",
       "      <td>0.000000</td>\n",
       "      <td>0.000000</td>\n",
       "      <td>0.000000</td>\n",
       "      <td>0.000000</td>\n",
       "    </tr>\n",
       "    <tr>\n",
       "      <th>25%</th>\n",
       "      <td>1.313825e+08</td>\n",
       "      <td>1.000000</td>\n",
       "      <td>24.000000</td>\n",
       "      <td>24.000000</td>\n",
       "      <td>23.000000</td>\n",
       "      <td>2.000000</td>\n",
       "      <td>10.000000</td>\n",
       "      <td>27.000000</td>\n",
       "      <td>6.000000</td>\n",
       "      <td>10.000000</td>\n",
       "      <td>...</td>\n",
       "      <td>0.000000</td>\n",
       "      <td>0.000000</td>\n",
       "      <td>0.000000</td>\n",
       "      <td>0.000000</td>\n",
       "      <td>0.000000</td>\n",
       "      <td>0.000000</td>\n",
       "      <td>0.000000</td>\n",
       "      <td>0.000000</td>\n",
       "      <td>0.000000</td>\n",
       "      <td>0.000000</td>\n",
       "    </tr>\n",
       "    <tr>\n",
       "      <th>50%</th>\n",
       "      <td>1.313868e+08</td>\n",
       "      <td>2.000000</td>\n",
       "      <td>30.000000</td>\n",
       "      <td>30.000000</td>\n",
       "      <td>30.000000</td>\n",
       "      <td>23.500000</td>\n",
       "      <td>12.696000</td>\n",
       "      <td>30.000000</td>\n",
       "      <td>24.000000</td>\n",
       "      <td>13.000000</td>\n",
       "      <td>...</td>\n",
       "      <td>0.000000</td>\n",
       "      <td>0.000000</td>\n",
       "      <td>0.000000</td>\n",
       "      <td>0.000000</td>\n",
       "      <td>0.000000</td>\n",
       "      <td>0.000000</td>\n",
       "      <td>0.000000</td>\n",
       "      <td>0.000000</td>\n",
       "      <td>0.000000</td>\n",
       "      <td>0.000000</td>\n",
       "    </tr>\n",
       "    <tr>\n",
       "      <th>75%</th>\n",
       "      <td>1.313925e+08</td>\n",
       "      <td>3.000000</td>\n",
       "      <td>33.000000</td>\n",
       "      <td>36.000000</td>\n",
       "      <td>34.000000</td>\n",
       "      <td>30.000000</td>\n",
       "      <td>14.747250</td>\n",
       "      <td>36.000000</td>\n",
       "      <td>30.000000</td>\n",
       "      <td>15.250000</td>\n",
       "      <td>...</td>\n",
       "      <td>0.000000</td>\n",
       "      <td>0.000000</td>\n",
       "      <td>0.000000</td>\n",
       "      <td>0.000000</td>\n",
       "      <td>0.000000</td>\n",
       "      <td>0.000000</td>\n",
       "      <td>0.000000</td>\n",
       "      <td>0.000000</td>\n",
       "      <td>0.000000</td>\n",
       "      <td>1.000000</td>\n",
       "    </tr>\n",
       "    <tr>\n",
       "      <th>max</th>\n",
       "      <td>1.314154e+08</td>\n",
       "      <td>3.000000</td>\n",
       "      <td>66.000000</td>\n",
       "      <td>93.000000</td>\n",
       "      <td>90.000000</td>\n",
       "      <td>90.000000</td>\n",
       "      <td>18.174000</td>\n",
       "      <td>90.000000</td>\n",
       "      <td>90.000000</td>\n",
       "      <td>19.400000</td>\n",
       "      <td>...</td>\n",
       "      <td>80.000000</td>\n",
       "      <td>36.000000</td>\n",
       "      <td>18.000000</td>\n",
       "      <td>83.000000</td>\n",
       "      <td>59.000000</td>\n",
       "      <td>17.185000</td>\n",
       "      <td>623.500000</td>\n",
       "      <td>159.000000</td>\n",
       "      <td>19.000000</td>\n",
       "      <td>1.000000</td>\n",
       "    </tr>\n",
       "  </tbody>\n",
       "</table>\n",
       "<p>8 rows × 32 columns</p>\n",
       "</div>"
      ],
      "text/plain": [
       "                 Id      Program   Y0s1_enrol   Y0s2_enrol   Y1s1_enrol  \\\n",
       "count  2.110000e+03  2110.000000  2110.000000  2110.000000  2110.000000   \n",
       "mean   1.288536e+08     1.733175    27.040047    28.938863    25.399052   \n",
       "std    6.663121e+06     1.102774    10.837147    13.665683    13.331220   \n",
       "min    1.113357e+08     0.000000     0.000000     0.000000     0.000000   \n",
       "25%    1.313825e+08     1.000000    24.000000    24.000000    23.000000   \n",
       "50%    1.313868e+08     2.000000    30.000000    30.000000    30.000000   \n",
       "75%    1.313925e+08     3.000000    33.000000    36.000000    34.000000   \n",
       "max    1.314154e+08     3.000000    66.000000    93.000000    90.000000   \n",
       "\n",
       "       Y1s1_complete   Y1s1_grade   Y1s2_enrol  Y1s2_complete   Y1s2_grade  \\\n",
       "count    2110.000000  2110.000000  2110.000000    2110.000000  2110.000000   \n",
       "mean       18.560664    10.392925    27.689573      19.906161    10.767200   \n",
       "std        13.091278     6.164561    14.229294      13.413102     6.284379   \n",
       "min         0.000000     0.000000     0.000000       0.000000     0.000000   \n",
       "25%         2.000000    10.000000    27.000000       6.000000    10.000000   \n",
       "50%        23.500000    12.696000    30.000000      24.000000    13.000000   \n",
       "75%        30.000000    14.747250    36.000000      30.000000    15.250000   \n",
       "max        90.000000    18.174000    90.000000      90.000000    19.400000   \n",
       "\n",
       "       ...   Y4s1_enrol  Y4s1_complete   Y4s1_grade   Y4s2_enrol  \\\n",
       "count  ...  2110.000000    2110.000000  2110.000000  2110.000000   \n",
       "mean   ...     6.496682       3.171564     2.260109     7.133649   \n",
       "std    ...    13.318561       7.836959     4.877508    14.911392   \n",
       "min    ...     0.000000       0.000000     0.000000     0.000000   \n",
       "25%    ...     0.000000       0.000000     0.000000     0.000000   \n",
       "50%    ...     0.000000       0.000000     0.000000     0.000000   \n",
       "75%    ...     0.000000       0.000000     0.000000     0.000000   \n",
       "max    ...    80.000000      36.000000    18.000000    83.000000   \n",
       "\n",
       "       Y4s2_complete   Y4s2_grade   Rest_enrol  Rest_complete   Rest_grade  \\\n",
       "count    2110.000000  2110.000000  2110.000000    2110.000000  2110.000000   \n",
       "mean        3.384834     2.198823    11.720142       3.326540     0.970491   \n",
       "std         8.302442     4.836866    49.871917      14.553754     3.358431   \n",
       "min         0.000000     0.000000     0.000000       0.000000     0.000000   \n",
       "25%         0.000000     0.000000     0.000000       0.000000     0.000000   \n",
       "50%         0.000000     0.000000     0.000000       0.000000     0.000000   \n",
       "75%         0.000000     0.000000     0.000000       0.000000     0.000000   \n",
       "max        59.000000    17.185000   623.500000     159.000000    19.000000   \n",
       "\n",
       "           Failure  \n",
       "count  2110.000000  \n",
       "mean      0.275829  \n",
       "std       0.447037  \n",
       "min       0.000000  \n",
       "25%       0.000000  \n",
       "50%       0.000000  \n",
       "75%       1.000000  \n",
       "max       1.000000  \n",
       "\n",
       "[8 rows x 32 columns]"
      ]
     },
     "execution_count": 5,
     "metadata": {},
     "output_type": "execute_result"
    }
   ],
   "source": [
    "data.describe()"
   ]
  },
  {
   "cell_type": "code",
   "execution_count": 6,
   "id": "7de26566",
   "metadata": {
    "id": "7de26566"
   },
   "outputs": [],
   "source": [
    "colunas=['Y0s1_enrol', 'Y0s2_enrol', 'Y1s1_enrol', 'Y1s1_complete', 'Y1s2_enrol', 'Y1s2_complete', 'Y2s1_enrol', 'Y2s1_complete', 'Y2s2_enrol', 'Y2s2_complete', 'Y3s1_enrol', 'Y3s1_complete', 'Y3s2_enrol', 'Y3s2_complete', 'Y4s1_enrol', 'Y4s1_complete', 'Y4s2_enrol', 'Y4s2_complete']"
   ]
  },
  {
   "cell_type": "code",
   "execution_count": 7,
   "id": "ec21d12e",
   "metadata": {
    "id": "ec21d12e"
   },
   "outputs": [],
   "source": [
    "dados_toplot=data.copy()\n",
    "dados2=data.copy()"
   ]
  },
  {
   "cell_type": "code",
   "execution_count": 8,
   "id": "e253f9e5",
   "metadata": {
    "colab": {
     "base_uri": "https://localhost:8080/",
     "height": 1000
    },
    "id": "e253f9e5",
    "outputId": "81df74be-b432-49ce-c005-6457c772fc2d"
   },
   "outputs": [
    {
     "name": "stdout",
     "output_type": "stream",
     "text": [
      "Y0s1_enrol\n"
     ]
    },
    {
     "data": {
      "image/png": "[encoded data removed]",
      "text/plain": [
       "<Figure size 432x288 with 1 Axes>"
      ]
     },
     "metadata": {
      "needs_background": "light"
     },
     "output_type": "display_data"
    },
    {
     "name": "stdout",
     "output_type": "stream",
     "text": [
      "Y0s2_enrol\n"
     ]
    },
    {
     "data": {
      "image/png": "[encoded data removed]",
      "text/plain": [
       "<Figure size 432x288 with 1 Axes>"
      ]
     },
     "metadata": {
      "needs_background": "light"
     },
     "output_type": "display_data"
    },
    {
     "name": "stdout",
     "output_type": "stream",
     "text": [
      "Y1s1_enrol\n"
     ]
    },
    {
     "data": {
      "image/png": "[encoded data removed]",
      "text/plain": [
       "<Figure size 432x288 with 1 Axes>"
      ]
     },
     "metadata": {
      "needs_background": "light"
     },
     "output_type": "display_data"
    },
    {
     "name": "stdout",
     "output_type": "stream",
     "text": [
      "Y1s1_complete\n"
     ]
    },
    {
     "data": {
      "image/png": "[encoded data removed]",
      "text/plain": [
       "<Figure size 432x288 with 1 Axes>"
      ]
     },
     "metadata": {
      "needs_background": "light"
     },
     "output_type": "display_data"
    },
    {
     "name": "stdout",
     "output_type": "stream",
     "text": [
      "Y1s2_enrol\n"
     ]
    },
    {
     "data": {
      "image/png": "[encoded data removed]",
      "text/plain": [
       "<Figure size 432x288 with 1 Axes>"
      ]
     },
     "metadata": {
      "needs_background": "light"
     },
     "output_type": "display_data"
    },
    {
     "name": "stdout",
     "output_type": "stream",
     "text": [
      "Y1s2_complete\n"
     ]
    },
    {
     "data": {
      "image/png": "[encoded data removed]",
      "text/plain": [
       "<Figure size 432x288 with 1 Axes>"
      ]
     },
     "metadata": {
      "needs_background": "light"
     },
     "output_type": "display_data"
    },
    {
     "name": "stdout",
     "output_type": "stream",
     "text": [
      "Y2s1_enrol\n"
     ]
    },
    {
     "data": {
      "image/png": "[encoded data removed]",
      "text/plain": [
       "<Figure size 432x288 with 1 Axes>"
      ]
     },
     "metadata": {
      "needs_background": "light"
     },
     "output_type": "display_data"
    },
    {
     "name": "stdout",
     "output_type": "stream",
     "text": [
      "Y2s1_complete\n"
     ]
    },
    {
     "data": {
      "image/png": "[encoded data removed]",
      "text/plain": [
       "<Figure size 432x288 with 1 Axes>"
      ]
     },
     "metadata": {
      "needs_background": "light"
     },
     "output_type": "display_data"
    },
    {
     "name": "stdout",
     "output_type": "stream",
     "text": [
      "Y2s2_enrol\n"
     ]
    },
    {
     "data": {
      "image/png": "[encoded data removed]",
      "text/plain": [
       "<Figure size 432x288 with 1 Axes>"
      ]
     },
     "metadata": {
      "needs_background": "light"
     },
     "output_type": "display_data"
    },
    {
     "name": "stdout",
     "output_type": "stream",
     "text": [
      "Y2s2_complete\n"
     ]
    },
    {
     "data": {
      "image/png": "[encoded data removed]",
      "text/plain": [
       "<Figure size 432x288 with 1 Axes>"
      ]
     },
     "metadata": {
      "needs_background": "light"
     },
     "output_type": "display_data"
    },
    {
     "name": "stdout",
     "output_type": "stream",
     "text": [
      "Y3s1_enrol\n"
     ]
    },
    {
     "data": {
      "image/png": "[encoded data removed]",
      "text/plain": [
       "<Figure size 432x288 with 1 Axes>"
      ]
     },
     "metadata": {
      "needs_background": "light"
     },
     "output_type": "display_data"
    },
    {
     "name": "stdout",
     "output_type": "stream",
     "text": [
      "Y3s1_complete\n"
     ]
    },
    {
     "data": {
      "image/png": "[encoded data removed]",
      "text/plain": [
       "<Figure size 432x288 with 1 Axes>"
      ]
     },
     "metadata": {
      "needs_background": "light"
     },
     "output_type": "display_data"
    },
    {
     "name": "stdout",
     "output_type": "stream",
     "text": [
      "Y3s2_enrol\n"
     ]
    },
    {
     "data": {
      "image/png": "[encoded data removed]",
      "text/plain": [
       "<Figure size 432x288 with 1 Axes>"
      ]
     },
     "metadata": {
      "needs_background": "light"
     },
     "output_type": "display_data"
    },
    {
     "name": "stdout",
     "output_type": "stream",
     "text": [
      "Y3s2_complete\n"
     ]
    },
    {
     "data": {
      "image/png": "[encoded data removed]",
      "text/plain": [
       "<Figure size 432x288 with 1 Axes>"
      ]
     },
     "metadata": {
      "needs_background": "light"
     },
     "output_type": "display_data"
    },
    {
     "name": "stdout",
     "output_type": "stream",
     "text": [
      "Y4s1_enrol\n"
     ]
    },
    {
     "data": {
      "image/png": "[encoded data removed]",
      "text/plain": [
       "<Figure size 432x288 with 1 Axes>"
      ]
     },
     "metadata": {
      "needs_background": "light"
     },
     "output_type": "display_data"
    },
    {
     "name": "stdout",
     "output_type": "stream",
     "text": [
      "Y4s1_complete\n"
     ]
    },
    {
     "data": {
      "image/png": "[encoded data removed]",
      "text/plain": [
       "<Figure size 432x288 with 1 Axes>"
      ]
     },
     "metadata": {
      "needs_background": "light"
     },
     "output_type": "display_data"
    },
    {
     "name": "stdout",
     "output_type": "stream",
     "text": [
      "Y4s2_enrol\n"
     ]
    },
    {
     "data": {
      "image/png": "[encoded data removed]",
      "text/plain": [
       "<Figure size 432x288 with 1 Axes>"
      ]
     },
     "metadata": {
      "needs_background": "light"
     },
     "output_type": "display_data"
    },
    {
     "name": "stdout",
     "output_type": "stream",
     "text": [
      "Y4s2_complete\n"
     ]
    },
    {
     "data": {
      "image/png": "[encoded data removed]",
      "text/plain": [
       "<Figure size 432x288 with 1 Axes>"
      ]
     },
     "metadata": {
      "needs_background": "light"
     },
     "output_type": "display_data"
    }
   ],
   "source": [
    "import seaborn as sns\n",
    "import matplotlib.pyplot as plt\n",
    "for a in colunas:          \n",
    "    Q1 = dados2[a].quantile(0.25)\n",
    "    Q3 = dados2[a].quantile(0.75)\n",
    "#     print(Q1,Q3)\n",
    "\n",
    "    filter = (dados2[a] >= Q1) & (dados2[a] <= Q3)\n",
    "#     print(filter)\n",
    "    dados_toplot[a]=dados2[a].loc[filter]\n",
    "    print(a)\n",
    "    sns.boxplot(dados_toplot[a])\n",
    "    plt.show()"
   ]
  },
  {
   "cell_type": "code",
   "execution_count": 9,
   "id": "520cc147",
   "metadata": {
    "colab": {
     "base_uri": "https://localhost:8080/"
    },
    "id": "520cc147",
    "outputId": "6e731d95-a0c4-44c9-9fd3-878422f7879b"
   },
   "outputs": [
    {
     "data": {
      "text/html": [
       "<div>\n",
       "<style scoped>\n",
       "    .dataframe tbody tr th:only-of-type {\n",
       "        vertical-align: middle;\n",
       "    }\n",
       "\n",
       "    .dataframe tbody tr th {\n",
       "        vertical-align: top;\n",
       "    }\n",
       "\n",
       "    .dataframe thead th {\n",
       "        text-align: right;\n",
       "    }\n",
       "</style>\n",
       "<table border=\"1\" class=\"dataframe\">\n",
       "  <thead>\n",
       "    <tr style=\"text-align: right;\">\n",
       "      <th></th>\n",
       "      <th>Id</th>\n",
       "      <th>Program</th>\n",
       "      <th>Y0s1_enrol</th>\n",
       "      <th>Y0s2_enrol</th>\n",
       "      <th>Y1s1_enrol</th>\n",
       "      <th>Y1s1_complete</th>\n",
       "      <th>Y1s1_grade</th>\n",
       "      <th>Y1s2_enrol</th>\n",
       "      <th>Y1s2_complete</th>\n",
       "      <th>Y1s2_grade</th>\n",
       "      <th>...</th>\n",
       "      <th>Y4s1_enrol</th>\n",
       "      <th>Y4s1_complete</th>\n",
       "      <th>Y4s1_grade</th>\n",
       "      <th>Y4s2_enrol</th>\n",
       "      <th>Y4s2_complete</th>\n",
       "      <th>Y4s2_grade</th>\n",
       "      <th>Rest_enrol</th>\n",
       "      <th>Rest_complete</th>\n",
       "      <th>Rest_grade</th>\n",
       "      <th>Failure</th>\n",
       "    </tr>\n",
       "  </thead>\n",
       "  <tbody>\n",
       "    <tr>\n",
       "      <th>20</th>\n",
       "      <td>131382670</td>\n",
       "      <td>1</td>\n",
       "      <td>30.0</td>\n",
       "      <td>36.0</td>\n",
       "      <td>30.0</td>\n",
       "      <td>30.0</td>\n",
       "      <td>13.100</td>\n",
       "      <td>30.0</td>\n",
       "      <td>30.0</td>\n",
       "      <td>12.800</td>\n",
       "      <td>...</td>\n",
       "      <td>0.0</td>\n",
       "      <td>0.0</td>\n",
       "      <td>0.0</td>\n",
       "      <td>0.0</td>\n",
       "      <td>0.0</td>\n",
       "      <td>0.0</td>\n",
       "      <td>0.0</td>\n",
       "      <td>0.0</td>\n",
       "      <td>0.0</td>\n",
       "      <td>0</td>\n",
       "    </tr>\n",
       "    <tr>\n",
       "      <th>22</th>\n",
       "      <td>131379484</td>\n",
       "      <td>3</td>\n",
       "      <td>33.0</td>\n",
       "      <td>30.0</td>\n",
       "      <td>30.0</td>\n",
       "      <td>27.0</td>\n",
       "      <td>12.111</td>\n",
       "      <td>30.0</td>\n",
       "      <td>30.0</td>\n",
       "      <td>13.367</td>\n",
       "      <td>...</td>\n",
       "      <td>0.0</td>\n",
       "      <td>0.0</td>\n",
       "      <td>0.0</td>\n",
       "      <td>0.0</td>\n",
       "      <td>0.0</td>\n",
       "      <td>0.0</td>\n",
       "      <td>0.0</td>\n",
       "      <td>0.0</td>\n",
       "      <td>0.0</td>\n",
       "      <td>0</td>\n",
       "    </tr>\n",
       "    <tr>\n",
       "      <th>25</th>\n",
       "      <td>131388192</td>\n",
       "      <td>2</td>\n",
       "      <td>30.0</td>\n",
       "      <td>30.0</td>\n",
       "      <td>30.0</td>\n",
       "      <td>30.0</td>\n",
       "      <td>14.467</td>\n",
       "      <td>30.0</td>\n",
       "      <td>30.0</td>\n",
       "      <td>15.350</td>\n",
       "      <td>...</td>\n",
       "      <td>0.0</td>\n",
       "      <td>0.0</td>\n",
       "      <td>0.0</td>\n",
       "      <td>0.0</td>\n",
       "      <td>0.0</td>\n",
       "      <td>0.0</td>\n",
       "      <td>0.0</td>\n",
       "      <td>0.0</td>\n",
       "      <td>0.0</td>\n",
       "      <td>0</td>\n",
       "    </tr>\n",
       "    <tr>\n",
       "      <th>64</th>\n",
       "      <td>131382910</td>\n",
       "      <td>3</td>\n",
       "      <td>30.0</td>\n",
       "      <td>30.0</td>\n",
       "      <td>30.0</td>\n",
       "      <td>30.0</td>\n",
       "      <td>15.700</td>\n",
       "      <td>30.0</td>\n",
       "      <td>30.0</td>\n",
       "      <td>15.333</td>\n",
       "      <td>...</td>\n",
       "      <td>0.0</td>\n",
       "      <td>0.0</td>\n",
       "      <td>0.0</td>\n",
       "      <td>0.0</td>\n",
       "      <td>0.0</td>\n",
       "      <td>0.0</td>\n",
       "      <td>0.0</td>\n",
       "      <td>0.0</td>\n",
       "      <td>0.0</td>\n",
       "      <td>0</td>\n",
       "    </tr>\n",
       "    <tr>\n",
       "      <th>65</th>\n",
       "      <td>131386325</td>\n",
       "      <td>0</td>\n",
       "      <td>30.0</td>\n",
       "      <td>30.0</td>\n",
       "      <td>30.0</td>\n",
       "      <td>19.0</td>\n",
       "      <td>11.368</td>\n",
       "      <td>30.0</td>\n",
       "      <td>24.0</td>\n",
       "      <td>13.167</td>\n",
       "      <td>...</td>\n",
       "      <td>0.0</td>\n",
       "      <td>0.0</td>\n",
       "      <td>0.0</td>\n",
       "      <td>0.0</td>\n",
       "      <td>0.0</td>\n",
       "      <td>0.0</td>\n",
       "      <td>0.0</td>\n",
       "      <td>0.0</td>\n",
       "      <td>0.0</td>\n",
       "      <td>1</td>\n",
       "    </tr>\n",
       "    <tr>\n",
       "      <th>...</th>\n",
       "      <td>...</td>\n",
       "      <td>...</td>\n",
       "      <td>...</td>\n",
       "      <td>...</td>\n",
       "      <td>...</td>\n",
       "      <td>...</td>\n",
       "      <td>...</td>\n",
       "      <td>...</td>\n",
       "      <td>...</td>\n",
       "      <td>...</td>\n",
       "      <td>...</td>\n",
       "      <td>...</td>\n",
       "      <td>...</td>\n",
       "      <td>...</td>\n",
       "      <td>...</td>\n",
       "      <td>...</td>\n",
       "      <td>...</td>\n",
       "      <td>...</td>\n",
       "      <td>...</td>\n",
       "      <td>...</td>\n",
       "      <td>...</td>\n",
       "    </tr>\n",
       "    <tr>\n",
       "      <th>1961</th>\n",
       "      <td>131385007</td>\n",
       "      <td>2</td>\n",
       "      <td>30.0</td>\n",
       "      <td>30.0</td>\n",
       "      <td>30.0</td>\n",
       "      <td>30.0</td>\n",
       "      <td>14.500</td>\n",
       "      <td>30.0</td>\n",
       "      <td>30.0</td>\n",
       "      <td>16.600</td>\n",
       "      <td>...</td>\n",
       "      <td>0.0</td>\n",
       "      <td>0.0</td>\n",
       "      <td>0.0</td>\n",
       "      <td>0.0</td>\n",
       "      <td>0.0</td>\n",
       "      <td>0.0</td>\n",
       "      <td>0.0</td>\n",
       "      <td>0.0</td>\n",
       "      <td>0.0</td>\n",
       "      <td>0</td>\n",
       "    </tr>\n",
       "    <tr>\n",
       "      <th>2009</th>\n",
       "      <td>131389489</td>\n",
       "      <td>2</td>\n",
       "      <td>30.0</td>\n",
       "      <td>36.0</td>\n",
       "      <td>30.0</td>\n",
       "      <td>30.0</td>\n",
       "      <td>13.033</td>\n",
       "      <td>30.0</td>\n",
       "      <td>30.0</td>\n",
       "      <td>14.233</td>\n",
       "      <td>...</td>\n",
       "      <td>0.0</td>\n",
       "      <td>0.0</td>\n",
       "      <td>0.0</td>\n",
       "      <td>0.0</td>\n",
       "      <td>0.0</td>\n",
       "      <td>0.0</td>\n",
       "      <td>0.0</td>\n",
       "      <td>0.0</td>\n",
       "      <td>0.0</td>\n",
       "      <td>0</td>\n",
       "    </tr>\n",
       "    <tr>\n",
       "      <th>2052</th>\n",
       "      <td>131383541</td>\n",
       "      <td>2</td>\n",
       "      <td>30.0</td>\n",
       "      <td>33.0</td>\n",
       "      <td>30.0</td>\n",
       "      <td>30.0</td>\n",
       "      <td>11.900</td>\n",
       "      <td>30.0</td>\n",
       "      <td>27.0</td>\n",
       "      <td>12.556</td>\n",
       "      <td>...</td>\n",
       "      <td>0.0</td>\n",
       "      <td>0.0</td>\n",
       "      <td>0.0</td>\n",
       "      <td>0.0</td>\n",
       "      <td>0.0</td>\n",
       "      <td>0.0</td>\n",
       "      <td>0.0</td>\n",
       "      <td>0.0</td>\n",
       "      <td>0.0</td>\n",
       "      <td>0</td>\n",
       "    </tr>\n",
       "    <tr>\n",
       "      <th>2075</th>\n",
       "      <td>131379416</td>\n",
       "      <td>3</td>\n",
       "      <td>30.0</td>\n",
       "      <td>30.0</td>\n",
       "      <td>30.0</td>\n",
       "      <td>30.0</td>\n",
       "      <td>11.500</td>\n",
       "      <td>30.0</td>\n",
       "      <td>30.0</td>\n",
       "      <td>13.267</td>\n",
       "      <td>...</td>\n",
       "      <td>0.0</td>\n",
       "      <td>0.0</td>\n",
       "      <td>0.0</td>\n",
       "      <td>0.0</td>\n",
       "      <td>0.0</td>\n",
       "      <td>0.0</td>\n",
       "      <td>0.0</td>\n",
       "      <td>0.0</td>\n",
       "      <td>0.0</td>\n",
       "      <td>0</td>\n",
       "    </tr>\n",
       "    <tr>\n",
       "      <th>2084</th>\n",
       "      <td>131384044</td>\n",
       "      <td>3</td>\n",
       "      <td>30.0</td>\n",
       "      <td>30.0</td>\n",
       "      <td>30.0</td>\n",
       "      <td>30.0</td>\n",
       "      <td>13.200</td>\n",
       "      <td>30.0</td>\n",
       "      <td>30.0</td>\n",
       "      <td>13.900</td>\n",
       "      <td>...</td>\n",
       "      <td>0.0</td>\n",
       "      <td>0.0</td>\n",
       "      <td>0.0</td>\n",
       "      <td>0.0</td>\n",
       "      <td>0.0</td>\n",
       "      <td>0.0</td>\n",
       "      <td>0.0</td>\n",
       "      <td>0.0</td>\n",
       "      <td>0.0</td>\n",
       "      <td>1</td>\n",
       "    </tr>\n",
       "  </tbody>\n",
       "</table>\n",
       "<p>136 rows × 32 columns</p>\n",
       "</div>"
      ],
      "text/plain": [
       "             Id  Program  Y0s1_enrol  Y0s2_enrol  Y1s1_enrol  Y1s1_complete  \\\n",
       "20    131382670        1        30.0        36.0        30.0           30.0   \n",
       "22    131379484        3        33.0        30.0        30.0           27.0   \n",
       "25    131388192        2        30.0        30.0        30.0           30.0   \n",
       "64    131382910        3        30.0        30.0        30.0           30.0   \n",
       "65    131386325        0        30.0        30.0        30.0           19.0   \n",
       "...         ...      ...         ...         ...         ...            ...   \n",
       "1961  131385007        2        30.0        30.0        30.0           30.0   \n",
       "2009  131389489        2        30.0        36.0        30.0           30.0   \n",
       "2052  131383541        2        30.0        33.0        30.0           30.0   \n",
       "2075  131379416        3        30.0        30.0        30.0           30.0   \n",
       "2084  131384044        3        30.0        30.0        30.0           30.0   \n",
       "\n",
       "      Y1s1_grade  Y1s2_enrol  Y1s2_complete  Y1s2_grade  ...  Y4s1_enrol  \\\n",
       "20        13.100        30.0           30.0      12.800  ...         0.0   \n",
       "22        12.111        30.0           30.0      13.367  ...         0.0   \n",
       "25        14.467        30.0           30.0      15.350  ...         0.0   \n",
       "64        15.700        30.0           30.0      15.333  ...         0.0   \n",
       "65        11.368        30.0           24.0      13.167  ...         0.0   \n",
       "...          ...         ...            ...         ...  ...         ...   \n",
       "1961      14.500        30.0           30.0      16.600  ...         0.0   \n",
       "2009      13.033        30.0           30.0      14.233  ...         0.0   \n",
       "2052      11.900        30.0           27.0      12.556  ...         0.0   \n",
       "2075      11.500        30.0           30.0      13.267  ...         0.0   \n",
       "2084      13.200        30.0           30.0      13.900  ...         0.0   \n",
       "\n",
       "      Y4s1_complete  Y4s1_grade  Y4s2_enrol  Y4s2_complete  Y4s2_grade  \\\n",
       "20              0.0         0.0         0.0            0.0         0.0   \n",
       "22              0.0         0.0         0.0            0.0         0.0   \n",
       "25              0.0         0.0         0.0            0.0         0.0   \n",
       "64              0.0         0.0         0.0            0.0         0.0   \n",
       "65              0.0         0.0         0.0            0.0         0.0   \n",
       "...             ...         ...         ...            ...         ...   \n",
       "1961            0.0         0.0         0.0            0.0         0.0   \n",
       "2009            0.0         0.0         0.0            0.0         0.0   \n",
       "2052            0.0         0.0         0.0            0.0         0.0   \n",
       "2075            0.0         0.0         0.0            0.0         0.0   \n",
       "2084            0.0         0.0         0.0            0.0         0.0   \n",
       "\n",
       "      Rest_enrol  Rest_complete  Rest_grade  Failure  \n",
       "20           0.0            0.0         0.0        0  \n",
       "22           0.0            0.0         0.0        0  \n",
       "25           0.0            0.0         0.0        0  \n",
       "64           0.0            0.0         0.0        0  \n",
       "65           0.0            0.0         0.0        1  \n",
       "...          ...            ...         ...      ...  \n",
       "1961         0.0            0.0         0.0        0  \n",
       "2009         0.0            0.0         0.0        0  \n",
       "2052         0.0            0.0         0.0        0  \n",
       "2075         0.0            0.0         0.0        0  \n",
       "2084         0.0            0.0         0.0        1  \n",
       "\n",
       "[136 rows x 32 columns]"
      ]
     },
     "execution_count": 9,
     "metadata": {},
     "output_type": "execute_result"
    }
   ],
   "source": [
    "dados_toplot.dropna() #Tirariamos a maioria do dataset - manter outliers"
   ]
  },
  {
   "cell_type": "code",
   "execution_count": 10,
   "id": "c1642349",
   "metadata": {
    "colab": {
     "base_uri": "https://localhost:8080/",
     "height": 248
    },
    "id": "c1642349",
    "outputId": "85856cd1-ad76-45d9-d571-d7e7d16e49c9"
   },
   "outputs": [
    {
     "data": {
      "image/png": "[encoded data removed]",
      "text/plain": [
       "<Figure size 432x288 with 1 Axes>"
      ]
     },
     "metadata": {},
     "output_type": "display_data"
    }
   ],
   "source": [
    "import matplotlib.pyplot as plt\n",
    "import numpy as np\n",
    "lis=[]\n",
    "for e,x in zip(data['Program'].value_counts().index,data['Program'].value_counts().values):\n",
    "    lis.append(str(e)+' - '+str(x))\n",
    "y = np.array(data['Program'].value_counts().values)\n",
    "mylabels = np.array(lis)\n",
    "\n",
    "plt.pie(y, labels = mylabels)\n",
    "plt.show() "
   ]
  },
  {
   "cell_type": "code",
   "execution_count": 11,
   "id": "be0cbe0b",
   "metadata": {
    "colab": {
     "base_uri": "https://localhost:8080/",
     "height": 248
    },
    "id": "be0cbe0b",
    "outputId": "827b7617-5428-4429-bf9b-968782cff19f",
    "scrolled": true
   },
   "outputs": [
    {
     "data": {
      "image/png": "[encoded data removed]",
      "text/plain": [
       "<Figure size 432x288 with 1 Axes>"
      ]
     },
     "metadata": {},
     "output_type": "display_data"
    }
   ],
   "source": [
    "import matplotlib.pyplot as plt\n",
    "import numpy as np\n",
    "lis=[]\n",
    "for e,x in zip(data['Failure'].value_counts().index,data['Failure'].value_counts().values):\n",
    "    lis.append(str(e)+' - '+str(x))\n",
    "y = np.array(data['Failure'].value_counts().values)\n",
    "mylabels = np.array(lis)\n",
    "\n",
    "plt.pie(y, labels = mylabels)\n",
    "plt.legend(['Sucesso','Insucesso'])\n",
    "plt.show() "
   ]
  },
  {
   "cell_type": "markdown",
   "id": "538f5c95",
   "metadata": {},
   "source": [
    "# Experiência 1 -Escolha do Modelo"
   ]
  },
  {
   "cell_type": "code",
   "execution_count": 12,
   "id": "3390f395",
   "metadata": {
    "id": "3390f395"
   },
   "outputs": [],
   "source": [
    "Y=data['Failure']\n",
    "X=data.drop(columns=['Failure'])"
   ]
  },
  {
   "cell_type": "code",
   "execution_count": 13,
   "id": "3d085580",
   "metadata": {
    "id": "3d085580"
   },
   "outputs": [],
   "source": [
    "X_train, X_test, y_train, y_test = train_test_split(X, Y, test_size=0.20, random_state=42)"
   ]
  },
  {
   "cell_type": "code",
   "execution_count": 14,
   "id": "d9c1dfe4",
   "metadata": {},
   "outputs": [],
   "source": [
    "modelos_para_experimentar=[DecisionTreeClassifier(random_state=10),RandomForestClassifier(random_state=10),\\\n",
    "            ExtraTreesClassifier(random_state=1),GradientBoostingClassifier(random_state=10),\\\n",
    "            KNeighborsClassifier(),GaussianNB(),SVC(random_state=10)]"
   ]
  },
  {
   "cell_type": "code",
   "execution_count": 15,
   "id": "6ac9987c",
   "metadata": {
    "colab": {
     "base_uri": "https://localhost:8080/"
    },
    "id": "6ac9987c",
    "outputId": "17b931e9-8bc2-4794-8552-84ea5313773a"
   },
   "outputs": [
    {
     "name": "stdout",
     "output_type": "stream",
     "text": [
      "Média da Precisão dos Folds: 0.899\n",
      "Média do Recall dos Folds: 0.886\n",
      "DecisionTreeClassifier(random_state=10)\n",
      "Classification Report-Test\n",
      "               precision    recall  f1-score   support\n",
      "\n",
      "           0       0.96      0.94      0.95       310\n",
      "           1       0.83      0.90      0.87       112\n",
      "\n",
      "    accuracy                           0.93       422\n",
      "   macro avg       0.90      0.92      0.91       422\n",
      "weighted avg       0.93      0.93      0.93       422\n",
      "\n",
      "Média da Precisão dos Folds: 0.885\n",
      "Média do Recall dos Folds: 0.95\n",
      "RandomForestClassifier(random_state=10)\n",
      "Classification Report-Test\n",
      "               precision    recall  f1-score   support\n",
      "\n",
      "           0       0.96      0.98      0.97       310\n",
      "           1       0.95      0.89      0.92       112\n",
      "\n",
      "    accuracy                           0.96       422\n",
      "   macro avg       0.96      0.94      0.95       422\n",
      "weighted avg       0.96      0.96      0.96       422\n",
      "\n",
      "Média da Precisão dos Folds: 0.869\n",
      "Média do Recall dos Folds: 0.946\n",
      "ExtraTreesClassifier(random_state=1)\n",
      "Classification Report-Test\n",
      "               precision    recall  f1-score   support\n",
      "\n",
      "           0       0.95      0.99      0.97       310\n",
      "           1       0.97      0.86      0.91       112\n",
      "\n",
      "    accuracy                           0.95       422\n",
      "   macro avg       0.96      0.92      0.94       422\n",
      "weighted avg       0.96      0.95      0.95       422\n",
      "\n",
      "Média da Precisão dos Folds: 0.9\n",
      "Média do Recall dos Folds: 0.953\n",
      "GradientBoostingClassifier(random_state=10)\n",
      "Classification Report-Test\n",
      "               precision    recall  f1-score   support\n",
      "\n",
      "           0       0.96      0.99      0.97       310\n",
      "           1       0.96      0.89      0.93       112\n",
      "\n",
      "    accuracy                           0.96       422\n",
      "   macro avg       0.96      0.94      0.95       422\n",
      "weighted avg       0.96      0.96      0.96       422\n",
      "\n",
      "Média da Precisão dos Folds: 0.588\n",
      "Média do Recall dos Folds: 0.84\n",
      "KNeighborsClassifier()\n",
      "Classification Report-Test\n",
      "               precision    recall  f1-score   support\n",
      "\n",
      "           0       0.85      0.95      0.90       310\n",
      "           1       0.79      0.54      0.64       112\n",
      "\n",
      "    accuracy                           0.84       422\n",
      "   macro avg       0.82      0.74      0.77       422\n",
      "weighted avg       0.83      0.84      0.83       422\n",
      "\n",
      "Média da Precisão dos Folds: 0.664\n",
      "Média do Recall dos Folds: 0.399\n",
      "GaussianNB()\n",
      "Classification Report-Test\n",
      "               precision    recall  f1-score   support\n",
      "\n",
      "           0       0.92      0.87      0.90       310\n",
      "           1       0.69      0.79      0.74       112\n",
      "\n",
      "    accuracy                           0.85       422\n",
      "   macro avg       0.81      0.83      0.82       422\n",
      "weighted avg       0.86      0.85      0.85       422\n",
      "\n",
      "Média da Precisão dos Folds: 0.0\n",
      "Média do Recall dos Folds: 0.0\n",
      "SVC(random_state=10)\n",
      "Classification Report-Test\n",
      "               precision    recall  f1-score   support\n",
      "\n",
      "           0       0.73      1.00      0.85       310\n",
      "           1       0.00      0.00      0.00       112\n",
      "\n",
      "    accuracy                           0.73       422\n",
      "   macro avg       0.37      0.50      0.42       422\n",
      "weighted avg       0.54      0.73      0.62       422\n",
      "\n"
     ]
    }
   ],
   "source": [
    "for clf in modelos_para_experimentar:\n",
    "    clf.fit(X_train,y_train)    \n",
    "    score_recall=cross_val_score(clf, X=X, y=Y, cv=5, scoring='recall').mean().round(3)\n",
    "    score_prec=cross_val_score(clf, X=X, y=Y, cv=5, scoring='precision').mean().round(3)\n",
    "    print('Média da Precisão dos Folds:',score_recall)\n",
    "    print('Média do Recall dos Folds:',score_prec)\n",
    "    y_pred=clf.predict(X_test)\n",
    "    print(str(clf))\n",
    "    print('Classification Report-Test\\n',classification_report(y_test,y_pred))"
   ]
  },
  {
   "cell_type": "markdown",
   "id": "d947cfb4",
   "metadata": {},
   "source": [
    "### Experimentar uma rede neuronal"
   ]
  },
  {
   "cell_type": "code",
   "execution_count": 16,
   "id": "6659b4f9",
   "metadata": {
    "id": "eTAA8JcC0zZW"
   },
   "outputs": [],
   "source": [
    "Y=data['Failure']\n",
    "X=data.drop(columns=['Failure'])\n",
    "X_train, X_test, y_train, y_test = train_test_split(X, Y, test_size=0.20, random_state=42)"
   ]
  },
  {
   "cell_type": "code",
   "execution_count": 17,
   "id": "31259617",
   "metadata": {
    "id": "Q27BbNRJ6NxB"
   },
   "outputs": [],
   "source": [
    "mlp=MLPClassifier(hidden_layer_sizes=(128,16), verbose=True,activation='relu', solver='adam', learning_rate_init=0.1, shuffle=True, random_state=10, momentum=0.9)"
   ]
  },
  {
   "cell_type": "code",
   "execution_count": 18,
   "id": "27a3a7c9",
   "metadata": {
    "colab": {
     "base_uri": "https://localhost:8080/"
    },
    "id": "WbAZJ5Vo5-ag",
    "outputId": "069331d4-dc42-41f0-8e04-a54d1f7ea6f2"
   },
   "outputs": [
    {
     "name": "stdout",
     "output_type": "stream",
     "text": [
      "Iteration 1, loss = 14.92322585\n",
      "Iteration 2, loss = 4.71956410\n",
      "Iteration 3, loss = 0.59389388\n",
      "Iteration 4, loss = 0.59705824\n",
      "Iteration 5, loss = 0.59520041\n",
      "Iteration 6, loss = 0.59277274\n",
      "Iteration 7, loss = 0.59206297\n",
      "Iteration 8, loss = 0.59198601\n",
      "Iteration 9, loss = 0.59192344\n",
      "Iteration 10, loss = 0.59188123\n",
      "Iteration 11, loss = 0.59216291\n",
      "Iteration 12, loss = 0.59203877\n",
      "Iteration 13, loss = 0.59193306\n",
      "Iteration 14, loss = 0.59192187\n",
      "Iteration 15, loss = 0.59203880\n",
      "Iteration 16, loss = 0.59190417\n",
      "Iteration 17, loss = 0.59194604\n",
      "Iteration 18, loss = 0.59207148\n",
      "Training loss did not improve more than tol=0.000100 for 10 consecutive epochs. Stopping.\n"
     ]
    },
    {
     "data": {
      "text/html": [
       "<style>#sk-container-id-1 {color: black;background-color: white;}#sk-container-id-1 pre{padding: 0;}#sk-container-id-1 div.sk-toggleable {background-color: white;}#sk-container-id-1 label.sk-toggleable__label {cursor: pointer;display: block;width: 100%;margin-bottom: 0;padding: 0.3em;box-sizing: border-box;text-align: center;}#sk-container-id-1 label.sk-toggleable__label-arrow:before {content: \"▸\";float: left;margin-right: 0.25em;color: #696969;}#sk-container-id-1 label.sk-toggleable__label-arrow:hover:before {color: black;}#sk-container-id-1 div.sk-estimator:hover label.sk-toggleable__label-arrow:before {color: black;}#sk-container-id-1 div.sk-toggleable__content {max-height: 0;max-width: 0;overflow: hidden;text-align: left;background-color: #f0f8ff;}#sk-container-id-1 div.sk-toggleable__content pre {margin: 0.2em;color: black;border-radius: 0.25em;background-color: #f0f8ff;}#sk-container-id-1 input.sk-toggleable__control:checked~div.sk-toggleable__content {max-height: 200px;max-width: 100%;overflow: auto;}#sk-container-id-1 input.sk-toggleable__control:checked~label.sk-toggleable__label-arrow:before {content: \"▾\";}#sk-container-id-1 div.sk-estimator input.sk-toggleable__control:checked~label.sk-toggleable__label {background-color: #d4ebff;}#sk-container-id-1 div.sk-label input.sk-toggleable__control:checked~label.sk-toggleable__label {background-color: #d4ebff;}#sk-container-id-1 input.sk-hidden--visually {border: 0;clip: rect(1px 1px 1px 1px);clip: rect(1px, 1px, 1px, 1px);height: 1px;margin: -1px;overflow: hidden;padding: 0;position: absolute;width: 1px;}#sk-container-id-1 div.sk-estimator {font-family: monospace;background-color: #f0f8ff;border: 1px dotted black;border-radius: 0.25em;box-sizing: border-box;margin-bottom: 0.5em;}#sk-container-id-1 div.sk-estimator:hover {background-color: #d4ebff;}#sk-container-id-1 div.sk-parallel-item::after {content: \"\";width: 100%;border-bottom: 1px solid gray;flex-grow: 1;}#sk-container-id-1 div.sk-label:hover label.sk-toggleable__label {background-color: #d4ebff;}#sk-container-id-1 div.sk-serial::before {content: \"\";position: absolute;border-left: 1px solid gray;box-sizing: border-box;top: 0;bottom: 0;left: 50%;z-index: 0;}#sk-container-id-1 div.sk-serial {display: flex;flex-direction: column;align-items: center;background-color: white;padding-right: 0.2em;padding-left: 0.2em;position: relative;}#sk-container-id-1 div.sk-item {position: relative;z-index: 1;}#sk-container-id-1 div.sk-parallel {display: flex;align-items: stretch;justify-content: center;background-color: white;position: relative;}#sk-container-id-1 div.sk-item::before, #sk-container-id-1 div.sk-parallel-item::before {content: \"\";position: absolute;border-left: 1px solid gray;box-sizing: border-box;top: 0;bottom: 0;left: 50%;z-index: -1;}#sk-container-id-1 div.sk-parallel-item {display: flex;flex-direction: column;z-index: 1;position: relative;background-color: white;}#sk-container-id-1 div.sk-parallel-item:first-child::after {align-self: flex-end;width: 50%;}#sk-container-id-1 div.sk-parallel-item:last-child::after {align-self: flex-start;width: 50%;}#sk-container-id-1 div.sk-parallel-item:only-child::after {width: 0;}#sk-container-id-1 div.sk-dashed-wrapped {border: 1px dashed gray;margin: 0 0.4em 0.5em 0.4em;box-sizing: border-box;padding-bottom: 0.4em;background-color: white;}#sk-container-id-1 div.sk-label label {font-family: monospace;font-weight: bold;display: inline-block;line-height: 1.2em;}#sk-container-id-1 div.sk-label-container {text-align: center;}#sk-container-id-1 div.sk-container {/* jupyter's `normalize.less` sets `[hidden] { display: none; }` but bootstrap.min.css set `[hidden] { display: none !important; }` so we also need the `!important` here to be able to override the default hidden behavior on the sphinx rendered scikit-learn.org. See: https://github.com/scikit-learn/scikit-learn/issues/21755 */display: inline-block !important;position: relative;}#sk-container-id-1 div.sk-text-repr-fallback {display: none;}</style><div id=\"sk-container-id-1\" class=\"sk-top-container\"><div class=\"sk-text-repr-fallback\"><pre>MLPClassifier(hidden_layer_sizes=(128, 16), learning_rate_init=0.1,\n",
       "              random_state=10, verbose=True)</pre><b>In a Jupyter environment, please rerun this cell to show the HTML representation or trust the notebook. <br />On GitHub, the HTML representation is unable to render, please try loading this page with nbviewer.org.</b></div><div class=\"sk-container\" hidden><div class=\"sk-item\"><div class=\"sk-estimator sk-toggleable\"><input class=\"sk-toggleable__control sk-hidden--visually\" id=\"sk-estimator-id-1\" type=\"checkbox\" checked><label for=\"sk-estimator-id-1\" class=\"sk-toggleable__label sk-toggleable__label-arrow\">MLPClassifier</label><div class=\"sk-toggleable__content\"><pre>MLPClassifier(hidden_layer_sizes=(128, 16), learning_rate_init=0.1,\n",
       "              random_state=10, verbose=True)</pre></div></div></div></div></div>"
      ],
      "text/plain": [
       "MLPClassifier(hidden_layer_sizes=(128, 16), learning_rate_init=0.1,\n",
       "              random_state=10, verbose=True)"
      ]
     },
     "execution_count": 18,
     "metadata": {},
     "output_type": "execute_result"
    }
   ],
   "source": [
    "mlp.fit(X_train,y_train)"
   ]
  },
  {
   "cell_type": "code",
   "execution_count": 19,
   "id": "979c64e3",
   "metadata": {
    "id": "K5Dfcu4s5-dQ"
   },
   "outputs": [],
   "source": [
    "y_pred=mlp.predict(X_test)"
   ]
  },
  {
   "cell_type": "code",
   "execution_count": 20,
   "id": "5a56e8ef",
   "metadata": {
    "colab": {
     "base_uri": "https://localhost:8080/"
    },
    "id": "wfjkRZ315-gI",
    "outputId": "e3694e01-1360-490f-93bc-7b41f90a8919"
   },
   "outputs": [
    {
     "data": {
      "text/plain": [
       "0.0"
      ]
     },
     "execution_count": 20,
     "metadata": {},
     "output_type": "execute_result"
    }
   ],
   "source": [
    "recall_score(y_test.to_list(),y_pred)"
   ]
  },
  {
   "cell_type": "markdown",
   "id": "b1c3c27f",
   "metadata": {},
   "source": [
    "### Avaliar o melhor modelo"
   ]
  },
  {
   "cell_type": "code",
   "execution_count": 21,
   "id": "84f748bb",
   "metadata": {},
   "outputs": [],
   "source": [
    "Y=data['Failure']\n",
    "X=data.drop(columns=['Failure'])\n",
    "X_train, X_test, y_train, y_test = train_test_split(X, Y, test_size=0.20, random_state=42)"
   ]
  },
  {
   "cell_type": "code",
   "execution_count": 22,
   "id": "4d147e98",
   "metadata": {
    "id": "4d147e98"
   },
   "outputs": [],
   "source": [
    "gb=GradientBoostingClassifier(random_state=10)"
   ]
  },
  {
   "cell_type": "code",
   "execution_count": 23,
   "id": "7fe6934e",
   "metadata": {
    "colab": {
     "base_uri": "https://localhost:8080/"
    },
    "id": "7fe6934e",
    "outputId": "ee52bcc5-67a0-4f18-aaba-6bf88decebc3"
   },
   "outputs": [
    {
     "data": {
      "text/html": [
       "<style>#sk-container-id-2 {color: black;background-color: white;}#sk-container-id-2 pre{padding: 0;}#sk-container-id-2 div.sk-toggleable {background-color: white;}#sk-container-id-2 label.sk-toggleable__label {cursor: pointer;display: block;width: 100%;margin-bottom: 0;padding: 0.3em;box-sizing: border-box;text-align: center;}#sk-container-id-2 label.sk-toggleable__label-arrow:before {content: \"▸\";float: left;margin-right: 0.25em;color: #696969;}#sk-container-id-2 label.sk-toggleable__label-arrow:hover:before {color: black;}#sk-container-id-2 div.sk-estimator:hover label.sk-toggleable__label-arrow:before {color: black;}#sk-container-id-2 div.sk-toggleable__content {max-height: 0;max-width: 0;overflow: hidden;text-align: left;background-color: #f0f8ff;}#sk-container-id-2 div.sk-toggleable__content pre {margin: 0.2em;color: black;border-radius: 0.25em;background-color: #f0f8ff;}#sk-container-id-2 input.sk-toggleable__control:checked~div.sk-toggleable__content {max-height: 200px;max-width: 100%;overflow: auto;}#sk-container-id-2 input.sk-toggleable__control:checked~label.sk-toggleable__label-arrow:before {content: \"▾\";}#sk-container-id-2 div.sk-estimator input.sk-toggleable__control:checked~label.sk-toggleable__label {background-color: #d4ebff;}#sk-container-id-2 div.sk-label input.sk-toggleable__control:checked~label.sk-toggleable__label {background-color: #d4ebff;}#sk-container-id-2 input.sk-hidden--visually {border: 0;clip: rect(1px 1px 1px 1px);clip: rect(1px, 1px, 1px, 1px);height: 1px;margin: -1px;overflow: hidden;padding: 0;position: absolute;width: 1px;}#sk-container-id-2 div.sk-estimator {font-family: monospace;background-color: #f0f8ff;border: 1px dotted black;border-radius: 0.25em;box-sizing: border-box;margin-bottom: 0.5em;}#sk-container-id-2 div.sk-estimator:hover {background-color: #d4ebff;}#sk-container-id-2 div.sk-parallel-item::after {content: \"\";width: 100%;border-bottom: 1px solid gray;flex-grow: 1;}#sk-container-id-2 div.sk-label:hover label.sk-toggleable__label {background-color: #d4ebff;}#sk-container-id-2 div.sk-serial::before {content: \"\";position: absolute;border-left: 1px solid gray;box-sizing: border-box;top: 0;bottom: 0;left: 50%;z-index: 0;}#sk-container-id-2 div.sk-serial {display: flex;flex-direction: column;align-items: center;background-color: white;padding-right: 0.2em;padding-left: 0.2em;position: relative;}#sk-container-id-2 div.sk-item {position: relative;z-index: 1;}#sk-container-id-2 div.sk-parallel {display: flex;align-items: stretch;justify-content: center;background-color: white;position: relative;}#sk-container-id-2 div.sk-item::before, #sk-container-id-2 div.sk-parallel-item::before {content: \"\";position: absolute;border-left: 1px solid gray;box-sizing: border-box;top: 0;bottom: 0;left: 50%;z-index: -1;}#sk-container-id-2 div.sk-parallel-item {display: flex;flex-direction: column;z-index: 1;position: relative;background-color: white;}#sk-container-id-2 div.sk-parallel-item:first-child::after {align-self: flex-end;width: 50%;}#sk-container-id-2 div.sk-parallel-item:last-child::after {align-self: flex-start;width: 50%;}#sk-container-id-2 div.sk-parallel-item:only-child::after {width: 0;}#sk-container-id-2 div.sk-dashed-wrapped {border: 1px dashed gray;margin: 0 0.4em 0.5em 0.4em;box-sizing: border-box;padding-bottom: 0.4em;background-color: white;}#sk-container-id-2 div.sk-label label {font-family: monospace;font-weight: bold;display: inline-block;line-height: 1.2em;}#sk-container-id-2 div.sk-label-container {text-align: center;}#sk-container-id-2 div.sk-container {/* jupyter's `normalize.less` sets `[hidden] { display: none; }` but bootstrap.min.css set `[hidden] { display: none !important; }` so we also need the `!important` here to be able to override the default hidden behavior on the sphinx rendered scikit-learn.org. See: https://github.com/scikit-learn/scikit-learn/issues/21755 */display: inline-block !important;position: relative;}#sk-container-id-2 div.sk-text-repr-fallback {display: none;}</style><div id=\"sk-container-id-2\" class=\"sk-top-container\"><div class=\"sk-text-repr-fallback\"><pre>GradientBoostingClassifier(random_state=10)</pre><b>In a Jupyter environment, please rerun this cell to show the HTML representation or trust the notebook. <br />On GitHub, the HTML representation is unable to render, please try loading this page with nbviewer.org.</b></div><div class=\"sk-container\" hidden><div class=\"sk-item\"><div class=\"sk-estimator sk-toggleable\"><input class=\"sk-toggleable__control sk-hidden--visually\" id=\"sk-estimator-id-2\" type=\"checkbox\" checked><label for=\"sk-estimator-id-2\" class=\"sk-toggleable__label sk-toggleable__label-arrow\">GradientBoostingClassifier</label><div class=\"sk-toggleable__content\"><pre>GradientBoostingClassifier(random_state=10)</pre></div></div></div></div></div>"
      ],
      "text/plain": [
       "GradientBoostingClassifier(random_state=10)"
      ]
     },
     "execution_count": 23,
     "metadata": {},
     "output_type": "execute_result"
    }
   ],
   "source": [
    "gb.fit(X_train,y_train) "
   ]
  },
  {
   "cell_type": "code",
   "execution_count": 24,
   "id": "2d81f6e8",
   "metadata": {
    "id": "2d81f6e8"
   },
   "outputs": [],
   "source": [
    "y_pred=gb.predict(X_test)"
   ]
  },
  {
   "cell_type": "code",
   "execution_count": 25,
   "id": "b8d9c6ff",
   "metadata": {
    "colab": {
     "base_uri": "https://localhost:8080/"
    },
    "id": "b8d9c6ff",
    "outputId": "c5d233df-3df1-4918-e966-f4440ef16a70"
   },
   "outputs": [
    {
     "name": "stdout",
     "output_type": "stream",
     "text": [
      "              precision    recall  f1-score   support\n",
      "\n",
      "           0       0.96      0.99      0.97       310\n",
      "           1       0.96      0.89      0.93       112\n",
      "\n",
      "    accuracy                           0.96       422\n",
      "   macro avg       0.96      0.94      0.95       422\n",
      "weighted avg       0.96      0.96      0.96       422\n",
      "\n"
     ]
    }
   ],
   "source": [
    "print(classification_report(y_test,y_pred))"
   ]
  },
  {
   "cell_type": "code",
   "execution_count": 26,
   "id": "Hj6aXjxkpAix",
   "metadata": {
    "colab": {
     "base_uri": "https://localhost:8080/"
    },
    "id": "Hj6aXjxkpAix",
    "outputId": "1728d08c-976c-495b-ad71-57d4533f1703"
   },
   "outputs": [
    {
     "data": {
      "text/plain": [
       "0.8928571428571429"
      ]
     },
     "execution_count": 26,
     "metadata": {},
     "output_type": "execute_result"
    }
   ],
   "source": [
    "recall_score(y_test,y_pred) #USAR PARA COMPARAR COM GRID SEARCH"
   ]
  },
  {
   "cell_type": "code",
   "execution_count": 27,
   "id": "20232fd5",
   "metadata": {},
   "outputs": [
    {
     "data": {
      "text/plain": [
       "0.9615384615384616"
      ]
     },
     "execution_count": 27,
     "metadata": {},
     "output_type": "execute_result"
    }
   ],
   "source": [
    "precision_score(y_test,y_pred) #maior que 70%"
   ]
  },
  {
   "cell_type": "markdown",
   "id": "25a9ad1e",
   "metadata": {},
   "source": [
    "# Experiência 2 - Otimização do Modelo"
   ]
  },
  {
   "cell_type": "code",
   "execution_count": 28,
   "id": "B-nutgydwX7M",
   "metadata": {
    "id": "B-nutgydwX7M"
   },
   "outputs": [],
   "source": [
    "Y=data['Failure']\n",
    "X=data.drop(columns=['Failure'])\n",
    "X_train, X_test, y_train, y_test = train_test_split(X, Y, test_size=0.20, random_state=42)\n",
    "parameters ={'learning_rate':[0.001,0.01,0.05,0.1], 'n_estimators':[50,100,200], 'max_depth':[1,2,3,4,5]}"
   ]
  },
  {
   "cell_type": "code",
   "execution_count": 29,
   "id": "99e7c40c",
   "metadata": {
    "id": "99e7c40c"
   },
   "outputs": [],
   "source": [
    "grid=GridSearchCV(gb,parameters,scoring='recall',cv=5,verbose=3)"
   ]
  },
  {
   "cell_type": "code",
   "execution_count": 30,
   "id": "1a2212c6",
   "metadata": {
    "colab": {
     "base_uri": "https://localhost:8080/"
    },
    "id": "1a2212c6",
    "outputId": "2dc47fae-3a9a-4077-c9b8-8f41a9f49719"
   },
   "outputs": [
    {
     "name": "stdout",
     "output_type": "stream",
     "text": [
      "Fitting 5 folds for each of 60 candidates, totalling 300 fits\n",
      "[CV 1/5] END learning_rate=0.001, max_depth=1, n_estimators=50;, score=0.000 total time=   0.0s\n",
      "[CV 2/5] END learning_rate=0.001, max_depth=1, n_estimators=50;, score=0.000 total time=   0.0s\n",
      "[CV 3/5] END learning_rate=0.001, max_depth=1, n_estimators=50;, score=0.000 total time=   0.0s\n",
      "[CV 4/5] END learning_rate=0.001, max_depth=1, n_estimators=50;, score=0.000 total time=   0.0s\n",
      "[CV 5/5] END learning_rate=0.001, max_depth=1, n_estimators=50;, score=0.000 total time=   0.0s\n",
      "[CV 1/5] END learning_rate=0.001, max_depth=1, n_estimators=100;, score=0.000 total time=   0.0s\n",
      "[CV 2/5] END learning_rate=0.001, max_depth=1, n_estimators=100;, score=0.000 total time=   0.0s\n",
      "[CV 3/5] END learning_rate=0.001, max_depth=1, n_estimators=100;, score=0.000 total time=   0.0s\n",
      "[CV 4/5] END learning_rate=0.001, max_depth=1, n_estimators=100;, score=0.000 total time=   0.0s\n",
      "[CV 5/5] END learning_rate=0.001, max_depth=1, n_estimators=100;, score=0.000 total time=   0.0s\n",
      "[CV 1/5] END learning_rate=0.001, max_depth=1, n_estimators=200;, score=0.000 total time=   0.2s\n",
      "[CV 2/5] END learning_rate=0.001, max_depth=1, n_estimators=200;, score=0.000 total time=   0.2s\n",
      "[CV 3/5] END learning_rate=0.001, max_depth=1, n_estimators=200;, score=0.000 total time=   0.2s\n",
      "[CV 4/5] END learning_rate=0.001, max_depth=1, n_estimators=200;, score=0.000 total time=   0.2s\n",
      "[CV 5/5] END learning_rate=0.001, max_depth=1, n_estimators=200;, score=0.000 total time=   0.2s\n",
      "[CV 1/5] END learning_rate=0.001, max_depth=2, n_estimators=50;, score=0.000 total time=   0.0s\n",
      "[CV 2/5] END learning_rate=0.001, max_depth=2, n_estimators=50;, score=0.000 total time=   0.0s\n",
      "[CV 3/5] END learning_rate=0.001, max_depth=2, n_estimators=50;, score=0.000 total time=   0.0s\n",
      "[CV 4/5] END learning_rate=0.001, max_depth=2, n_estimators=50;, score=0.000 total time=   0.0s\n",
      "[CV 5/5] END learning_rate=0.001, max_depth=2, n_estimators=50;, score=0.000 total time=   0.1s\n",
      "[CV 1/5] END learning_rate=0.001, max_depth=2, n_estimators=100;, score=0.000 total time=   0.1s\n",
      "[CV 2/5] END learning_rate=0.001, max_depth=2, n_estimators=100;, score=0.000 total time=   0.2s\n",
      "[CV 3/5] END learning_rate=0.001, max_depth=2, n_estimators=100;, score=0.000 total time=   0.1s\n",
      "[CV 4/5] END learning_rate=0.001, max_depth=2, n_estimators=100;, score=0.000 total time=   0.1s\n",
      "[CV 5/5] END learning_rate=0.001, max_depth=2, n_estimators=100;, score=0.000 total time=   0.1s\n",
      "[CV 1/5] END learning_rate=0.001, max_depth=2, n_estimators=200;, score=0.000 total time=   0.4s\n",
      "[CV 2/5] END learning_rate=0.001, max_depth=2, n_estimators=200;, score=0.000 total time=   0.4s\n",
      "[CV 3/5] END learning_rate=0.001, max_depth=2, n_estimators=200;, score=0.000 total time=   0.4s\n",
      "[CV 4/5] END learning_rate=0.001, max_depth=2, n_estimators=200;, score=0.000 total time=   0.4s\n",
      "[CV 5/5] END learning_rate=0.001, max_depth=2, n_estimators=200;, score=0.000 total time=   0.4s\n",
      "[CV 1/5] END learning_rate=0.001, max_depth=3, n_estimators=50;, score=0.000 total time=   0.1s\n",
      "[CV 2/5] END learning_rate=0.001, max_depth=3, n_estimators=50;, score=0.000 total time=   0.1s\n",
      "[CV 3/5] END learning_rate=0.001, max_depth=3, n_estimators=50;, score=0.000 total time=   0.1s\n",
      "[CV 4/5] END learning_rate=0.001, max_depth=3, n_estimators=50;, score=0.000 total time=   0.1s\n",
      "[CV 5/5] END learning_rate=0.001, max_depth=3, n_estimators=50;, score=0.000 total time=   0.1s\n",
      "[CV 1/5] END learning_rate=0.001, max_depth=3, n_estimators=100;, score=0.000 total time=   0.2s\n",
      "[CV 2/5] END learning_rate=0.001, max_depth=3, n_estimators=100;, score=0.000 total time=   0.2s\n",
      "[CV 3/5] END learning_rate=0.001, max_depth=3, n_estimators=100;, score=0.000 total time=   0.2s\n",
      "[CV 4/5] END learning_rate=0.001, max_depth=3, n_estimators=100;, score=0.000 total time=   0.3s\n",
      "[CV 5/5] END learning_rate=0.001, max_depth=3, n_estimators=100;, score=0.000 total time=   0.2s\n",
      "[CV 1/5] END learning_rate=0.001, max_depth=3, n_estimators=200;, score=0.000 total time=   0.6s\n",
      "[CV 2/5] END learning_rate=0.001, max_depth=3, n_estimators=200;, score=0.000 total time=   0.6s\n",
      "[CV 3/5] END learning_rate=0.001, max_depth=3, n_estimators=200;, score=0.000 total time=   0.6s\n",
      "[CV 4/5] END learning_rate=0.001, max_depth=3, n_estimators=200;, score=0.000 total time=   0.6s\n",
      "[CV 5/5] END learning_rate=0.001, max_depth=3, n_estimators=200;, score=0.000 total time=   0.6s\n",
      "[CV 1/5] END learning_rate=0.001, max_depth=4, n_estimators=50;, score=0.000 total time=   0.1s\n",
      "[CV 2/5] END learning_rate=0.001, max_depth=4, n_estimators=50;, score=0.000 total time=   0.1s\n",
      "[CV 3/5] END learning_rate=0.001, max_depth=4, n_estimators=50;, score=0.000 total time=   0.1s\n",
      "[CV 4/5] END learning_rate=0.001, max_depth=4, n_estimators=50;, score=0.000 total time=   0.1s\n",
      "[CV 5/5] END learning_rate=0.001, max_depth=4, n_estimators=50;, score=0.000 total time=   0.1s\n",
      "[CV 1/5] END learning_rate=0.001, max_depth=4, n_estimators=100;, score=0.000 total time=   0.4s\n",
      "[CV 2/5] END learning_rate=0.001, max_depth=4, n_estimators=100;, score=0.000 total time=   0.4s\n",
      "[CV 3/5] END learning_rate=0.001, max_depth=4, n_estimators=100;, score=0.000 total time=   0.3s\n",
      "[CV 4/5] END learning_rate=0.001, max_depth=4, n_estimators=100;, score=0.000 total time=   0.3s\n",
      "[CV 5/5] END learning_rate=0.001, max_depth=4, n_estimators=100;, score=0.000 total time=   0.4s\n",
      "[CV 1/5] END learning_rate=0.001, max_depth=4, n_estimators=200;, score=0.000 total time=   0.8s\n",
      "[CV 2/5] END learning_rate=0.001, max_depth=4, n_estimators=200;, score=0.000 total time=   0.8s\n",
      "[CV 3/5] END learning_rate=0.001, max_depth=4, n_estimators=200;, score=0.000 total time=   0.8s\n",
      "[CV 4/5] END learning_rate=0.001, max_depth=4, n_estimators=200;, score=0.000 total time=   0.8s\n",
      "[CV 5/5] END learning_rate=0.001, max_depth=4, n_estimators=200;, score=0.000 total time=   0.8s\n",
      "[CV 1/5] END learning_rate=0.001, max_depth=5, n_estimators=50;, score=0.000 total time=   0.2s\n",
      "[CV 2/5] END learning_rate=0.001, max_depth=5, n_estimators=50;, score=0.000 total time=   0.2s\n",
      "[CV 3/5] END learning_rate=0.001, max_depth=5, n_estimators=50;, score=0.000 total time=   0.2s\n",
      "[CV 4/5] END learning_rate=0.001, max_depth=5, n_estimators=50;, score=0.000 total time=   0.2s\n",
      "[CV 5/5] END learning_rate=0.001, max_depth=5, n_estimators=50;, score=0.000 total time=   0.2s\n",
      "[CV 1/5] END learning_rate=0.001, max_depth=5, n_estimators=100;, score=0.000 total time=   0.5s\n",
      "[CV 2/5] END learning_rate=0.001, max_depth=5, n_estimators=100;, score=0.000 total time=   0.5s\n",
      "[CV 3/5] END learning_rate=0.001, max_depth=5, n_estimators=100;, score=0.000 total time=   0.5s\n",
      "[CV 4/5] END learning_rate=0.001, max_depth=5, n_estimators=100;, score=0.000 total time=   0.5s\n",
      "[CV 5/5] END learning_rate=0.001, max_depth=5, n_estimators=100;, score=0.000 total time=   0.5s\n",
      "[CV 1/5] END learning_rate=0.001, max_depth=5, n_estimators=200;, score=0.000 total time=   1.0s\n",
      "[CV 2/5] END learning_rate=0.001, max_depth=5, n_estimators=200;, score=0.000 total time=   1.1s\n",
      "[CV 3/5] END learning_rate=0.001, max_depth=5, n_estimators=200;, score=0.000 total time=   1.1s\n",
      "[CV 4/5] END learning_rate=0.001, max_depth=5, n_estimators=200;, score=0.000 total time=   1.1s\n",
      "[CV 5/5] END learning_rate=0.001, max_depth=5, n_estimators=200;, score=0.000 total time=   1.1s\n",
      "[CV 1/5] END learning_rate=0.01, max_depth=1, n_estimators=50;, score=0.734 total time=   0.0s\n",
      "[CV 2/5] END learning_rate=0.01, max_depth=1, n_estimators=50;, score=0.755 total time=   0.0s\n",
      "[CV 3/5] END learning_rate=0.01, max_depth=1, n_estimators=50;, score=0.755 total time=   0.0s\n",
      "[CV 4/5] END learning_rate=0.01, max_depth=1, n_estimators=50;, score=0.851 total time=   0.0s\n",
      "[CV 5/5] END learning_rate=0.01, max_depth=1, n_estimators=50;, score=0.787 total time=   0.0s\n",
      "[CV 1/5] END learning_rate=0.01, max_depth=1, n_estimators=100;, score=0.745 total time=   0.0s\n",
      "[CV 2/5] END learning_rate=0.01, max_depth=1, n_estimators=100;, score=0.830 total time=   0.0s\n",
      "[CV 3/5] END learning_rate=0.01, max_depth=1, n_estimators=100;, score=0.840 total time=   0.0s\n",
      "[CV 4/5] END learning_rate=0.01, max_depth=1, n_estimators=100;, score=0.851 total time=   0.0s\n",
      "[CV 5/5] END learning_rate=0.01, max_depth=1, n_estimators=100;, score=0.862 total time=   0.1s\n"
     ]
    },
    {
     "name": "stdout",
     "output_type": "stream",
     "text": [
      "[CV 1/5] END learning_rate=0.01, max_depth=1, n_estimators=200;, score=0.755 total time=   0.2s\n",
      "[CV 2/5] END learning_rate=0.01, max_depth=1, n_estimators=200;, score=0.840 total time=   0.2s\n",
      "[CV 3/5] END learning_rate=0.01, max_depth=1, n_estimators=200;, score=0.862 total time=   0.2s\n",
      "[CV 4/5] END learning_rate=0.01, max_depth=1, n_estimators=200;, score=0.851 total time=   0.2s\n",
      "[CV 5/5] END learning_rate=0.01, max_depth=1, n_estimators=200;, score=0.872 total time=   0.2s\n",
      "[CV 1/5] END learning_rate=0.01, max_depth=2, n_estimators=50;, score=0.681 total time=   0.0s\n",
      "[CV 2/5] END learning_rate=0.01, max_depth=2, n_estimators=50;, score=0.755 total time=   0.0s\n",
      "[CV 3/5] END learning_rate=0.01, max_depth=2, n_estimators=50;, score=0.787 total time=   0.0s\n",
      "[CV 4/5] END learning_rate=0.01, max_depth=2, n_estimators=50;, score=0.809 total time=   0.0s\n",
      "[CV 5/5] END learning_rate=0.01, max_depth=2, n_estimators=50;, score=0.798 total time=   0.0s\n",
      "[CV 1/5] END learning_rate=0.01, max_depth=2, n_estimators=100;, score=0.755 total time=   0.1s\n",
      "[CV 2/5] END learning_rate=0.01, max_depth=2, n_estimators=100;, score=0.798 total time=   0.1s\n",
      "[CV 3/5] END learning_rate=0.01, max_depth=2, n_estimators=100;, score=0.862 total time=   0.1s\n",
      "[CV 4/5] END learning_rate=0.01, max_depth=2, n_estimators=100;, score=0.830 total time=   0.2s\n",
      "[CV 5/5] END learning_rate=0.01, max_depth=2, n_estimators=100;, score=0.851 total time=   0.1s\n",
      "[CV 1/5] END learning_rate=0.01, max_depth=2, n_estimators=200;, score=0.755 total time=   0.4s\n",
      "[CV 2/5] END learning_rate=0.01, max_depth=2, n_estimators=200;, score=0.809 total time=   0.4s\n",
      "[CV 3/5] END learning_rate=0.01, max_depth=2, n_estimators=200;, score=0.872 total time=   0.4s\n",
      "[CV 4/5] END learning_rate=0.01, max_depth=2, n_estimators=200;, score=0.851 total time=   0.4s\n",
      "[CV 5/5] END learning_rate=0.01, max_depth=2, n_estimators=200;, score=0.872 total time=   0.4s\n",
      "[CV 1/5] END learning_rate=0.01, max_depth=3, n_estimators=50;, score=0.702 total time=   0.1s\n",
      "[CV 2/5] END learning_rate=0.01, max_depth=3, n_estimators=50;, score=0.713 total time=   0.1s\n",
      "[CV 3/5] END learning_rate=0.01, max_depth=3, n_estimators=50;, score=0.787 total time=   0.1s\n",
      "[CV 4/5] END learning_rate=0.01, max_depth=3, n_estimators=50;, score=0.713 total time=   0.1s\n",
      "[CV 5/5] END learning_rate=0.01, max_depth=3, n_estimators=50;, score=0.766 total time=   0.1s\n",
      "[CV 1/5] END learning_rate=0.01, max_depth=3, n_estimators=100;, score=0.755 total time=   0.2s\n",
      "[CV 2/5] END learning_rate=0.01, max_depth=3, n_estimators=100;, score=0.777 total time=   0.2s\n",
      "[CV 3/5] END learning_rate=0.01, max_depth=3, n_estimators=100;, score=0.851 total time=   0.3s\n",
      "[CV 4/5] END learning_rate=0.01, max_depth=3, n_estimators=100;, score=0.851 total time=   0.3s\n",
      "[CV 5/5] END learning_rate=0.01, max_depth=3, n_estimators=100;, score=0.830 total time=   0.3s\n",
      "[CV 1/5] END learning_rate=0.01, max_depth=3, n_estimators=200;, score=0.830 total time=   0.6s\n",
      "[CV 2/5] END learning_rate=0.01, max_depth=3, n_estimators=200;, score=0.840 total time=   0.6s\n",
      "[CV 3/5] END learning_rate=0.01, max_depth=3, n_estimators=200;, score=0.872 total time=   0.6s\n",
      "[CV 4/5] END learning_rate=0.01, max_depth=3, n_estimators=200;, score=0.894 total time=   0.6s\n",
      "[CV 5/5] END learning_rate=0.01, max_depth=3, n_estimators=200;, score=0.904 total time=   0.6s\n",
      "[CV 1/5] END learning_rate=0.01, max_depth=4, n_estimators=50;, score=0.734 total time=   0.1s\n",
      "[CV 2/5] END learning_rate=0.01, max_depth=4, n_estimators=50;, score=0.766 total time=   0.1s\n",
      "[CV 3/5] END learning_rate=0.01, max_depth=4, n_estimators=50;, score=0.713 total time=   0.1s\n",
      "[CV 4/5] END learning_rate=0.01, max_depth=4, n_estimators=50;, score=0.755 total time=   0.1s\n",
      "[CV 5/5] END learning_rate=0.01, max_depth=4, n_estimators=50;, score=0.798 total time=   0.1s\n",
      "[CV 1/5] END learning_rate=0.01, max_depth=4, n_estimators=100;, score=0.872 total time=   0.4s\n",
      "[CV 2/5] END learning_rate=0.01, max_depth=4, n_estimators=100;, score=0.798 total time=   0.4s\n",
      "[CV 3/5] END learning_rate=0.01, max_depth=4, n_estimators=100;, score=0.840 total time=   0.4s\n",
      "[CV 4/5] END learning_rate=0.01, max_depth=4, n_estimators=100;, score=0.883 total time=   0.4s\n",
      "[CV 5/5] END learning_rate=0.01, max_depth=4, n_estimators=100;, score=0.872 total time=   0.4s\n",
      "[CV 1/5] END learning_rate=0.01, max_depth=4, n_estimators=200;, score=0.883 total time=   0.9s\n",
      "[CV 2/5] END learning_rate=0.01, max_depth=4, n_estimators=200;, score=0.809 total time=   0.8s\n",
      "[CV 3/5] END learning_rate=0.01, max_depth=4, n_estimators=200;, score=0.894 total time=   0.8s\n",
      "[CV 4/5] END learning_rate=0.01, max_depth=4, n_estimators=200;, score=0.926 total time=   0.8s\n",
      "[CV 5/5] END learning_rate=0.01, max_depth=4, n_estimators=200;, score=0.894 total time=   0.8s\n",
      "[CV 1/5] END learning_rate=0.01, max_depth=5, n_estimators=50;, score=0.830 total time=   0.2s\n",
      "[CV 2/5] END learning_rate=0.01, max_depth=5, n_estimators=50;, score=0.766 total time=   0.2s\n",
      "[CV 3/5] END learning_rate=0.01, max_depth=5, n_estimators=50;, score=0.745 total time=   0.2s\n",
      "[CV 4/5] END learning_rate=0.01, max_depth=5, n_estimators=50;, score=0.894 total time=   0.2s\n",
      "[CV 5/5] END learning_rate=0.01, max_depth=5, n_estimators=50;, score=0.819 total time=   0.2s\n",
      "[CV 1/5] END learning_rate=0.01, max_depth=5, n_estimators=100;, score=0.862 total time=   0.5s\n",
      "[CV 2/5] END learning_rate=0.01, max_depth=5, n_estimators=100;, score=0.798 total time=   0.5s\n",
      "[CV 3/5] END learning_rate=0.01, max_depth=5, n_estimators=100;, score=0.840 total time=   0.5s\n",
      "[CV 4/5] END learning_rate=0.01, max_depth=5, n_estimators=100;, score=0.894 total time=   0.5s\n",
      "[CV 5/5] END learning_rate=0.01, max_depth=5, n_estimators=100;, score=0.851 total time=   0.5s\n",
      "[CV 1/5] END learning_rate=0.01, max_depth=5, n_estimators=200;, score=0.894 total time=   1.0s\n",
      "[CV 2/5] END learning_rate=0.01, max_depth=5, n_estimators=200;, score=0.830 total time=   1.0s\n",
      "[CV 3/5] END learning_rate=0.01, max_depth=5, n_estimators=200;, score=0.872 total time=   1.0s\n",
      "[CV 4/5] END learning_rate=0.01, max_depth=5, n_estimators=200;, score=0.904 total time=   1.1s\n",
      "[CV 5/5] END learning_rate=0.01, max_depth=5, n_estimators=200;, score=0.894 total time=   1.1s\n",
      "[CV 1/5] END learning_rate=0.05, max_depth=1, n_estimators=50;, score=0.766 total time=   0.0s\n",
      "[CV 2/5] END learning_rate=0.05, max_depth=1, n_estimators=50;, score=0.851 total time=   0.0s\n",
      "[CV 3/5] END learning_rate=0.05, max_depth=1, n_estimators=50;, score=0.862 total time=   0.0s\n",
      "[CV 4/5] END learning_rate=0.05, max_depth=1, n_estimators=50;, score=0.851 total time=   0.0s\n",
      "[CV 5/5] END learning_rate=0.05, max_depth=1, n_estimators=50;, score=0.883 total time=   0.0s\n",
      "[CV 1/5] END learning_rate=0.05, max_depth=1, n_estimators=100;, score=0.798 total time=   0.0s\n",
      "[CV 2/5] END learning_rate=0.05, max_depth=1, n_estimators=100;, score=0.840 total time=   0.0s\n",
      "[CV 3/5] END learning_rate=0.05, max_depth=1, n_estimators=100;, score=0.872 total time=   0.0s\n",
      "[CV 4/5] END learning_rate=0.05, max_depth=1, n_estimators=100;, score=0.872 total time=   0.0s\n",
      "[CV 5/5] END learning_rate=0.05, max_depth=1, n_estimators=100;, score=0.894 total time=   0.0s\n",
      "[CV 1/5] END learning_rate=0.05, max_depth=1, n_estimators=200;, score=0.851 total time=   0.2s\n",
      "[CV 2/5] END learning_rate=0.05, max_depth=1, n_estimators=200;, score=0.872 total time=   0.2s\n",
      "[CV 3/5] END learning_rate=0.05, max_depth=1, n_estimators=200;, score=0.872 total time=   0.2s\n",
      "[CV 4/5] END learning_rate=0.05, max_depth=1, n_estimators=200;, score=0.915 total time=   0.2s\n",
      "[CV 5/5] END learning_rate=0.05, max_depth=1, n_estimators=200;, score=0.926 total time=   0.2s\n",
      "[CV 1/5] END learning_rate=0.05, max_depth=2, n_estimators=50;, score=0.787 total time=   0.0s\n",
      "[CV 2/5] END learning_rate=0.05, max_depth=2, n_estimators=50;, score=0.819 total time=   0.0s\n",
      "[CV 3/5] END learning_rate=0.05, max_depth=2, n_estimators=50;, score=0.872 total time=   0.0s\n",
      "[CV 4/5] END learning_rate=0.05, max_depth=2, n_estimators=50;, score=0.894 total time=   0.0s\n",
      "[CV 5/5] END learning_rate=0.05, max_depth=2, n_estimators=50;, score=0.883 total time=   0.0s\n",
      "[CV 1/5] END learning_rate=0.05, max_depth=2, n_estimators=100;, score=0.851 total time=   0.1s\n"
     ]
    },
    {
     "name": "stdout",
     "output_type": "stream",
     "text": [
      "[CV 2/5] END learning_rate=0.05, max_depth=2, n_estimators=100;, score=0.862 total time=   0.1s\n",
      "[CV 3/5] END learning_rate=0.05, max_depth=2, n_estimators=100;, score=0.862 total time=   0.1s\n",
      "[CV 4/5] END learning_rate=0.05, max_depth=2, n_estimators=100;, score=0.926 total time=   0.1s\n",
      "[CV 5/5] END learning_rate=0.05, max_depth=2, n_estimators=100;, score=0.926 total time=   0.1s\n",
      "[CV 1/5] END learning_rate=0.05, max_depth=2, n_estimators=200;, score=0.894 total time=   0.4s\n",
      "[CV 2/5] END learning_rate=0.05, max_depth=2, n_estimators=200;, score=0.862 total time=   0.4s\n",
      "[CV 3/5] END learning_rate=0.05, max_depth=2, n_estimators=200;, score=0.872 total time=   0.4s\n",
      "[CV 4/5] END learning_rate=0.05, max_depth=2, n_estimators=200;, score=0.926 total time=   0.4s\n",
      "[CV 5/5] END learning_rate=0.05, max_depth=2, n_estimators=200;, score=0.947 total time=   0.4s\n",
      "[CV 1/5] END learning_rate=0.05, max_depth=3, n_estimators=50;, score=0.862 total time=   0.1s\n",
      "[CV 2/5] END learning_rate=0.05, max_depth=3, n_estimators=50;, score=0.830 total time=   0.1s\n",
      "[CV 3/5] END learning_rate=0.05, max_depth=3, n_estimators=50;, score=0.862 total time=   0.1s\n",
      "[CV 4/5] END learning_rate=0.05, max_depth=3, n_estimators=50;, score=0.926 total time=   0.1s\n",
      "[CV 5/5] END learning_rate=0.05, max_depth=3, n_estimators=50;, score=0.894 total time=   0.1s\n",
      "[CV 1/5] END learning_rate=0.05, max_depth=3, n_estimators=100;, score=0.883 total time=   0.2s\n",
      "[CV 2/5] END learning_rate=0.05, max_depth=3, n_estimators=100;, score=0.862 total time=   0.3s\n",
      "[CV 3/5] END learning_rate=0.05, max_depth=3, n_estimators=100;, score=0.894 total time=   0.2s\n",
      "[CV 4/5] END learning_rate=0.05, max_depth=3, n_estimators=100;, score=0.915 total time=   0.2s\n",
      "[CV 5/5] END learning_rate=0.05, max_depth=3, n_estimators=100;, score=0.904 total time=   0.2s\n",
      "[CV 1/5] END learning_rate=0.05, max_depth=3, n_estimators=200;, score=0.894 total time=   0.6s\n",
      "[CV 2/5] END learning_rate=0.05, max_depth=3, n_estimators=200;, score=0.883 total time=   0.6s\n",
      "[CV 3/5] END learning_rate=0.05, max_depth=3, n_estimators=200;, score=0.872 total time=   0.6s\n",
      "[CV 4/5] END learning_rate=0.05, max_depth=3, n_estimators=200;, score=0.926 total time=   0.6s\n",
      "[CV 5/5] END learning_rate=0.05, max_depth=3, n_estimators=200;, score=0.915 total time=   0.6s\n",
      "[CV 1/5] END learning_rate=0.05, max_depth=4, n_estimators=50;, score=0.904 total time=   0.1s\n",
      "[CV 2/5] END learning_rate=0.05, max_depth=4, n_estimators=50;, score=0.819 total time=   0.1s\n",
      "[CV 3/5] END learning_rate=0.05, max_depth=4, n_estimators=50;, score=0.872 total time=   0.1s\n",
      "[CV 4/5] END learning_rate=0.05, max_depth=4, n_estimators=50;, score=0.926 total time=   0.1s\n",
      "[CV 5/5] END learning_rate=0.05, max_depth=4, n_estimators=50;, score=0.904 total time=   0.1s\n",
      "[CV 1/5] END learning_rate=0.05, max_depth=4, n_estimators=100;, score=0.904 total time=   0.3s\n",
      "[CV 2/5] END learning_rate=0.05, max_depth=4, n_estimators=100;, score=0.862 total time=   0.4s\n",
      "[CV 3/5] END learning_rate=0.05, max_depth=4, n_estimators=100;, score=0.894 total time=   0.4s\n",
      "[CV 4/5] END learning_rate=0.05, max_depth=4, n_estimators=100;, score=0.947 total time=   0.4s\n",
      "[CV 5/5] END learning_rate=0.05, max_depth=4, n_estimators=100;, score=0.915 total time=   0.4s\n",
      "[CV 1/5] END learning_rate=0.05, max_depth=4, n_estimators=200;, score=0.894 total time=   0.8s\n",
      "[CV 2/5] END learning_rate=0.05, max_depth=4, n_estimators=200;, score=0.883 total time=   0.8s\n",
      "[CV 3/5] END learning_rate=0.05, max_depth=4, n_estimators=200;, score=0.894 total time=   0.8s\n",
      "[CV 4/5] END learning_rate=0.05, max_depth=4, n_estimators=200;, score=0.947 total time=   0.8s\n",
      "[CV 5/5] END learning_rate=0.05, max_depth=4, n_estimators=200;, score=0.915 total time=   0.8s\n",
      "[CV 1/5] END learning_rate=0.05, max_depth=5, n_estimators=50;, score=0.883 total time=   0.2s\n",
      "[CV 2/5] END learning_rate=0.05, max_depth=5, n_estimators=50;, score=0.830 total time=   0.2s\n",
      "[CV 3/5] END learning_rate=0.05, max_depth=5, n_estimators=50;, score=0.872 total time=   0.2s\n",
      "[CV 4/5] END learning_rate=0.05, max_depth=5, n_estimators=50;, score=0.915 total time=   0.2s\n",
      "[CV 5/5] END learning_rate=0.05, max_depth=5, n_estimators=50;, score=0.904 total time=   0.2s\n",
      "[CV 1/5] END learning_rate=0.05, max_depth=5, n_estimators=100;, score=0.904 total time=   0.5s\n",
      "[CV 2/5] END learning_rate=0.05, max_depth=5, n_estimators=100;, score=0.851 total time=   0.5s\n",
      "[CV 3/5] END learning_rate=0.05, max_depth=5, n_estimators=100;, score=0.883 total time=   0.5s\n",
      "[CV 4/5] END learning_rate=0.05, max_depth=5, n_estimators=100;, score=0.926 total time=   0.5s\n",
      "[CV 5/5] END learning_rate=0.05, max_depth=5, n_estimators=100;, score=0.915 total time=   0.5s\n",
      "[CV 1/5] END learning_rate=0.05, max_depth=5, n_estimators=200;, score=0.883 total time=   1.0s\n",
      "[CV 2/5] END learning_rate=0.05, max_depth=5, n_estimators=200;, score=0.883 total time=   1.0s\n",
      "[CV 3/5] END learning_rate=0.05, max_depth=5, n_estimators=200;, score=0.883 total time=   1.0s\n",
      "[CV 4/5] END learning_rate=0.05, max_depth=5, n_estimators=200;, score=0.926 total time=   1.1s\n",
      "[CV 5/5] END learning_rate=0.05, max_depth=5, n_estimators=200;, score=0.915 total time=   1.1s\n",
      "[CV 1/5] END learning_rate=0.1, max_depth=1, n_estimators=50;, score=0.787 total time=   0.0s\n",
      "[CV 2/5] END learning_rate=0.1, max_depth=1, n_estimators=50;, score=0.830 total time=   0.0s\n",
      "[CV 3/5] END learning_rate=0.1, max_depth=1, n_estimators=50;, score=0.872 total time=   0.0s\n",
      "[CV 4/5] END learning_rate=0.1, max_depth=1, n_estimators=50;, score=0.872 total time=   0.0s\n",
      "[CV 5/5] END learning_rate=0.1, max_depth=1, n_estimators=50;, score=0.894 total time=   0.0s\n",
      "[CV 1/5] END learning_rate=0.1, max_depth=1, n_estimators=100;, score=0.851 total time=   0.0s\n",
      "[CV 2/5] END learning_rate=0.1, max_depth=1, n_estimators=100;, score=0.872 total time=   0.0s\n",
      "[CV 3/5] END learning_rate=0.1, max_depth=1, n_estimators=100;, score=0.883 total time=   0.0s\n",
      "[CV 4/5] END learning_rate=0.1, max_depth=1, n_estimators=100;, score=0.915 total time=   0.0s\n",
      "[CV 5/5] END learning_rate=0.1, max_depth=1, n_estimators=100;, score=0.926 total time=   0.0s\n",
      "[CV 1/5] END learning_rate=0.1, max_depth=1, n_estimators=200;, score=0.894 total time=   0.2s\n",
      "[CV 2/5] END learning_rate=0.1, max_depth=1, n_estimators=200;, score=0.883 total time=   0.2s\n",
      "[CV 3/5] END learning_rate=0.1, max_depth=1, n_estimators=200;, score=0.894 total time=   0.2s\n",
      "[CV 4/5] END learning_rate=0.1, max_depth=1, n_estimators=200;, score=0.936 total time=   0.2s\n",
      "[CV 5/5] END learning_rate=0.1, max_depth=1, n_estimators=200;, score=0.926 total time=   0.2s\n",
      "[CV 1/5] END learning_rate=0.1, max_depth=2, n_estimators=50;, score=0.862 total time=   0.0s\n",
      "[CV 2/5] END learning_rate=0.1, max_depth=2, n_estimators=50;, score=0.862 total time=   0.0s\n",
      "[CV 3/5] END learning_rate=0.1, max_depth=2, n_estimators=50;, score=0.883 total time=   0.0s\n",
      "[CV 4/5] END learning_rate=0.1, max_depth=2, n_estimators=50;, score=0.926 total time=   0.0s\n",
      "[CV 5/5] END learning_rate=0.1, max_depth=2, n_estimators=50;, score=0.926 total time=   0.0s\n",
      "[CV 1/5] END learning_rate=0.1, max_depth=2, n_estimators=100;, score=0.904 total time=   0.1s\n",
      "[CV 2/5] END learning_rate=0.1, max_depth=2, n_estimators=100;, score=0.872 total time=   0.1s\n",
      "[CV 3/5] END learning_rate=0.1, max_depth=2, n_estimators=100;, score=0.872 total time=   0.1s\n",
      "[CV 4/5] END learning_rate=0.1, max_depth=2, n_estimators=100;, score=0.926 total time=   0.1s\n",
      "[CV 5/5] END learning_rate=0.1, max_depth=2, n_estimators=100;, score=0.947 total time=   0.1s\n",
      "[CV 1/5] END learning_rate=0.1, max_depth=2, n_estimators=200;, score=0.904 total time=   0.4s\n",
      "[CV 2/5] END learning_rate=0.1, max_depth=2, n_estimators=200;, score=0.862 total time=   0.4s\n",
      "[CV 3/5] END learning_rate=0.1, max_depth=2, n_estimators=200;, score=0.872 total time=   0.4s\n",
      "[CV 4/5] END learning_rate=0.1, max_depth=2, n_estimators=200;, score=0.926 total time=   0.4s\n",
      "[CV 5/5] END learning_rate=0.1, max_depth=2, n_estimators=200;, score=0.947 total time=   0.4s\n",
      "[CV 1/5] END learning_rate=0.1, max_depth=3, n_estimators=50;, score=0.883 total time=   0.1s\n",
      "[CV 2/5] END learning_rate=0.1, max_depth=3, n_estimators=50;, score=0.862 total time=   0.1s\n",
      "[CV 3/5] END learning_rate=0.1, max_depth=3, n_estimators=50;, score=0.894 total time=   0.1s\n"
     ]
    },
    {
     "name": "stdout",
     "output_type": "stream",
     "text": [
      "[CV 4/5] END learning_rate=0.1, max_depth=3, n_estimators=50;, score=0.926 total time=   0.1s\n",
      "[CV 5/5] END learning_rate=0.1, max_depth=3, n_estimators=50;, score=0.926 total time=   0.1s\n",
      "[CV 1/5] END learning_rate=0.1, max_depth=3, n_estimators=100;, score=0.894 total time=   0.3s\n",
      "[CV 2/5] END learning_rate=0.1, max_depth=3, n_estimators=100;, score=0.883 total time=   0.3s\n",
      "[CV 3/5] END learning_rate=0.1, max_depth=3, n_estimators=100;, score=0.883 total time=   0.2s\n",
      "[CV 4/5] END learning_rate=0.1, max_depth=3, n_estimators=100;, score=0.936 total time=   0.2s\n",
      "[CV 5/5] END learning_rate=0.1, max_depth=3, n_estimators=100;, score=0.915 total time=   0.2s\n",
      "[CV 1/5] END learning_rate=0.1, max_depth=3, n_estimators=200;, score=0.904 total time=   0.6s\n",
      "[CV 2/5] END learning_rate=0.1, max_depth=3, n_estimators=200;, score=0.883 total time=   0.7s\n",
      "[CV 3/5] END learning_rate=0.1, max_depth=3, n_estimators=200;, score=0.883 total time=   0.6s\n",
      "[CV 4/5] END learning_rate=0.1, max_depth=3, n_estimators=200;, score=0.926 total time=   0.6s\n",
      "[CV 5/5] END learning_rate=0.1, max_depth=3, n_estimators=200;, score=0.915 total time=   0.6s\n",
      "[CV 1/5] END learning_rate=0.1, max_depth=4, n_estimators=50;, score=0.894 total time=   0.1s\n",
      "[CV 2/5] END learning_rate=0.1, max_depth=4, n_estimators=50;, score=0.883 total time=   0.1s\n",
      "[CV 3/5] END learning_rate=0.1, max_depth=4, n_estimators=50;, score=0.872 total time=   0.1s\n",
      "[CV 4/5] END learning_rate=0.1, max_depth=4, n_estimators=50;, score=0.936 total time=   0.1s\n",
      "[CV 5/5] END learning_rate=0.1, max_depth=4, n_estimators=50;, score=0.904 total time=   0.1s\n",
      "[CV 1/5] END learning_rate=0.1, max_depth=4, n_estimators=100;, score=0.894 total time=   0.4s\n",
      "[CV 2/5] END learning_rate=0.1, max_depth=4, n_estimators=100;, score=0.883 total time=   0.4s\n",
      "[CV 3/5] END learning_rate=0.1, max_depth=4, n_estimators=100;, score=0.883 total time=   0.4s\n",
      "[CV 4/5] END learning_rate=0.1, max_depth=4, n_estimators=100;, score=0.936 total time=   0.4s\n",
      "[CV 5/5] END learning_rate=0.1, max_depth=4, n_estimators=100;, score=0.915 total time=   0.4s\n",
      "[CV 1/5] END learning_rate=0.1, max_depth=4, n_estimators=200;, score=0.894 total time=   0.9s\n",
      "[CV 2/5] END learning_rate=0.1, max_depth=4, n_estimators=200;, score=0.894 total time=   0.8s\n",
      "[CV 3/5] END learning_rate=0.1, max_depth=4, n_estimators=200;, score=0.872 total time=   0.8s\n",
      "[CV 4/5] END learning_rate=0.1, max_depth=4, n_estimators=200;, score=0.936 total time=   0.9s\n",
      "[CV 5/5] END learning_rate=0.1, max_depth=4, n_estimators=200;, score=0.915 total time=   0.8s\n",
      "[CV 1/5] END learning_rate=0.1, max_depth=5, n_estimators=50;, score=0.894 total time=   0.2s\n",
      "[CV 2/5] END learning_rate=0.1, max_depth=5, n_estimators=50;, score=0.851 total time=   0.2s\n",
      "[CV 3/5] END learning_rate=0.1, max_depth=5, n_estimators=50;, score=0.883 total time=   0.2s\n",
      "[CV 4/5] END learning_rate=0.1, max_depth=5, n_estimators=50;, score=0.926 total time=   0.2s\n",
      "[CV 5/5] END learning_rate=0.1, max_depth=5, n_estimators=50;, score=0.915 total time=   0.2s\n",
      "[CV 1/5] END learning_rate=0.1, max_depth=5, n_estimators=100;, score=0.883 total time=   0.5s\n",
      "[CV 2/5] END learning_rate=0.1, max_depth=5, n_estimators=100;, score=0.872 total time=   0.5s\n",
      "[CV 3/5] END learning_rate=0.1, max_depth=5, n_estimators=100;, score=0.883 total time=   0.5s\n",
      "[CV 4/5] END learning_rate=0.1, max_depth=5, n_estimators=100;, score=0.926 total time=   0.5s\n",
      "[CV 5/5] END learning_rate=0.1, max_depth=5, n_estimators=100;, score=0.915 total time=   0.5s\n",
      "[CV 1/5] END learning_rate=0.1, max_depth=5, n_estimators=200;, score=0.894 total time=   1.0s\n",
      "[CV 2/5] END learning_rate=0.1, max_depth=5, n_estimators=200;, score=0.883 total time=   1.0s\n",
      "[CV 3/5] END learning_rate=0.1, max_depth=5, n_estimators=200;, score=0.872 total time=   1.0s\n",
      "[CV 4/5] END learning_rate=0.1, max_depth=5, n_estimators=200;, score=0.926 total time=   1.1s\n",
      "[CV 5/5] END learning_rate=0.1, max_depth=5, n_estimators=200;, score=0.926 total time=   1.1s\n"
     ]
    },
    {
     "data": {
      "text/html": [
       "<style>#sk-container-id-3 {color: black;background-color: white;}#sk-container-id-3 pre{padding: 0;}#sk-container-id-3 div.sk-toggleable {background-color: white;}#sk-container-id-3 label.sk-toggleable__label {cursor: pointer;display: block;width: 100%;margin-bottom: 0;padding: 0.3em;box-sizing: border-box;text-align: center;}#sk-container-id-3 label.sk-toggleable__label-arrow:before {content: \"▸\";float: left;margin-right: 0.25em;color: #696969;}#sk-container-id-3 label.sk-toggleable__label-arrow:hover:before {color: black;}#sk-container-id-3 div.sk-estimator:hover label.sk-toggleable__label-arrow:before {color: black;}#sk-container-id-3 div.sk-toggleable__content {max-height: 0;max-width: 0;overflow: hidden;text-align: left;background-color: #f0f8ff;}#sk-container-id-3 div.sk-toggleable__content pre {margin: 0.2em;color: black;border-radius: 0.25em;background-color: #f0f8ff;}#sk-container-id-3 input.sk-toggleable__control:checked~div.sk-toggleable__content {max-height: 200px;max-width: 100%;overflow: auto;}#sk-container-id-3 input.sk-toggleable__control:checked~label.sk-toggleable__label-arrow:before {content: \"▾\";}#sk-container-id-3 div.sk-estimator input.sk-toggleable__control:checked~label.sk-toggleable__label {background-color: #d4ebff;}#sk-container-id-3 div.sk-label input.sk-toggleable__control:checked~label.sk-toggleable__label {background-color: #d4ebff;}#sk-container-id-3 input.sk-hidden--visually {border: 0;clip: rect(1px 1px 1px 1px);clip: rect(1px, 1px, 1px, 1px);height: 1px;margin: -1px;overflow: hidden;padding: 0;position: absolute;width: 1px;}#sk-container-id-3 div.sk-estimator {font-family: monospace;background-color: #f0f8ff;border: 1px dotted black;border-radius: 0.25em;box-sizing: border-box;margin-bottom: 0.5em;}#sk-container-id-3 div.sk-estimator:hover {background-color: #d4ebff;}#sk-container-id-3 div.sk-parallel-item::after {content: \"\";width: 100%;border-bottom: 1px solid gray;flex-grow: 1;}#sk-container-id-3 div.sk-label:hover label.sk-toggleable__label {background-color: #d4ebff;}#sk-container-id-3 div.sk-serial::before {content: \"\";position: absolute;border-left: 1px solid gray;box-sizing: border-box;top: 0;bottom: 0;left: 50%;z-index: 0;}#sk-container-id-3 div.sk-serial {display: flex;flex-direction: column;align-items: center;background-color: white;padding-right: 0.2em;padding-left: 0.2em;position: relative;}#sk-container-id-3 div.sk-item {position: relative;z-index: 1;}#sk-container-id-3 div.sk-parallel {display: flex;align-items: stretch;justify-content: center;background-color: white;position: relative;}#sk-container-id-3 div.sk-item::before, #sk-container-id-3 div.sk-parallel-item::before {content: \"\";position: absolute;border-left: 1px solid gray;box-sizing: border-box;top: 0;bottom: 0;left: 50%;z-index: -1;}#sk-container-id-3 div.sk-parallel-item {display: flex;flex-direction: column;z-index: 1;position: relative;background-color: white;}#sk-container-id-3 div.sk-parallel-item:first-child::after {align-self: flex-end;width: 50%;}#sk-container-id-3 div.sk-parallel-item:last-child::after {align-self: flex-start;width: 50%;}#sk-container-id-3 div.sk-parallel-item:only-child::after {width: 0;}#sk-container-id-3 div.sk-dashed-wrapped {border: 1px dashed gray;margin: 0 0.4em 0.5em 0.4em;box-sizing: border-box;padding-bottom: 0.4em;background-color: white;}#sk-container-id-3 div.sk-label label {font-family: monospace;font-weight: bold;display: inline-block;line-height: 1.2em;}#sk-container-id-3 div.sk-label-container {text-align: center;}#sk-container-id-3 div.sk-container {/* jupyter's `normalize.less` sets `[hidden] { display: none; }` but bootstrap.min.css set `[hidden] { display: none !important; }` so we also need the `!important` here to be able to override the default hidden behavior on the sphinx rendered scikit-learn.org. See: https://github.com/scikit-learn/scikit-learn/issues/21755 */display: inline-block !important;position: relative;}#sk-container-id-3 div.sk-text-repr-fallback {display: none;}</style><div id=\"sk-container-id-3\" class=\"sk-top-container\"><div class=\"sk-text-repr-fallback\"><pre>GridSearchCV(cv=5, estimator=GradientBoostingClassifier(random_state=10),\n",
       "             param_grid={&#x27;learning_rate&#x27;: [0.001, 0.01, 0.05, 0.1],\n",
       "                         &#x27;max_depth&#x27;: [1, 2, 3, 4, 5],\n",
       "                         &#x27;n_estimators&#x27;: [50, 100, 200]},\n",
       "             scoring=&#x27;recall&#x27;, verbose=3)</pre><b>In a Jupyter environment, please rerun this cell to show the HTML representation or trust the notebook. <br />On GitHub, the HTML representation is unable to render, please try loading this page with nbviewer.org.</b></div><div class=\"sk-container\" hidden><div class=\"sk-item sk-dashed-wrapped\"><div class=\"sk-label-container\"><div class=\"sk-label sk-toggleable\"><input class=\"sk-toggleable__control sk-hidden--visually\" id=\"sk-estimator-id-3\" type=\"checkbox\" ><label for=\"sk-estimator-id-3\" class=\"sk-toggleable__label sk-toggleable__label-arrow\">GridSearchCV</label><div class=\"sk-toggleable__content\"><pre>GridSearchCV(cv=5, estimator=GradientBoostingClassifier(random_state=10),\n",
       "             param_grid={&#x27;learning_rate&#x27;: [0.001, 0.01, 0.05, 0.1],\n",
       "                         &#x27;max_depth&#x27;: [1, 2, 3, 4, 5],\n",
       "                         &#x27;n_estimators&#x27;: [50, 100, 200]},\n",
       "             scoring=&#x27;recall&#x27;, verbose=3)</pre></div></div></div><div class=\"sk-parallel\"><div class=\"sk-parallel-item\"><div class=\"sk-item\"><div class=\"sk-label-container\"><div class=\"sk-label sk-toggleable\"><input class=\"sk-toggleable__control sk-hidden--visually\" id=\"sk-estimator-id-4\" type=\"checkbox\" ><label for=\"sk-estimator-id-4\" class=\"sk-toggleable__label sk-toggleable__label-arrow\">estimator: GradientBoostingClassifier</label><div class=\"sk-toggleable__content\"><pre>GradientBoostingClassifier(random_state=10)</pre></div></div></div><div class=\"sk-serial\"><div class=\"sk-item\"><div class=\"sk-estimator sk-toggleable\"><input class=\"sk-toggleable__control sk-hidden--visually\" id=\"sk-estimator-id-5\" type=\"checkbox\" ><label for=\"sk-estimator-id-5\" class=\"sk-toggleable__label sk-toggleable__label-arrow\">GradientBoostingClassifier</label><div class=\"sk-toggleable__content\"><pre>GradientBoostingClassifier(random_state=10)</pre></div></div></div></div></div></div></div></div></div></div>"
      ],
      "text/plain": [
       "GridSearchCV(cv=5, estimator=GradientBoostingClassifier(random_state=10),\n",
       "             param_grid={'learning_rate': [0.001, 0.01, 0.05, 0.1],\n",
       "                         'max_depth': [1, 2, 3, 4, 5],\n",
       "                         'n_estimators': [50, 100, 200]},\n",
       "             scoring='recall', verbose=3)"
      ]
     },
     "execution_count": 30,
     "metadata": {},
     "output_type": "execute_result"
    }
   ],
   "source": [
    "grid.fit(X_train,y_train)"
   ]
  },
  {
   "cell_type": "code",
   "execution_count": 31,
   "id": "cf436e6e",
   "metadata": {
    "id": "cf436e6e"
   },
   "outputs": [],
   "source": [
    "y_pred=grid.predict(X_test)"
   ]
  },
  {
   "cell_type": "code",
   "execution_count": 32,
   "id": "08254c07",
   "metadata": {},
   "outputs": [
    {
     "data": {
      "text/plain": [
       "0.9433962264150944"
      ]
     },
     "execution_count": 32,
     "metadata": {},
     "output_type": "execute_result"
    }
   ],
   "source": [
    "precision_score(y_test,y_pred) #A precision piorou ligeiramente"
   ]
  },
  {
   "cell_type": "code",
   "execution_count": 33,
   "id": "ARXiELFUyiSL",
   "metadata": {
    "colab": {
     "base_uri": "https://localhost:8080/"
    },
    "id": "ARXiELFUyiSL",
    "outputId": "c733ee66-b6bf-4554-ade0-31bebd12739d"
   },
   "outputs": [
    {
     "data": {
      "text/plain": [
       "0.8928571428571429"
      ]
     },
     "execution_count": 33,
     "metadata": {},
     "output_type": "execute_result"
    }
   ],
   "source": [
    "recall_score(y_test,y_pred) #Não há melhoria do recall, mantém-se"
   ]
  },
  {
   "cell_type": "code",
   "execution_count": 34,
   "id": "084c690b",
   "metadata": {
    "colab": {
     "base_uri": "https://localhost:8080/"
    },
    "id": "ewE3uFUHyoZJ",
    "outputId": "1e1ec474-1d6c-4242-e582-2e2bc2951bee",
    "scrolled": true
   },
   "outputs": [
    {
     "data": {
      "text/plain": [
       "{'learning_rate': 0.05, 'max_depth': 4, 'n_estimators': 200}"
      ]
     },
     "execution_count": 34,
     "metadata": {},
     "output_type": "execute_result"
    }
   ],
   "source": [
    "grid.best_params_"
   ]
  },
  {
   "cell_type": "code",
   "execution_count": 35,
   "id": "62f7b800",
   "metadata": {},
   "outputs": [
    {
     "data": {
      "text/html": [
       "<div>\n",
       "<style scoped>\n",
       "    .dataframe tbody tr th:only-of-type {\n",
       "        vertical-align: middle;\n",
       "    }\n",
       "\n",
       "    .dataframe tbody tr th {\n",
       "        vertical-align: top;\n",
       "    }\n",
       "\n",
       "    .dataframe thead th {\n",
       "        text-align: right;\n",
       "    }\n",
       "</style>\n",
       "<table border=\"1\" class=\"dataframe\">\n",
       "  <thead>\n",
       "    <tr style=\"text-align: right;\">\n",
       "      <th></th>\n",
       "      <th>mean_fit_time</th>\n",
       "      <th>std_fit_time</th>\n",
       "      <th>mean_score_time</th>\n",
       "      <th>std_score_time</th>\n",
       "      <th>param_learning_rate</th>\n",
       "      <th>param_max_depth</th>\n",
       "      <th>param_n_estimators</th>\n",
       "      <th>params</th>\n",
       "      <th>split0_test_score</th>\n",
       "      <th>split1_test_score</th>\n",
       "      <th>split2_test_score</th>\n",
       "      <th>split3_test_score</th>\n",
       "      <th>split4_test_score</th>\n",
       "      <th>mean_test_score</th>\n",
       "      <th>std_test_score</th>\n",
       "      <th>rank_test_score</th>\n",
       "    </tr>\n",
       "  </thead>\n",
       "  <tbody>\n",
       "    <tr>\n",
       "      <th>41</th>\n",
       "      <td>0.897992</td>\n",
       "      <td>0.018779</td>\n",
       "      <td>0.003403</td>\n",
       "      <td>0.000488</td>\n",
       "      <td>0.05</td>\n",
       "      <td>4</td>\n",
       "      <td>200</td>\n",
       "      <td>{'learning_rate': 0.05, 'max_depth': 4, 'n_est...</td>\n",
       "      <td>0.893617</td>\n",
       "      <td>0.882979</td>\n",
       "      <td>0.893617</td>\n",
       "      <td>0.946809</td>\n",
       "      <td>0.914894</td>\n",
       "      <td>0.906383</td>\n",
       "      <td>0.022717</td>\n",
       "      <td>1</td>\n",
       "    </tr>\n",
       "    <tr>\n",
       "      <th>47</th>\n",
       "      <td>0.278989</td>\n",
       "      <td>0.010683</td>\n",
       "      <td>0.002204</td>\n",
       "      <td>0.000398</td>\n",
       "      <td>0.1</td>\n",
       "      <td>1</td>\n",
       "      <td>200</td>\n",
       "      <td>{'learning_rate': 0.1, 'max_depth': 1, 'n_esti...</td>\n",
       "      <td>0.893617</td>\n",
       "      <td>0.882979</td>\n",
       "      <td>0.893617</td>\n",
       "      <td>0.936170</td>\n",
       "      <td>0.925532</td>\n",
       "      <td>0.906383</td>\n",
       "      <td>0.020628</td>\n",
       "      <td>1</td>\n",
       "    </tr>\n",
       "  </tbody>\n",
       "</table>\n",
       "</div>"
      ],
      "text/plain": [
       "    mean_fit_time  std_fit_time  mean_score_time  std_score_time  \\\n",
       "41       0.897992      0.018779         0.003403        0.000488   \n",
       "47       0.278989      0.010683         0.002204        0.000398   \n",
       "\n",
       "   param_learning_rate param_max_depth param_n_estimators  \\\n",
       "41                0.05               4                200   \n",
       "47                 0.1               1                200   \n",
       "\n",
       "                                               params  split0_test_score  \\\n",
       "41  {'learning_rate': 0.05, 'max_depth': 4, 'n_est...           0.893617   \n",
       "47  {'learning_rate': 0.1, 'max_depth': 1, 'n_esti...           0.893617   \n",
       "\n",
       "    split1_test_score  split2_test_score  split3_test_score  \\\n",
       "41           0.882979           0.893617           0.946809   \n",
       "47           0.882979           0.893617           0.936170   \n",
       "\n",
       "    split4_test_score  mean_test_score  std_test_score  rank_test_score  \n",
       "41           0.914894         0.906383        0.022717                1  \n",
       "47           0.925532         0.906383        0.020628                1  "
      ]
     },
     "execution_count": 35,
     "metadata": {},
     "output_type": "execute_result"
    }
   ],
   "source": [
    "results_grid=pd.DataFrame()\n",
    "results_gridcv=results_grid.from_dict(grid.cv_results_)\n",
    "results_gridcv[results_gridcv.rank_test_score==1]"
   ]
  },
  {
   "cell_type": "markdown",
   "id": "13caf74f",
   "metadata": {},
   "source": [
    "### Guardar o melhor modelo treinado com todo o conjunto de dados num pickle"
   ]
  },
  {
   "cell_type": "code",
   "execution_count": 36,
   "id": "315b022b",
   "metadata": {},
   "outputs": [
    {
     "data": {
      "text/html": [
       "<style>#sk-container-id-4 {color: black;background-color: white;}#sk-container-id-4 pre{padding: 0;}#sk-container-id-4 div.sk-toggleable {background-color: white;}#sk-container-id-4 label.sk-toggleable__label {cursor: pointer;display: block;width: 100%;margin-bottom: 0;padding: 0.3em;box-sizing: border-box;text-align: center;}#sk-container-id-4 label.sk-toggleable__label-arrow:before {content: \"▸\";float: left;margin-right: 0.25em;color: #696969;}#sk-container-id-4 label.sk-toggleable__label-arrow:hover:before {color: black;}#sk-container-id-4 div.sk-estimator:hover label.sk-toggleable__label-arrow:before {color: black;}#sk-container-id-4 div.sk-toggleable__content {max-height: 0;max-width: 0;overflow: hidden;text-align: left;background-color: #f0f8ff;}#sk-container-id-4 div.sk-toggleable__content pre {margin: 0.2em;color: black;border-radius: 0.25em;background-color: #f0f8ff;}#sk-container-id-4 input.sk-toggleable__control:checked~div.sk-toggleable__content {max-height: 200px;max-width: 100%;overflow: auto;}#sk-container-id-4 input.sk-toggleable__control:checked~label.sk-toggleable__label-arrow:before {content: \"▾\";}#sk-container-id-4 div.sk-estimator input.sk-toggleable__control:checked~label.sk-toggleable__label {background-color: #d4ebff;}#sk-container-id-4 div.sk-label input.sk-toggleable__control:checked~label.sk-toggleable__label {background-color: #d4ebff;}#sk-container-id-4 input.sk-hidden--visually {border: 0;clip: rect(1px 1px 1px 1px);clip: rect(1px, 1px, 1px, 1px);height: 1px;margin: -1px;overflow: hidden;padding: 0;position: absolute;width: 1px;}#sk-container-id-4 div.sk-estimator {font-family: monospace;background-color: #f0f8ff;border: 1px dotted black;border-radius: 0.25em;box-sizing: border-box;margin-bottom: 0.5em;}#sk-container-id-4 div.sk-estimator:hover {background-color: #d4ebff;}#sk-container-id-4 div.sk-parallel-item::after {content: \"\";width: 100%;border-bottom: 1px solid gray;flex-grow: 1;}#sk-container-id-4 div.sk-label:hover label.sk-toggleable__label {background-color: #d4ebff;}#sk-container-id-4 div.sk-serial::before {content: \"\";position: absolute;border-left: 1px solid gray;box-sizing: border-box;top: 0;bottom: 0;left: 50%;z-index: 0;}#sk-container-id-4 div.sk-serial {display: flex;flex-direction: column;align-items: center;background-color: white;padding-right: 0.2em;padding-left: 0.2em;position: relative;}#sk-container-id-4 div.sk-item {position: relative;z-index: 1;}#sk-container-id-4 div.sk-parallel {display: flex;align-items: stretch;justify-content: center;background-color: white;position: relative;}#sk-container-id-4 div.sk-item::before, #sk-container-id-4 div.sk-parallel-item::before {content: \"\";position: absolute;border-left: 1px solid gray;box-sizing: border-box;top: 0;bottom: 0;left: 50%;z-index: -1;}#sk-container-id-4 div.sk-parallel-item {display: flex;flex-direction: column;z-index: 1;position: relative;background-color: white;}#sk-container-id-4 div.sk-parallel-item:first-child::after {align-self: flex-end;width: 50%;}#sk-container-id-4 div.sk-parallel-item:last-child::after {align-self: flex-start;width: 50%;}#sk-container-id-4 div.sk-parallel-item:only-child::after {width: 0;}#sk-container-id-4 div.sk-dashed-wrapped {border: 1px dashed gray;margin: 0 0.4em 0.5em 0.4em;box-sizing: border-box;padding-bottom: 0.4em;background-color: white;}#sk-container-id-4 div.sk-label label {font-family: monospace;font-weight: bold;display: inline-block;line-height: 1.2em;}#sk-container-id-4 div.sk-label-container {text-align: center;}#sk-container-id-4 div.sk-container {/* jupyter's `normalize.less` sets `[hidden] { display: none; }` but bootstrap.min.css set `[hidden] { display: none !important; }` so we also need the `!important` here to be able to override the default hidden behavior on the sphinx rendered scikit-learn.org. See: https://github.com/scikit-learn/scikit-learn/issues/21755 */display: inline-block !important;position: relative;}#sk-container-id-4 div.sk-text-repr-fallback {display: none;}</style><div id=\"sk-container-id-4\" class=\"sk-top-container\"><div class=\"sk-text-repr-fallback\"><pre>GradientBoostingClassifier(random_state=10)</pre><b>In a Jupyter environment, please rerun this cell to show the HTML representation or trust the notebook. <br />On GitHub, the HTML representation is unable to render, please try loading this page with nbviewer.org.</b></div><div class=\"sk-container\" hidden><div class=\"sk-item\"><div class=\"sk-estimator sk-toggleable\"><input class=\"sk-toggleable__control sk-hidden--visually\" id=\"sk-estimator-id-6\" type=\"checkbox\" checked><label for=\"sk-estimator-id-6\" class=\"sk-toggleable__label sk-toggleable__label-arrow\">GradientBoostingClassifier</label><div class=\"sk-toggleable__content\"><pre>GradientBoostingClassifier(random_state=10)</pre></div></div></div></div></div>"
      ],
      "text/plain": [
       "GradientBoostingClassifier(random_state=10)"
      ]
     },
     "execution_count": 36,
     "metadata": {},
     "output_type": "execute_result"
    }
   ],
   "source": [
    "Y=data['Failure']\n",
    "X=data.drop(columns=['Failure'])\n",
    "gb_topick=GradientBoostingClassifier(random_state=10)\n",
    "gb_topick.fit(X,Y)\n",
    "#pickle.dump(gb_topick,open('modelo','wb'))"
   ]
  },
  {
   "cell_type": "markdown",
   "id": "ba0e7464",
   "metadata": {},
   "source": [
    "# Experiência 3 - Escolha das 2 variáveis"
   ]
  },
  {
   "cell_type": "code",
   "execution_count": 37,
   "id": "a919a6af",
   "metadata": {},
   "outputs": [],
   "source": [
    "X_2par=X.copy()\n",
    "y_2par=Y.copy()"
   ]
  },
  {
   "cell_type": "markdown",
   "id": "bb906aae",
   "metadata": {},
   "source": [
    "## Método 1"
   ]
  },
  {
   "cell_type": "code",
   "execution_count": 38,
   "id": "RsfBW_0b9vuU",
   "metadata": {
    "colab": {
     "base_uri": "https://localhost:8080/",
     "height": 1000
    },
    "id": "RsfBW_0b9vuU",
    "outputId": "0fdfe98b-4e23-4871-a819-2e06edb8bfb9"
   },
   "outputs": [
    {
     "name": "stdout",
     "output_type": "stream",
     "text": [
      "\n",
      "{'Id': 0.88, 'Program': 0.9, 'Y0s1_enrol': 0.897, 'Y0s2_enrol': 0.899, 'Y1s1_enrol': 0.904, 'Y1s1_complete': 0.902, 'Y1s1_grade': 0.902, 'Y1s2_enrol': 0.902, 'Y1s2_complete': 0.899, 'Y1s2_grade': 0.905, 'Y2s1_enrol': 0.905, 'Y2s1_complete': 0.899, 'Y2s1_grade': 0.902, 'Y2s2_enrol': 0.904, 'Y2s2_complete': 0.888, 'Y2s2_grade': 0.905, 'Y3s1_enrol': 0.902, 'Y3s1_complete': 0.899, 'Y3s1_grade': 0.905, 'Y3s2_enrol': 0.902, 'Y3s2_complete': 0.897, 'Y3s2_grade': 0.902, 'Y4s1_enrol': 0.904, 'Y4s1_complete': 0.897, 'Y4s1_grade': 0.902, 'Y4s2_enrol': 0.899, 'Y4s2_complete': 0.9, 'Y4s2_grade': 0.899, 'Rest_enrol': 0.904, 'Rest_complete': 0.902, 'Rest_grade': 0.899}\n",
      "\n",
      "Y3s1_grade 0.905\n",
      "\n",
      "{'Id': 0.874, 'Program': 0.9, 'Y0s1_enrol': 0.9, 'Y0s2_enrol': 0.9, 'Y1s1_enrol': 0.9, 'Y1s1_complete': 0.904, 'Y1s1_grade': 0.9, 'Y1s2_enrol': 0.902, 'Y1s2_complete': 0.899, 'Y1s2_grade': 0.902, 'Y2s1_enrol': 0.904, 'Y2s1_complete': 0.902, 'Y2s1_grade': 0.9, 'Y2s2_enrol': 0.904, 'Y2s2_complete': 0.89, 'Y2s2_grade': 0.907, 'Y3s1_enrol': 0.9, 'Y3s1_complete': 0.899, 'Y3s2_enrol': 0.9, 'Y3s2_complete': 0.899, 'Y3s2_grade': 0.907, 'Y4s1_enrol': 0.905, 'Y4s1_complete': 0.902, 'Y4s1_grade': 0.895, 'Y4s2_enrol': 0.902, 'Y4s2_complete': 0.902, 'Y4s2_grade': 0.9, 'Rest_enrol': 0.899, 'Rest_complete': 0.902, 'Rest_grade': 0.893}\n",
      "\n",
      "Y3s2_grade 0.907\n",
      "\n",
      "{'Id': 0.874, 'Program': 0.904, 'Y0s1_enrol': 0.895, 'Y0s2_enrol': 0.899, 'Y1s1_enrol': 0.904, 'Y1s1_complete': 0.905, 'Y1s1_grade': 0.899, 'Y1s2_enrol': 0.902, 'Y1s2_complete': 0.897, 'Y1s2_grade': 0.899, 'Y2s1_enrol': 0.904, 'Y2s1_complete': 0.9, 'Y2s1_grade': 0.899, 'Y2s2_enrol': 0.902, 'Y2s2_complete': 0.89, 'Y2s2_grade': 0.907, 'Y3s1_enrol': 0.904, 'Y3s1_complete': 0.899, 'Y3s2_enrol': 0.9, 'Y3s2_complete': 0.899, 'Y4s1_enrol': 0.905, 'Y4s1_complete': 0.907, 'Y4s1_grade': 0.897, 'Y4s2_enrol': 0.902, 'Y4s2_complete': 0.899, 'Y4s2_grade': 0.904, 'Rest_enrol': 0.9, 'Rest_complete': 0.9, 'Rest_grade': 0.893}\n",
      "\n",
      "Y4s1_complete 0.907\n",
      "\n",
      "{'Id': 0.876, 'Program': 0.904, 'Y0s1_enrol': 0.897, 'Y0s2_enrol': 0.899, 'Y1s1_enrol': 0.899, 'Y1s1_complete': 0.902, 'Y1s1_grade': 0.9, 'Y1s2_enrol': 0.902, 'Y1s2_complete': 0.895, 'Y1s2_grade': 0.904, 'Y2s1_enrol': 0.905, 'Y2s1_complete': 0.897, 'Y2s1_grade': 0.895, 'Y2s2_enrol': 0.897, 'Y2s2_complete': 0.89, 'Y2s2_grade': 0.902, 'Y3s1_enrol': 0.897, 'Y3s1_complete': 0.899, 'Y3s2_enrol': 0.9, 'Y3s2_complete': 0.9, 'Y4s1_enrol': 0.9, 'Y4s1_grade': 0.9, 'Y4s2_enrol': 0.902, 'Y4s2_complete': 0.904, 'Y4s2_grade': 0.899, 'Rest_enrol': 0.904, 'Rest_complete': 0.902, 'Rest_grade': 0.893}\n",
      "\n",
      "Y2s1_enrol 0.905\n",
      "\n",
      "{'Id': 0.881, 'Program': 0.902, 'Y0s1_enrol': 0.902, 'Y0s2_enrol': 0.899, 'Y1s1_enrol': 0.905, 'Y1s1_complete': 0.904, 'Y1s1_grade': 0.9, 'Y1s2_enrol': 0.904, 'Y1s2_complete': 0.897, 'Y1s2_grade': 0.9, 'Y2s1_complete': 0.899, 'Y2s1_grade': 0.897, 'Y2s2_enrol': 0.902, 'Y2s2_complete': 0.892, 'Y2s2_grade': 0.904, 'Y3s1_enrol': 0.902, 'Y3s1_complete': 0.897, 'Y3s2_enrol': 0.9, 'Y3s2_complete': 0.902, 'Y4s1_enrol': 0.902, 'Y4s1_grade': 0.905, 'Y4s2_enrol': 0.905, 'Y4s2_complete': 0.904, 'Y4s2_grade': 0.905, 'Rest_enrol': 0.9, 'Rest_complete': 0.905, 'Rest_grade': 0.904}\n",
      "\n",
      "Rest_complete 0.905\n",
      "\n",
      "{'Id': 0.876, 'Program': 0.9, 'Y0s1_enrol': 0.9, 'Y0s2_enrol': 0.897, 'Y1s1_enrol': 0.9, 'Y1s1_complete': 0.904, 'Y1s1_grade': 0.902, 'Y1s2_enrol': 0.902, 'Y1s2_complete': 0.892, 'Y1s2_grade': 0.9, 'Y2s1_complete': 0.899, 'Y2s1_grade': 0.899, 'Y2s2_enrol': 0.904, 'Y2s2_complete': 0.888, 'Y2s2_grade': 0.9, 'Y3s1_enrol': 0.904, 'Y3s1_complete': 0.899, 'Y3s2_enrol': 0.902, 'Y3s2_complete': 0.9, 'Y4s1_enrol': 0.905, 'Y4s1_grade': 0.899, 'Y4s2_enrol': 0.9, 'Y4s2_complete': 0.905, 'Y4s2_grade': 0.9, 'Rest_enrol': 0.9, 'Rest_grade': 0.9}\n",
      "\n",
      "Y4s2_complete 0.905\n",
      "\n",
      "{'Id': 0.878, 'Program': 0.904, 'Y0s1_enrol': 0.9, 'Y0s2_enrol': 0.899, 'Y1s1_enrol': 0.902, 'Y1s1_complete': 0.904, 'Y1s1_grade': 0.904, 'Y1s2_enrol': 0.904, 'Y1s2_complete': 0.897, 'Y1s2_grade': 0.895, 'Y2s1_complete': 0.899, 'Y2s1_grade': 0.9, 'Y2s2_enrol': 0.899, 'Y2s2_complete': 0.89, 'Y2s2_grade': 0.905, 'Y3s1_enrol': 0.905, 'Y3s1_complete': 0.902, 'Y3s2_enrol': 0.907, 'Y3s2_complete': 0.9, 'Y4s1_enrol': 0.907, 'Y4s1_grade': 0.902, 'Y4s2_enrol': 0.897, 'Y4s2_grade': 0.9, 'Rest_enrol': 0.902, 'Rest_grade': 0.902}\n",
      "\n",
      "Y4s1_enrol 0.907\n",
      "\n",
      "{'Id': 0.883, 'Program': 0.904, 'Y0s1_enrol': 0.899, 'Y0s2_enrol': 0.893, 'Y1s1_enrol': 0.904, 'Y1s1_complete': 0.902, 'Y1s1_grade': 0.9, 'Y1s2_enrol': 0.902, 'Y1s2_complete': 0.9, 'Y1s2_grade': 0.897, 'Y2s1_complete': 0.899, 'Y2s1_grade': 0.897, 'Y2s2_enrol': 0.904, 'Y2s2_complete': 0.888, 'Y2s2_grade': 0.904, 'Y3s1_enrol': 0.905, 'Y3s1_complete': 0.902, 'Y3s2_enrol': 0.902, 'Y3s2_complete': 0.902, 'Y4s1_grade': 0.899, 'Y4s2_enrol': 0.899, 'Y4s2_grade': 0.899, 'Rest_enrol': 0.904, 'Rest_grade': 0.9}\n",
      "\n",
      "Y3s1_enrol 0.905\n",
      "\n",
      "{'Id': 0.874, 'Program': 0.904, 'Y0s1_enrol': 0.899, 'Y0s2_enrol': 0.892, 'Y1s1_enrol': 0.904, 'Y1s1_complete': 0.904, 'Y1s1_grade': 0.9, 'Y1s2_enrol': 0.905, 'Y1s2_complete': 0.895, 'Y1s2_grade': 0.892, 'Y2s1_complete': 0.897, 'Y2s1_grade': 0.897, 'Y2s2_enrol': 0.904, 'Y2s2_complete': 0.89, 'Y2s2_grade': 0.904, 'Y3s1_complete': 0.902, 'Y3s2_enrol': 0.905, 'Y3s2_complete': 0.899, 'Y4s1_grade': 0.899, 'Y4s2_enrol': 0.895, 'Y4s2_grade': 0.902, 'Rest_enrol': 0.904, 'Rest_grade': 0.904}\n",
      "\n",
      "Y3s2_enrol 0.905\n",
      "\n",
      "{'Id': 0.876, 'Program': 0.909, 'Y0s1_enrol': 0.897, 'Y0s2_enrol': 0.897, 'Y1s1_enrol': 0.904, 'Y1s1_complete': 0.902, 'Y1s1_grade': 0.904, 'Y1s2_enrol': 0.9, 'Y1s2_complete': 0.899, 'Y1s2_grade': 0.893, 'Y2s1_complete': 0.895, 'Y2s1_grade': 0.899, 'Y2s2_enrol': 0.902, 'Y2s2_complete': 0.89, 'Y2s2_grade': 0.902, 'Y3s1_complete': 0.905, 'Y3s2_complete': 0.904, 'Y4s1_grade': 0.893, 'Y4s2_enrol': 0.893, 'Y4s2_grade': 0.904, 'Rest_enrol': 0.902, 'Rest_grade': 0.895}\n",
      "\n",
      "Program 0.909\n",
      "\n",
      "{'Id': 0.874, 'Y0s1_enrol': 0.897, 'Y0s2_enrol': 0.899, 'Y1s1_enrol': 0.907, 'Y1s1_complete': 0.909, 'Y1s1_grade': 0.902, 'Y1s2_enrol': 0.902, 'Y1s2_complete': 0.899, 'Y1s2_grade': 0.902, 'Y2s1_complete': 0.902, 'Y2s1_grade': 0.902, 'Y2s2_enrol': 0.902, 'Y2s2_complete': 0.89, 'Y2s2_grade': 0.904, 'Y3s1_complete': 0.909, 'Y3s2_complete': 0.902, 'Y4s1_grade': 0.895, 'Y4s2_enrol': 0.899, 'Y4s2_grade': 0.899, 'Rest_enrol': 0.907, 'Rest_grade': 0.897}\n",
      "\n",
      "Y3s1_complete 0.909\n",
      "\n",
      "{'Id': 0.878, 'Y0s1_enrol': 0.897, 'Y0s2_enrol': 0.897, 'Y1s1_enrol': 0.905, 'Y1s1_complete': 0.904, 'Y1s1_grade': 0.904, 'Y1s2_enrol': 0.912, 'Y1s2_complete': 0.907, 'Y1s2_grade': 0.902, 'Y2s1_complete': 0.909, 'Y2s1_grade': 0.9, 'Y2s2_enrol': 0.905, 'Y2s2_complete': 0.893, 'Y2s2_grade': 0.904, 'Y3s2_complete': 0.893, 'Y4s1_grade': 0.909, 'Y4s2_enrol': 0.904, 'Y4s2_grade': 0.907, 'Rest_enrol': 0.907, 'Rest_grade': 0.907}\n",
      "\n",
      "Y1s2_enrol 0.912\n",
      "\n",
      "{'Id': 0.871, 'Y0s1_enrol': 0.902, 'Y0s2_enrol': 0.893, 'Y1s1_enrol': 0.899, 'Y1s1_complete': 0.905, 'Y1s1_grade': 0.907, 'Y1s2_complete': 0.899, 'Y1s2_grade': 0.902, 'Y2s1_complete': 0.905, 'Y2s1_grade': 0.902, 'Y2s2_enrol': 0.909, 'Y2s2_complete': 0.893, 'Y2s2_grade': 0.905, 'Y3s2_complete': 0.899, 'Y4s1_grade': 0.909, 'Y4s2_enrol': 0.905, 'Y4s2_grade': 0.907, 'Rest_enrol': 0.907, 'Rest_grade': 0.905}\n",
      "\n",
      "Y4s1_grade 0.909\n",
      "\n",
      "{'Id': 0.878, 'Y0s1_enrol': 0.902, 'Y0s2_enrol': 0.904, 'Y1s1_enrol': 0.904, 'Y1s1_complete': 0.907, 'Y1s1_grade': 0.904, 'Y1s2_complete': 0.902, 'Y1s2_grade': 0.9, 'Y2s1_complete': 0.904, 'Y2s1_grade': 0.909, 'Y2s2_enrol': 0.909, 'Y2s2_complete': 0.895, 'Y2s2_grade': 0.905, 'Y3s2_complete': 0.902, 'Y4s2_enrol': 0.899, 'Y4s2_grade': 0.905, 'Rest_enrol': 0.904, 'Rest_grade': 0.902}\n",
      "\n",
      "Y2s2_enrol 0.909\n",
      "\n",
      "{'Id': 0.888, 'Y0s1_enrol': 0.902, 'Y0s2_enrol': 0.899, 'Y1s1_enrol': 0.895, 'Y1s1_complete': 0.907, 'Y1s1_grade': 0.904, 'Y1s2_complete': 0.904, 'Y1s2_grade': 0.905, 'Y2s1_complete': 0.904, 'Y2s1_grade': 0.905, 'Y2s2_complete': 0.899, 'Y2s2_grade': 0.905, 'Y3s2_complete': 0.905, 'Y4s2_enrol': 0.893, 'Y4s2_grade': 0.902, 'Rest_enrol': 0.9, 'Rest_grade': 0.907}\n",
      "\n",
      "Rest_grade 0.907\n",
      "\n",
      "{'Id': 0.878, 'Y0s1_enrol': 0.897, 'Y0s2_enrol': 0.905, 'Y1s1_enrol': 0.897, 'Y1s1_complete': 0.902, 'Y1s1_grade': 0.907, 'Y1s2_complete': 0.899, 'Y1s2_grade': 0.899, 'Y2s1_complete': 0.895, 'Y2s1_grade': 0.9, 'Y2s2_complete': 0.893, 'Y2s2_grade': 0.907, 'Y3s2_complete': 0.9, 'Y4s2_enrol': 0.904, 'Y4s2_grade': 0.9, 'Rest_enrol': 0.897}\n",
      "\n",
      "Y2s2_grade 0.907\n"
     ]
    },
    {
     "name": "stdout",
     "output_type": "stream",
     "text": [
      "\n",
      "{'Id': 0.881, 'Y0s1_enrol': 0.899, 'Y0s2_enrol': 0.904, 'Y1s1_enrol': 0.895, 'Y1s1_complete': 0.902, 'Y1s1_grade': 0.905, 'Y1s2_complete': 0.902, 'Y1s2_grade': 0.905, 'Y2s1_complete': 0.902, 'Y2s1_grade': 0.9, 'Y2s2_complete': 0.89, 'Y3s2_complete': 0.899, 'Y4s2_enrol': 0.902, 'Y4s2_grade': 0.907, 'Rest_enrol': 0.902}\n",
      "\n",
      "Y4s2_grade 0.907\n",
      "\n",
      "{'Id': 0.869, 'Y0s1_enrol': 0.897, 'Y0s2_enrol': 0.9, 'Y1s1_enrol': 0.895, 'Y1s1_complete': 0.902, 'Y1s1_grade': 0.902, 'Y1s2_complete': 0.899, 'Y1s2_grade': 0.895, 'Y2s1_complete': 0.897, 'Y2s1_grade': 0.9, 'Y2s2_complete': 0.885, 'Y3s2_complete': 0.904, 'Y4s2_enrol': 0.897, 'Rest_enrol': 0.895}\n",
      "\n",
      "Y3s2_complete 0.904\n",
      "\n",
      "{'Id': 0.866, 'Y0s1_enrol': 0.893, 'Y0s2_enrol': 0.897, 'Y1s1_enrol': 0.888, 'Y1s1_complete': 0.895, 'Y1s1_grade': 0.902, 'Y1s2_complete': 0.899, 'Y1s2_grade': 0.9, 'Y2s1_complete': 0.899, 'Y2s1_grade': 0.892, 'Y2s2_complete': 0.88, 'Y4s2_enrol': 0.897, 'Rest_enrol': 0.893}\n",
      "\n",
      "Y1s1_grade 0.902\n",
      "\n",
      "{'Id': 0.874, 'Y0s1_enrol': 0.893, 'Y0s2_enrol': 0.89, 'Y1s1_enrol': 0.895, 'Y1s1_complete': 0.893, 'Y1s2_complete': 0.902, 'Y1s2_grade': 0.904, 'Y2s1_complete': 0.902, 'Y2s1_grade': 0.895, 'Y2s2_complete': 0.883, 'Y4s2_enrol': 0.895, 'Rest_enrol': 0.899}\n",
      "\n",
      "Y1s2_grade 0.904\n",
      "\n",
      "{'Id': 0.88, 'Y0s1_enrol': 0.899, 'Y0s2_enrol': 0.895, 'Y1s1_enrol': 0.9, 'Y1s1_complete': 0.897, 'Y1s2_complete': 0.888, 'Y2s1_complete': 0.902, 'Y2s1_grade': 0.902, 'Y2s2_complete': 0.878, 'Y4s2_enrol': 0.895, 'Rest_enrol': 0.89}\n",
      "\n",
      "Y2s1_grade 0.902\n",
      "\n",
      "{'Id': 0.885, 'Y0s1_enrol': 0.89, 'Y0s2_enrol': 0.899, 'Y1s1_enrol': 0.899, 'Y1s1_complete': 0.897, 'Y1s2_complete': 0.887, 'Y2s1_complete': 0.887, 'Y2s2_complete': 0.873, 'Y4s2_enrol': 0.899, 'Rest_enrol': 0.892}\n",
      "\n",
      "Y4s2_enrol 0.899\n",
      "\n",
      "{'Id': 0.876, 'Y0s1_enrol': 0.89, 'Y0s2_enrol': 0.895, 'Y1s1_enrol': 0.89, 'Y1s1_complete': 0.895, 'Y1s2_complete': 0.883, 'Y2s1_complete': 0.895, 'Y2s2_complete': 0.876, 'Rest_enrol': 0.897}\n",
      "\n",
      "Rest_enrol 0.897\n",
      "\n",
      "{'Id': 0.873, 'Y0s1_enrol': 0.89, 'Y0s2_enrol': 0.888, 'Y1s1_enrol': 0.89, 'Y1s1_complete': 0.893, 'Y1s2_complete': 0.883, 'Y2s1_complete': 0.888, 'Y2s2_complete': 0.888}\n",
      "\n",
      "Y1s1_complete 0.893\n",
      "\n",
      "{'Id': 0.874, 'Y0s1_enrol': 0.89, 'Y0s2_enrol': 0.881, 'Y1s1_enrol': 0.9, 'Y1s2_complete': 0.89, 'Y2s1_complete': 0.887, 'Y2s2_complete': 0.885}\n",
      "\n",
      "Y1s1_enrol 0.9\n",
      "\n",
      "{'Id': 0.88, 'Y0s1_enrol': 0.885, 'Y0s2_enrol': 0.89, 'Y1s2_complete': 0.871, 'Y2s1_complete': 0.892, 'Y2s2_complete': 0.881}\n",
      "\n",
      "Y2s1_complete 0.892\n",
      "\n",
      "{'Id': 0.876, 'Y0s1_enrol': 0.887, 'Y0s2_enrol': 0.886, 'Y1s2_complete': 0.866, 'Y2s2_complete': 0.859}\n",
      "\n",
      "Y0s1_enrol 0.887\n",
      "\n",
      "{'Id': 0.869, 'Y0s2_enrol': 0.883, 'Y1s2_complete': 0.859, 'Y2s2_complete': 0.835}\n",
      "\n",
      "Y0s2_enrol 0.883\n",
      "\n",
      "{'Id': 0.845, 'Y1s2_complete': 0.856, 'Y2s2_complete': 0.842}\n",
      "\n",
      "Y1s2_complete 0.856\n"
     ]
    }
   ],
   "source": [
    "lista=[]\n",
    "while len(X_2par.columns)!=2:\n",
    "    avals={}\n",
    "    for e in X_2par.columns:\n",
    "        data_vars=X_2par.copy()\n",
    "        data_vars.drop(e, inplace=True, axis=1)\n",
    "        avals[e]=cross_val_score(gb, X=data_vars, y=Y, cv=5, scoring='recall').mean().round(3)\n",
    "    for t in avals.keys():\n",
    "        if avals[t]==max(avals.values()):\n",
    "            key=t\n",
    "        \n",
    "    X_2par.drop(key, inplace=True, axis=1)\n",
    "    print('')\n",
    "    print(avals)\n",
    "    print('')\n",
    "    \n",
    "    print(key,avals[key])"
   ]
  },
  {
   "cell_type": "markdown",
   "id": "775ec72c",
   "metadata": {},
   "source": [
    "#### Melhores variáveis: 'Id','Y2s2_complete'"
   ]
  },
  {
   "cell_type": "markdown",
   "id": "845ff34a",
   "metadata": {},
   "source": [
    "### Avaliar o modelo com as 2 melhores variáveis"
   ]
  },
  {
   "cell_type": "code",
   "execution_count": 39,
   "id": "326f9474",
   "metadata": {},
   "outputs": [],
   "source": [
    "Y=data['Failure']\n",
    "X=data.drop(columns=['Failure'])\n",
    "X_train, X_test, y_train, y_test = train_test_split(X[['Id','Y2s2_complete']], Y, test_size=0.20, random_state=42)"
   ]
  },
  {
   "cell_type": "code",
   "execution_count": 40,
   "id": "2ac9cbd6",
   "metadata": {},
   "outputs": [],
   "source": [
    "gb_2vars=GradientBoostingClassifier(random_state=10)"
   ]
  },
  {
   "cell_type": "code",
   "execution_count": 41,
   "id": "7c059987",
   "metadata": {},
   "outputs": [
    {
     "data": {
      "text/html": [
       "<style>#sk-container-id-5 {color: black;background-color: white;}#sk-container-id-5 pre{padding: 0;}#sk-container-id-5 div.sk-toggleable {background-color: white;}#sk-container-id-5 label.sk-toggleable__label {cursor: pointer;display: block;width: 100%;margin-bottom: 0;padding: 0.3em;box-sizing: border-box;text-align: center;}#sk-container-id-5 label.sk-toggleable__label-arrow:before {content: \"▸\";float: left;margin-right: 0.25em;color: #696969;}#sk-container-id-5 label.sk-toggleable__label-arrow:hover:before {color: black;}#sk-container-id-5 div.sk-estimator:hover label.sk-toggleable__label-arrow:before {color: black;}#sk-container-id-5 div.sk-toggleable__content {max-height: 0;max-width: 0;overflow: hidden;text-align: left;background-color: #f0f8ff;}#sk-container-id-5 div.sk-toggleable__content pre {margin: 0.2em;color: black;border-radius: 0.25em;background-color: #f0f8ff;}#sk-container-id-5 input.sk-toggleable__control:checked~div.sk-toggleable__content {max-height: 200px;max-width: 100%;overflow: auto;}#sk-container-id-5 input.sk-toggleable__control:checked~label.sk-toggleable__label-arrow:before {content: \"▾\";}#sk-container-id-5 div.sk-estimator input.sk-toggleable__control:checked~label.sk-toggleable__label {background-color: #d4ebff;}#sk-container-id-5 div.sk-label input.sk-toggleable__control:checked~label.sk-toggleable__label {background-color: #d4ebff;}#sk-container-id-5 input.sk-hidden--visually {border: 0;clip: rect(1px 1px 1px 1px);clip: rect(1px, 1px, 1px, 1px);height: 1px;margin: -1px;overflow: hidden;padding: 0;position: absolute;width: 1px;}#sk-container-id-5 div.sk-estimator {font-family: monospace;background-color: #f0f8ff;border: 1px dotted black;border-radius: 0.25em;box-sizing: border-box;margin-bottom: 0.5em;}#sk-container-id-5 div.sk-estimator:hover {background-color: #d4ebff;}#sk-container-id-5 div.sk-parallel-item::after {content: \"\";width: 100%;border-bottom: 1px solid gray;flex-grow: 1;}#sk-container-id-5 div.sk-label:hover label.sk-toggleable__label {background-color: #d4ebff;}#sk-container-id-5 div.sk-serial::before {content: \"\";position: absolute;border-left: 1px solid gray;box-sizing: border-box;top: 0;bottom: 0;left: 50%;z-index: 0;}#sk-container-id-5 div.sk-serial {display: flex;flex-direction: column;align-items: center;background-color: white;padding-right: 0.2em;padding-left: 0.2em;position: relative;}#sk-container-id-5 div.sk-item {position: relative;z-index: 1;}#sk-container-id-5 div.sk-parallel {display: flex;align-items: stretch;justify-content: center;background-color: white;position: relative;}#sk-container-id-5 div.sk-item::before, #sk-container-id-5 div.sk-parallel-item::before {content: \"\";position: absolute;border-left: 1px solid gray;box-sizing: border-box;top: 0;bottom: 0;left: 50%;z-index: -1;}#sk-container-id-5 div.sk-parallel-item {display: flex;flex-direction: column;z-index: 1;position: relative;background-color: white;}#sk-container-id-5 div.sk-parallel-item:first-child::after {align-self: flex-end;width: 50%;}#sk-container-id-5 div.sk-parallel-item:last-child::after {align-self: flex-start;width: 50%;}#sk-container-id-5 div.sk-parallel-item:only-child::after {width: 0;}#sk-container-id-5 div.sk-dashed-wrapped {border: 1px dashed gray;margin: 0 0.4em 0.5em 0.4em;box-sizing: border-box;padding-bottom: 0.4em;background-color: white;}#sk-container-id-5 div.sk-label label {font-family: monospace;font-weight: bold;display: inline-block;line-height: 1.2em;}#sk-container-id-5 div.sk-label-container {text-align: center;}#sk-container-id-5 div.sk-container {/* jupyter's `normalize.less` sets `[hidden] { display: none; }` but bootstrap.min.css set `[hidden] { display: none !important; }` so we also need the `!important` here to be able to override the default hidden behavior on the sphinx rendered scikit-learn.org. See: https://github.com/scikit-learn/scikit-learn/issues/21755 */display: inline-block !important;position: relative;}#sk-container-id-5 div.sk-text-repr-fallback {display: none;}</style><div id=\"sk-container-id-5\" class=\"sk-top-container\"><div class=\"sk-text-repr-fallback\"><pre>GradientBoostingClassifier(random_state=10)</pre><b>In a Jupyter environment, please rerun this cell to show the HTML representation or trust the notebook. <br />On GitHub, the HTML representation is unable to render, please try loading this page with nbviewer.org.</b></div><div class=\"sk-container\" hidden><div class=\"sk-item\"><div class=\"sk-estimator sk-toggleable\"><input class=\"sk-toggleable__control sk-hidden--visually\" id=\"sk-estimator-id-7\" type=\"checkbox\" checked><label for=\"sk-estimator-id-7\" class=\"sk-toggleable__label sk-toggleable__label-arrow\">GradientBoostingClassifier</label><div class=\"sk-toggleable__content\"><pre>GradientBoostingClassifier(random_state=10)</pre></div></div></div></div></div>"
      ],
      "text/plain": [
       "GradientBoostingClassifier(random_state=10)"
      ]
     },
     "execution_count": 41,
     "metadata": {},
     "output_type": "execute_result"
    }
   ],
   "source": [
    "gb_2vars.fit(X_train,y_train)"
   ]
  },
  {
   "cell_type": "code",
   "execution_count": 42,
   "id": "8adbf8ba",
   "metadata": {},
   "outputs": [],
   "source": [
    "y_pred=gb_2vars.predict(X_test)"
   ]
  },
  {
   "cell_type": "code",
   "execution_count": 43,
   "id": "54e8d791",
   "metadata": {},
   "outputs": [
    {
     "data": {
      "text/plain": [
       "(0.8571428571428571, 0.8648648648648649)"
      ]
     },
     "execution_count": 43,
     "metadata": {},
     "output_type": "execute_result"
    }
   ],
   "source": [
    "recall_score(y_test,y_pred),precision_score(y_test,y_pred)"
   ]
  },
  {
   "cell_type": "markdown",
   "id": "1f31e282",
   "metadata": {},
   "source": [
    "## Método 2"
   ]
  },
  {
   "cell_type": "code",
   "execution_count": 44,
   "id": "0tN3nKtvfYsX",
   "metadata": {
    "id": "0tN3nKtvfYsX"
   },
   "outputs": [
    {
     "name": "stdout",
     "output_type": "stream",
     "text": [
      "['Id', 'Program']\n",
      "0.345\n",
      "['Id', 'Y0s1_enrol']\n",
      "0.356\n",
      "['Id', 'Y1s1_enrol']\n",
      "0.567\n",
      "['Id', 'Y1s1_complete']\n",
      "0.801\n",
      "['Id', 'Y1s2_complete']\n",
      "0.842\n",
      "['Id', 'Y2s2_complete']\n",
      "0.856\n",
      "['Y2s1_enrol', 'Y2s2_complete']\n",
      "0.88\n",
      "['Y2s1_complete', 'Y2s2_complete']\n",
      "0.892\n",
      "['Y2s2_complete', 'Y4s2_complete']\n",
      "0.897\n"
     ]
    }
   ],
   "source": [
    "Y=data['Failure']\n",
    "X=data.drop(columns=['Failure'])\n",
    "Y_Comb=Y.copy()\n",
    "X_Comb=X.copy()\n",
    "test_list=X_Comb.columns\n",
    "gb=GradientBoostingClassifier(random_state=10)\n",
    "# print(\"The original list : \" + str(test_list))\n",
    "  \n",
    "res = [[a, b] for idx, a in enumerate(test_list) for b in test_list[idx + 1:]]\n",
    "  \n",
    "# print(\"All possible pairs : \" + str(res))\n",
    "maxiu=0\n",
    "lista=[]\n",
    "for e in res:\n",
    "    X_semvars=X_Comb[e]\n",
    "    score_recall=cross_val_score(gb, X=X_semvars, y=Y_Comb, cv=5, scoring='recall').mean().round(3)\n",
    "    lista.append([e,score_recall])\n",
    "    if score_recall>maxiu:\n",
    "        maxiu=score_recall\n",
    "        print(e)\n",
    "        print(maxiu)"
   ]
  },
  {
   "cell_type": "markdown",
   "id": "b7e702ed",
   "metadata": {},
   "source": [
    "#### Melhores variáveis:"
   ]
  },
  {
   "cell_type": "code",
   "execution_count": 45,
   "id": "nrDCXy8qfZd7",
   "metadata": {
    "id": "nrDCXy8qfZd7"
   },
   "outputs": [
    {
     "data": {
      "text/plain": [
       "[['Y2s2_complete', 'Y4s2_complete'], 0.897]"
      ]
     },
     "execution_count": 45,
     "metadata": {},
     "output_type": "execute_result"
    }
   ],
   "source": [
    "maxiu=lista[0][1]\n",
    "for e in lista:\n",
    "    if e[1]>maxiu:\n",
    "        maxiu=e[1]\n",
    "        maxi=e\n",
    "maxi"
   ]
  },
  {
   "cell_type": "markdown",
   "id": "bd8a6586",
   "metadata": {},
   "source": [
    "#### Selécionamos as variáveis obtidas com o método 2, pois é o modelo que apresenta melhor performance: 'Y2s2_complete', 'Y4s2_complete'"
   ]
  },
  {
   "cell_type": "markdown",
   "id": "a3a7b086",
   "metadata": {},
   "source": [
    "### Avaliar o modelo com as 2 melhores variáveis"
   ]
  },
  {
   "cell_type": "code",
   "execution_count": 47,
   "id": "b6afbb06",
   "metadata": {},
   "outputs": [],
   "source": [
    "Y=data['Failure']\n",
    "X=data.drop(columns=['Failure'])\n",
    "X_train, X_test, y_train, y_test = train_test_split(X[['Y2s2_complete', 'Y4s2_complete']], Y, test_size=0.20, random_state=42)"
   ]
  },
  {
   "cell_type": "code",
   "execution_count": 48,
   "id": "19cd5c96",
   "metadata": {},
   "outputs": [],
   "source": [
    "gb_2=GradientBoostingClassifier(random_state=10)"
   ]
  },
  {
   "cell_type": "code",
   "execution_count": 49,
   "id": "96af1b32",
   "metadata": {},
   "outputs": [
    {
     "data": {
      "text/html": [
       "<style>#sk-container-id-6 {color: black;background-color: white;}#sk-container-id-6 pre{padding: 0;}#sk-container-id-6 div.sk-toggleable {background-color: white;}#sk-container-id-6 label.sk-toggleable__label {cursor: pointer;display: block;width: 100%;margin-bottom: 0;padding: 0.3em;box-sizing: border-box;text-align: center;}#sk-container-id-6 label.sk-toggleable__label-arrow:before {content: \"▸\";float: left;margin-right: 0.25em;color: #696969;}#sk-container-id-6 label.sk-toggleable__label-arrow:hover:before {color: black;}#sk-container-id-6 div.sk-estimator:hover label.sk-toggleable__label-arrow:before {color: black;}#sk-container-id-6 div.sk-toggleable__content {max-height: 0;max-width: 0;overflow: hidden;text-align: left;background-color: #f0f8ff;}#sk-container-id-6 div.sk-toggleable__content pre {margin: 0.2em;color: black;border-radius: 0.25em;background-color: #f0f8ff;}#sk-container-id-6 input.sk-toggleable__control:checked~div.sk-toggleable__content {max-height: 200px;max-width: 100%;overflow: auto;}#sk-container-id-6 input.sk-toggleable__control:checked~label.sk-toggleable__label-arrow:before {content: \"▾\";}#sk-container-id-6 div.sk-estimator input.sk-toggleable__control:checked~label.sk-toggleable__label {background-color: #d4ebff;}#sk-container-id-6 div.sk-label input.sk-toggleable__control:checked~label.sk-toggleable__label {background-color: #d4ebff;}#sk-container-id-6 input.sk-hidden--visually {border: 0;clip: rect(1px 1px 1px 1px);clip: rect(1px, 1px, 1px, 1px);height: 1px;margin: -1px;overflow: hidden;padding: 0;position: absolute;width: 1px;}#sk-container-id-6 div.sk-estimator {font-family: monospace;background-color: #f0f8ff;border: 1px dotted black;border-radius: 0.25em;box-sizing: border-box;margin-bottom: 0.5em;}#sk-container-id-6 div.sk-estimator:hover {background-color: #d4ebff;}#sk-container-id-6 div.sk-parallel-item::after {content: \"\";width: 100%;border-bottom: 1px solid gray;flex-grow: 1;}#sk-container-id-6 div.sk-label:hover label.sk-toggleable__label {background-color: #d4ebff;}#sk-container-id-6 div.sk-serial::before {content: \"\";position: absolute;border-left: 1px solid gray;box-sizing: border-box;top: 0;bottom: 0;left: 50%;z-index: 0;}#sk-container-id-6 div.sk-serial {display: flex;flex-direction: column;align-items: center;background-color: white;padding-right: 0.2em;padding-left: 0.2em;position: relative;}#sk-container-id-6 div.sk-item {position: relative;z-index: 1;}#sk-container-id-6 div.sk-parallel {display: flex;align-items: stretch;justify-content: center;background-color: white;position: relative;}#sk-container-id-6 div.sk-item::before, #sk-container-id-6 div.sk-parallel-item::before {content: \"\";position: absolute;border-left: 1px solid gray;box-sizing: border-box;top: 0;bottom: 0;left: 50%;z-index: -1;}#sk-container-id-6 div.sk-parallel-item {display: flex;flex-direction: column;z-index: 1;position: relative;background-color: white;}#sk-container-id-6 div.sk-parallel-item:first-child::after {align-self: flex-end;width: 50%;}#sk-container-id-6 div.sk-parallel-item:last-child::after {align-self: flex-start;width: 50%;}#sk-container-id-6 div.sk-parallel-item:only-child::after {width: 0;}#sk-container-id-6 div.sk-dashed-wrapped {border: 1px dashed gray;margin: 0 0.4em 0.5em 0.4em;box-sizing: border-box;padding-bottom: 0.4em;background-color: white;}#sk-container-id-6 div.sk-label label {font-family: monospace;font-weight: bold;display: inline-block;line-height: 1.2em;}#sk-container-id-6 div.sk-label-container {text-align: center;}#sk-container-id-6 div.sk-container {/* jupyter's `normalize.less` sets `[hidden] { display: none; }` but bootstrap.min.css set `[hidden] { display: none !important; }` so we also need the `!important` here to be able to override the default hidden behavior on the sphinx rendered scikit-learn.org. See: https://github.com/scikit-learn/scikit-learn/issues/21755 */display: inline-block !important;position: relative;}#sk-container-id-6 div.sk-text-repr-fallback {display: none;}</style><div id=\"sk-container-id-6\" class=\"sk-top-container\"><div class=\"sk-text-repr-fallback\"><pre>GradientBoostingClassifier(random_state=10)</pre><b>In a Jupyter environment, please rerun this cell to show the HTML representation or trust the notebook. <br />On GitHub, the HTML representation is unable to render, please try loading this page with nbviewer.org.</b></div><div class=\"sk-container\" hidden><div class=\"sk-item\"><div class=\"sk-estimator sk-toggleable\"><input class=\"sk-toggleable__control sk-hidden--visually\" id=\"sk-estimator-id-8\" type=\"checkbox\" checked><label for=\"sk-estimator-id-8\" class=\"sk-toggleable__label sk-toggleable__label-arrow\">GradientBoostingClassifier</label><div class=\"sk-toggleable__content\"><pre>GradientBoostingClassifier(random_state=10)</pre></div></div></div></div></div>"
      ],
      "text/plain": [
       "GradientBoostingClassifier(random_state=10)"
      ]
     },
     "execution_count": 49,
     "metadata": {},
     "output_type": "execute_result"
    }
   ],
   "source": [
    "gb_2.fit(X_train,y_train)"
   ]
  },
  {
   "cell_type": "code",
   "execution_count": 50,
   "id": "e5ef93de",
   "metadata": {},
   "outputs": [],
   "source": [
    "y_pred=gb_2.predict(X_test)"
   ]
  },
  {
   "cell_type": "code",
   "execution_count": 51,
   "id": "957c168e",
   "metadata": {},
   "outputs": [
    {
     "data": {
      "text/plain": [
       "(0.9107142857142857, 0.6938775510204082)"
      ]
     },
     "execution_count": 51,
     "metadata": {},
     "output_type": "execute_result"
    }
   ],
   "source": [
    "recall_score(y_test,y_pred),precision_score(y_test,y_pred)"
   ]
  },
  {
   "cell_type": "markdown",
   "id": "f21e311f",
   "metadata": {},
   "source": [
    "# Experiência 4 - Otimização do Modelo com as 2 variáveis selecionadas\n"
   ]
  },
  {
   "cell_type": "code",
   "execution_count": 52,
   "id": "773520fc",
   "metadata": {
    "id": "B-nutgydwX7M"
   },
   "outputs": [],
   "source": [
    "Y=data['Failure']\n",
    "X=data.drop(columns=['Failure'])[['Y2s2_complete', 'Y4s2_complete']]\n",
    "X_train, X_test, y_train, y_test = train_test_split(X, Y, test_size=0.20, random_state=42)\n",
    "parameters={'learning_rate':[0.01,0.05,0.1],'n_estimators':[50,75,100,150,200,300,400],'max_depth':[1,2,3,4,5]}"
   ]
  },
  {
   "cell_type": "code",
   "execution_count": 53,
   "id": "9eb10813",
   "metadata": {},
   "outputs": [],
   "source": [
    "gb_2otim=GradientBoostingClassifier(random_state=10)"
   ]
  },
  {
   "cell_type": "code",
   "execution_count": 54,
   "id": "5660c4ce",
   "metadata": {
    "id": "99e7c40c"
   },
   "outputs": [],
   "source": [
    "grid_2=GridSearchCV(gb_2otim,parameters,scoring='recall',cv=5,verbose=3)"
   ]
  },
  {
   "cell_type": "code",
   "execution_count": 55,
   "id": "93b18cb9",
   "metadata": {
    "colab": {
     "base_uri": "https://localhost:8080/"
    },
    "id": "1a2212c6",
    "outputId": "2dc47fae-3a9a-4077-c9b8-8f41a9f49719"
   },
   "outputs": [
    {
     "name": "stdout",
     "output_type": "stream",
     "text": [
      "Fitting 5 folds for each of 105 candidates, totalling 525 fits\n",
      "[CV 1/5] END learning_rate=0.01, max_depth=1, n_estimators=50;, score=0.000 total time=   0.0s\n",
      "[CV 2/5] END learning_rate=0.01, max_depth=1, n_estimators=50;, score=0.000 total time=   0.0s\n",
      "[CV 3/5] END learning_rate=0.01, max_depth=1, n_estimators=50;, score=0.000 total time=   0.0s\n",
      "[CV 4/5] END learning_rate=0.01, max_depth=1, n_estimators=50;, score=0.000 total time=   0.0s\n",
      "[CV 5/5] END learning_rate=0.01, max_depth=1, n_estimators=50;, score=0.000 total time=   0.0s\n",
      "[CV 1/5] END learning_rate=0.01, max_depth=1, n_estimators=75;, score=0.883 total time=   0.0s\n",
      "[CV 2/5] END learning_rate=0.01, max_depth=1, n_estimators=75;, score=0.894 total time=   0.0s\n",
      "[CV 3/5] END learning_rate=0.01, max_depth=1, n_estimators=75;, score=0.798 total time=   0.0s\n",
      "[CV 4/5] END learning_rate=0.01, max_depth=1, n_estimators=75;, score=0.000 total time=   0.0s\n",
      "[CV 5/5] END learning_rate=0.01, max_depth=1, n_estimators=75;, score=0.000 total time=   0.0s\n",
      "[CV 1/5] END learning_rate=0.01, max_depth=1, n_estimators=100;, score=0.883 total time=   0.0s\n",
      "[CV 2/5] END learning_rate=0.01, max_depth=1, n_estimators=100;, score=0.894 total time=   0.0s\n",
      "[CV 3/5] END learning_rate=0.01, max_depth=1, n_estimators=100;, score=0.798 total time=   0.0s\n",
      "[CV 4/5] END learning_rate=0.01, max_depth=1, n_estimators=100;, score=0.915 total time=   0.0s\n",
      "[CV 5/5] END learning_rate=0.01, max_depth=1, n_estimators=100;, score=0.926 total time=   0.0s\n",
      "[CV 1/5] END learning_rate=0.01, max_depth=1, n_estimators=150;, score=0.883 total time=   0.0s\n",
      "[CV 2/5] END learning_rate=0.01, max_depth=1, n_estimators=150;, score=0.894 total time=   0.0s\n",
      "[CV 3/5] END learning_rate=0.01, max_depth=1, n_estimators=150;, score=0.894 total time=   0.0s\n",
      "[CV 4/5] END learning_rate=0.01, max_depth=1, n_estimators=150;, score=0.915 total time=   0.0s\n",
      "[CV 5/5] END learning_rate=0.01, max_depth=1, n_estimators=150;, score=0.926 total time=   0.0s\n",
      "[CV 1/5] END learning_rate=0.01, max_depth=1, n_estimators=200;, score=0.883 total time=   0.0s\n",
      "[CV 2/5] END learning_rate=0.01, max_depth=1, n_estimators=200;, score=0.894 total time=   0.0s\n",
      "[CV 3/5] END learning_rate=0.01, max_depth=1, n_estimators=200;, score=0.894 total time=   0.0s\n",
      "[CV 4/5] END learning_rate=0.01, max_depth=1, n_estimators=200;, score=0.915 total time=   0.0s\n",
      "[CV 5/5] END learning_rate=0.01, max_depth=1, n_estimators=200;, score=0.926 total time=   0.0s\n",
      "[CV 1/5] END learning_rate=0.01, max_depth=1, n_estimators=300;, score=0.883 total time=   0.0s\n",
      "[CV 2/5] END learning_rate=0.01, max_depth=1, n_estimators=300;, score=0.894 total time=   0.0s\n",
      "[CV 3/5] END learning_rate=0.01, max_depth=1, n_estimators=300;, score=0.851 total time=   0.0s\n",
      "[CV 4/5] END learning_rate=0.01, max_depth=1, n_estimators=300;, score=0.915 total time=   0.0s\n",
      "[CV 5/5] END learning_rate=0.01, max_depth=1, n_estimators=300;, score=0.926 total time=   0.0s\n",
      "[CV 1/5] END learning_rate=0.01, max_depth=1, n_estimators=400;, score=0.883 total time=   0.1s\n",
      "[CV 2/5] END learning_rate=0.01, max_depth=1, n_estimators=400;, score=0.894 total time=   0.1s\n",
      "[CV 3/5] END learning_rate=0.01, max_depth=1, n_estimators=400;, score=0.851 total time=   0.1s\n",
      "[CV 4/5] END learning_rate=0.01, max_depth=1, n_estimators=400;, score=0.915 total time=   0.1s\n",
      "[CV 5/5] END learning_rate=0.01, max_depth=1, n_estimators=400;, score=0.926 total time=   0.1s\n",
      "[CV 1/5] END learning_rate=0.01, max_depth=2, n_estimators=50;, score=0.000 total time=   0.0s\n",
      "[CV 2/5] END learning_rate=0.01, max_depth=2, n_estimators=50;, score=0.000 total time=   0.0s\n",
      "[CV 3/5] END learning_rate=0.01, max_depth=2, n_estimators=50;, score=0.000 total time=   0.0s\n",
      "[CV 4/5] END learning_rate=0.01, max_depth=2, n_estimators=50;, score=0.000 total time=   0.0s\n",
      "[CV 5/5] END learning_rate=0.01, max_depth=2, n_estimators=50;, score=0.000 total time=   0.0s\n",
      "[CV 1/5] END learning_rate=0.01, max_depth=2, n_estimators=75;, score=0.872 total time=   0.0s\n",
      "[CV 2/5] END learning_rate=0.01, max_depth=2, n_estimators=75;, score=0.840 total time=   0.0s\n",
      "[CV 3/5] END learning_rate=0.01, max_depth=2, n_estimators=75;, score=0.819 total time=   0.0s\n",
      "[CV 4/5] END learning_rate=0.01, max_depth=2, n_estimators=75;, score=0.894 total time=   0.0s\n",
      "[CV 5/5] END learning_rate=0.01, max_depth=2, n_estimators=75;, score=0.904 total time=   0.0s\n",
      "[CV 1/5] END learning_rate=0.01, max_depth=2, n_estimators=100;, score=0.872 total time=   0.0s\n",
      "[CV 2/5] END learning_rate=0.01, max_depth=2, n_estimators=100;, score=0.894 total time=   0.0s\n",
      "[CV 3/5] END learning_rate=0.01, max_depth=2, n_estimators=100;, score=0.819 total time=   0.0s\n",
      "[CV 4/5] END learning_rate=0.01, max_depth=2, n_estimators=100;, score=0.904 total time=   0.0s\n",
      "[CV 5/5] END learning_rate=0.01, max_depth=2, n_estimators=100;, score=0.926 total time=   0.0s\n",
      "[CV 1/5] END learning_rate=0.01, max_depth=2, n_estimators=150;, score=0.872 total time=   0.0s\n",
      "[CV 2/5] END learning_rate=0.01, max_depth=2, n_estimators=150;, score=0.894 total time=   0.0s\n",
      "[CV 3/5] END learning_rate=0.01, max_depth=2, n_estimators=150;, score=0.830 total time=   0.0s\n",
      "[CV 4/5] END learning_rate=0.01, max_depth=2, n_estimators=150;, score=0.904 total time=   0.0s\n",
      "[CV 5/5] END learning_rate=0.01, max_depth=2, n_estimators=150;, score=0.926 total time=   0.0s\n",
      "[CV 1/5] END learning_rate=0.01, max_depth=2, n_estimators=200;, score=0.872 total time=   0.0s\n",
      "[CV 2/5] END learning_rate=0.01, max_depth=2, n_estimators=200;, score=0.894 total time=   0.0s\n",
      "[CV 3/5] END learning_rate=0.01, max_depth=2, n_estimators=200;, score=0.830 total time=   0.0s\n",
      "[CV 4/5] END learning_rate=0.01, max_depth=2, n_estimators=200;, score=0.904 total time=   0.0s\n",
      "[CV 5/5] END learning_rate=0.01, max_depth=2, n_estimators=200;, score=0.926 total time=   0.0s\n",
      "[CV 1/5] END learning_rate=0.01, max_depth=2, n_estimators=300;, score=0.851 total time=   0.1s\n",
      "[CV 2/5] END learning_rate=0.01, max_depth=2, n_estimators=300;, score=0.894 total time=   0.1s\n",
      "[CV 3/5] END learning_rate=0.01, max_depth=2, n_estimators=300;, score=0.830 total time=   0.0s\n",
      "[CV 4/5] END learning_rate=0.01, max_depth=2, n_estimators=300;, score=0.904 total time=   0.1s\n",
      "[CV 5/5] END learning_rate=0.01, max_depth=2, n_estimators=300;, score=0.926 total time=   0.1s\n",
      "[CV 1/5] END learning_rate=0.01, max_depth=2, n_estimators=400;, score=0.851 total time=   0.1s\n",
      "[CV 2/5] END learning_rate=0.01, max_depth=2, n_estimators=400;, score=0.894 total time=   0.1s\n",
      "[CV 3/5] END learning_rate=0.01, max_depth=2, n_estimators=400;, score=0.830 total time=   0.1s\n",
      "[CV 4/5] END learning_rate=0.01, max_depth=2, n_estimators=400;, score=0.904 total time=   0.1s\n",
      "[CV 5/5] END learning_rate=0.01, max_depth=2, n_estimators=400;, score=0.926 total time=   0.1s\n",
      "[CV 1/5] END learning_rate=0.01, max_depth=3, n_estimators=50;, score=0.000 total time=   0.0s\n",
      "[CV 2/5] END learning_rate=0.01, max_depth=3, n_estimators=50;, score=0.000 total time=   0.0s\n",
      "[CV 3/5] END learning_rate=0.01, max_depth=3, n_estimators=50;, score=0.000 total time=   0.0s\n",
      "[CV 4/5] END learning_rate=0.01, max_depth=3, n_estimators=50;, score=0.000 total time=   0.0s\n",
      "[CV 5/5] END learning_rate=0.01, max_depth=3, n_estimators=50;, score=0.011 total time=   0.0s\n",
      "[CV 1/5] END learning_rate=0.01, max_depth=3, n_estimators=75;, score=0.798 total time=   0.0s\n",
      "[CV 2/5] END learning_rate=0.01, max_depth=3, n_estimators=75;, score=0.840 total time=   0.0s\n",
      "[CV 3/5] END learning_rate=0.01, max_depth=3, n_estimators=75;, score=0.766 total time=   0.0s\n",
      "[CV 4/5] END learning_rate=0.01, max_depth=3, n_estimators=75;, score=0.819 total time=   0.0s\n",
      "[CV 5/5] END learning_rate=0.01, max_depth=3, n_estimators=75;, score=0.904 total time=   0.0s\n",
      "[CV 1/5] END learning_rate=0.01, max_depth=3, n_estimators=100;, score=0.851 total time=   0.0s\n",
      "[CV 2/5] END learning_rate=0.01, max_depth=3, n_estimators=100;, score=0.872 total time=   0.0s\n",
      "[CV 3/5] END learning_rate=0.01, max_depth=3, n_estimators=100;, score=0.830 total time=   0.0s\n",
      "[CV 4/5] END learning_rate=0.01, max_depth=3, n_estimators=100;, score=0.894 total time=   0.0s\n",
      "[CV 5/5] END learning_rate=0.01, max_depth=3, n_estimators=100;, score=0.915 total time=   0.0s\n",
      "[CV 1/5] END learning_rate=0.01, max_depth=3, n_estimators=150;, score=0.872 total time=   0.0s\n"
     ]
    },
    {
     "name": "stdout",
     "output_type": "stream",
     "text": [
      "[CV 2/5] END learning_rate=0.01, max_depth=3, n_estimators=150;, score=0.872 total time=   0.0s\n",
      "[CV 3/5] END learning_rate=0.01, max_depth=3, n_estimators=150;, score=0.830 total time=   0.0s\n",
      "[CV 4/5] END learning_rate=0.01, max_depth=3, n_estimators=150;, score=0.915 total time=   0.0s\n",
      "[CV 5/5] END learning_rate=0.01, max_depth=3, n_estimators=150;, score=0.926 total time=   0.0s\n",
      "[CV 1/5] END learning_rate=0.01, max_depth=3, n_estimators=200;, score=0.872 total time=   0.0s\n",
      "[CV 2/5] END learning_rate=0.01, max_depth=3, n_estimators=200;, score=0.872 total time=   0.0s\n",
      "[CV 3/5] END learning_rate=0.01, max_depth=3, n_estimators=200;, score=0.830 total time=   0.0s\n",
      "[CV 4/5] END learning_rate=0.01, max_depth=3, n_estimators=200;, score=0.915 total time=   0.0s\n",
      "[CV 5/5] END learning_rate=0.01, max_depth=3, n_estimators=200;, score=0.926 total time=   0.0s\n",
      "[CV 1/5] END learning_rate=0.01, max_depth=3, n_estimators=300;, score=0.872 total time=   0.1s\n",
      "[CV 2/5] END learning_rate=0.01, max_depth=3, n_estimators=300;, score=0.862 total time=   0.1s\n",
      "[CV 3/5] END learning_rate=0.01, max_depth=3, n_estimators=300;, score=0.830 total time=   0.1s\n",
      "[CV 4/5] END learning_rate=0.01, max_depth=3, n_estimators=300;, score=0.915 total time=   0.1s\n",
      "[CV 5/5] END learning_rate=0.01, max_depth=3, n_estimators=300;, score=0.936 total time=   0.1s\n",
      "[CV 1/5] END learning_rate=0.01, max_depth=3, n_estimators=400;, score=0.872 total time=   0.2s\n",
      "[CV 2/5] END learning_rate=0.01, max_depth=3, n_estimators=400;, score=0.862 total time=   0.2s\n",
      "[CV 3/5] END learning_rate=0.01, max_depth=3, n_estimators=400;, score=0.830 total time=   0.2s\n",
      "[CV 4/5] END learning_rate=0.01, max_depth=3, n_estimators=400;, score=0.915 total time=   0.2s\n",
      "[CV 5/5] END learning_rate=0.01, max_depth=3, n_estimators=400;, score=0.936 total time=   0.2s\n",
      "[CV 1/5] END learning_rate=0.01, max_depth=4, n_estimators=50;, score=0.000 total time=   0.0s\n",
      "[CV 2/5] END learning_rate=0.01, max_depth=4, n_estimators=50;, score=0.000 total time=   0.0s\n",
      "[CV 3/5] END learning_rate=0.01, max_depth=4, n_estimators=50;, score=0.000 total time=   0.0s\n",
      "[CV 4/5] END learning_rate=0.01, max_depth=4, n_estimators=50;, score=0.000 total time=   0.0s\n",
      "[CV 5/5] END learning_rate=0.01, max_depth=4, n_estimators=50;, score=0.011 total time=   0.0s\n",
      "[CV 1/5] END learning_rate=0.01, max_depth=4, n_estimators=75;, score=0.819 total time=   0.0s\n",
      "[CV 2/5] END learning_rate=0.01, max_depth=4, n_estimators=75;, score=0.787 total time=   0.0s\n",
      "[CV 3/5] END learning_rate=0.01, max_depth=4, n_estimators=75;, score=0.777 total time=   0.0s\n",
      "[CV 4/5] END learning_rate=0.01, max_depth=4, n_estimators=75;, score=0.830 total time=   0.0s\n",
      "[CV 5/5] END learning_rate=0.01, max_depth=4, n_estimators=75;, score=0.894 total time=   0.0s\n",
      "[CV 1/5] END learning_rate=0.01, max_depth=4, n_estimators=100;, score=0.830 total time=   0.0s\n",
      "[CV 2/5] END learning_rate=0.01, max_depth=4, n_estimators=100;, score=0.862 total time=   0.0s\n",
      "[CV 3/5] END learning_rate=0.01, max_depth=4, n_estimators=100;, score=0.766 total time=   0.0s\n",
      "[CV 4/5] END learning_rate=0.01, max_depth=4, n_estimators=100;, score=0.915 total time=   0.0s\n",
      "[CV 5/5] END learning_rate=0.01, max_depth=4, n_estimators=100;, score=0.926 total time=   0.0s\n",
      "[CV 1/5] END learning_rate=0.01, max_depth=4, n_estimators=150;, score=0.872 total time=   0.0s\n",
      "[CV 2/5] END learning_rate=0.01, max_depth=4, n_estimators=150;, score=0.862 total time=   0.0s\n",
      "[CV 3/5] END learning_rate=0.01, max_depth=4, n_estimators=150;, score=0.840 total time=   0.0s\n",
      "[CV 4/5] END learning_rate=0.01, max_depth=4, n_estimators=150;, score=0.915 total time=   0.0s\n",
      "[CV 5/5] END learning_rate=0.01, max_depth=4, n_estimators=150;, score=0.936 total time=   0.0s\n",
      "[CV 1/5] END learning_rate=0.01, max_depth=4, n_estimators=200;, score=0.872 total time=   0.1s\n",
      "[CV 2/5] END learning_rate=0.01, max_depth=4, n_estimators=200;, score=0.862 total time=   0.1s\n",
      "[CV 3/5] END learning_rate=0.01, max_depth=4, n_estimators=200;, score=0.840 total time=   0.1s\n",
      "[CV 4/5] END learning_rate=0.01, max_depth=4, n_estimators=200;, score=0.915 total time=   0.1s\n",
      "[CV 5/5] END learning_rate=0.01, max_depth=4, n_estimators=200;, score=0.947 total time=   0.1s\n",
      "[CV 1/5] END learning_rate=0.01, max_depth=4, n_estimators=300;, score=0.872 total time=   0.1s\n",
      "[CV 2/5] END learning_rate=0.01, max_depth=4, n_estimators=300;, score=0.862 total time=   0.2s\n",
      "[CV 3/5] END learning_rate=0.01, max_depth=4, n_estimators=300;, score=0.840 total time=   0.2s\n",
      "[CV 4/5] END learning_rate=0.01, max_depth=4, n_estimators=300;, score=0.915 total time=   0.2s\n",
      "[CV 5/5] END learning_rate=0.01, max_depth=4, n_estimators=300;, score=0.947 total time=   0.2s\n",
      "[CV 1/5] END learning_rate=0.01, max_depth=4, n_estimators=400;, score=0.872 total time=   0.2s\n",
      "[CV 2/5] END learning_rate=0.01, max_depth=4, n_estimators=400;, score=0.862 total time=   0.2s\n",
      "[CV 3/5] END learning_rate=0.01, max_depth=4, n_estimators=400;, score=0.851 total time=   0.2s\n",
      "[CV 4/5] END learning_rate=0.01, max_depth=4, n_estimators=400;, score=0.915 total time=   0.2s\n",
      "[CV 5/5] END learning_rate=0.01, max_depth=4, n_estimators=400;, score=0.947 total time=   0.2s\n",
      "[CV 1/5] END learning_rate=0.01, max_depth=5, n_estimators=50;, score=0.021 total time=   0.0s\n",
      "[CV 2/5] END learning_rate=0.01, max_depth=5, n_estimators=50;, score=0.000 total time=   0.0s\n",
      "[CV 3/5] END learning_rate=0.01, max_depth=5, n_estimators=50;, score=0.011 total time=   0.0s\n",
      "[CV 4/5] END learning_rate=0.01, max_depth=5, n_estimators=50;, score=0.011 total time=   0.0s\n",
      "[CV 5/5] END learning_rate=0.01, max_depth=5, n_estimators=50;, score=0.011 total time=   0.0s\n",
      "[CV 1/5] END learning_rate=0.01, max_depth=5, n_estimators=75;, score=0.819 total time=   0.0s\n",
      "[CV 2/5] END learning_rate=0.01, max_depth=5, n_estimators=75;, score=0.787 total time=   0.0s\n",
      "[CV 3/5] END learning_rate=0.01, max_depth=5, n_estimators=75;, score=0.787 total time=   0.0s\n",
      "[CV 4/5] END learning_rate=0.01, max_depth=5, n_estimators=75;, score=0.904 total time=   0.0s\n",
      "[CV 5/5] END learning_rate=0.01, max_depth=5, n_estimators=75;, score=0.894 total time=   0.0s\n",
      "[CV 1/5] END learning_rate=0.01, max_depth=5, n_estimators=100;, score=0.830 total time=   0.0s\n",
      "[CV 2/5] END learning_rate=0.01, max_depth=5, n_estimators=100;, score=0.798 total time=   0.0s\n",
      "[CV 3/5] END learning_rate=0.01, max_depth=5, n_estimators=100;, score=0.777 total time=   0.0s\n",
      "[CV 4/5] END learning_rate=0.01, max_depth=5, n_estimators=100;, score=0.915 total time=   0.0s\n",
      "[CV 5/5] END learning_rate=0.01, max_depth=5, n_estimators=100;, score=0.915 total time=   0.0s\n",
      "[CV 1/5] END learning_rate=0.01, max_depth=5, n_estimators=150;, score=0.872 total time=   0.1s\n",
      "[CV 2/5] END learning_rate=0.01, max_depth=5, n_estimators=150;, score=0.840 total time=   0.1s\n",
      "[CV 3/5] END learning_rate=0.01, max_depth=5, n_estimators=150;, score=0.840 total time=   0.1s\n",
      "[CV 4/5] END learning_rate=0.01, max_depth=5, n_estimators=150;, score=0.915 total time=   0.1s\n",
      "[CV 5/5] END learning_rate=0.01, max_depth=5, n_estimators=150;, score=0.926 total time=   0.1s\n",
      "[CV 1/5] END learning_rate=0.01, max_depth=5, n_estimators=200;, score=0.872 total time=   0.1s\n",
      "[CV 2/5] END learning_rate=0.01, max_depth=5, n_estimators=200;, score=0.840 total time=   0.1s\n",
      "[CV 3/5] END learning_rate=0.01, max_depth=5, n_estimators=200;, score=0.851 total time=   0.1s\n",
      "[CV 4/5] END learning_rate=0.01, max_depth=5, n_estimators=200;, score=0.926 total time=   0.1s\n",
      "[CV 5/5] END learning_rate=0.01, max_depth=5, n_estimators=200;, score=0.957 total time=   0.1s\n",
      "[CV 1/5] END learning_rate=0.01, max_depth=5, n_estimators=300;, score=0.872 total time=   0.2s\n",
      "[CV 2/5] END learning_rate=0.01, max_depth=5, n_estimators=300;, score=0.862 total time=   0.2s\n",
      "[CV 3/5] END learning_rate=0.01, max_depth=5, n_estimators=300;, score=0.851 total time=   0.2s\n",
      "[CV 4/5] END learning_rate=0.01, max_depth=5, n_estimators=300;, score=0.926 total time=   0.2s\n",
      "[CV 5/5] END learning_rate=0.01, max_depth=5, n_estimators=300;, score=0.957 total time=   0.2s\n",
      "[CV 1/5] END learning_rate=0.01, max_depth=5, n_estimators=400;, score=0.872 total time=   0.3s\n",
      "[CV 2/5] END learning_rate=0.01, max_depth=5, n_estimators=400;, score=0.862 total time=   0.3s\n"
     ]
    },
    {
     "name": "stdout",
     "output_type": "stream",
     "text": [
      "[CV 3/5] END learning_rate=0.01, max_depth=5, n_estimators=400;, score=0.851 total time=   0.3s\n",
      "[CV 4/5] END learning_rate=0.01, max_depth=5, n_estimators=400;, score=0.926 total time=   0.4s\n",
      "[CV 5/5] END learning_rate=0.01, max_depth=5, n_estimators=400;, score=0.957 total time=   0.3s\n",
      "[CV 1/5] END learning_rate=0.05, max_depth=1, n_estimators=50;, score=0.883 total time=   0.0s\n",
      "[CV 2/5] END learning_rate=0.05, max_depth=1, n_estimators=50;, score=0.894 total time=   0.0s\n",
      "[CV 3/5] END learning_rate=0.05, max_depth=1, n_estimators=50;, score=0.894 total time=   0.0s\n",
      "[CV 4/5] END learning_rate=0.05, max_depth=1, n_estimators=50;, score=0.915 total time=   0.0s\n",
      "[CV 5/5] END learning_rate=0.05, max_depth=1, n_estimators=50;, score=0.926 total time=   0.0s\n",
      "[CV 1/5] END learning_rate=0.05, max_depth=1, n_estimators=75;, score=0.883 total time=   0.0s\n",
      "[CV 2/5] END learning_rate=0.05, max_depth=1, n_estimators=75;, score=0.894 total time=   0.0s\n",
      "[CV 3/5] END learning_rate=0.05, max_depth=1, n_estimators=75;, score=0.851 total time=   0.0s\n",
      "[CV 4/5] END learning_rate=0.05, max_depth=1, n_estimators=75;, score=0.915 total time=   0.0s\n",
      "[CV 5/5] END learning_rate=0.05, max_depth=1, n_estimators=75;, score=0.926 total time=   0.0s\n",
      "[CV 1/5] END learning_rate=0.05, max_depth=1, n_estimators=100;, score=0.883 total time=   0.0s\n",
      "[CV 2/5] END learning_rate=0.05, max_depth=1, n_estimators=100;, score=0.894 total time=   0.0s\n",
      "[CV 3/5] END learning_rate=0.05, max_depth=1, n_estimators=100;, score=0.851 total time=   0.0s\n",
      "[CV 4/5] END learning_rate=0.05, max_depth=1, n_estimators=100;, score=0.915 total time=   0.0s\n",
      "[CV 5/5] END learning_rate=0.05, max_depth=1, n_estimators=100;, score=0.926 total time=   0.0s\n",
      "[CV 1/5] END learning_rate=0.05, max_depth=1, n_estimators=150;, score=0.883 total time=   0.0s\n",
      "[CV 2/5] END learning_rate=0.05, max_depth=1, n_estimators=150;, score=0.894 total time=   0.0s\n",
      "[CV 3/5] END learning_rate=0.05, max_depth=1, n_estimators=150;, score=0.830 total time=   0.0s\n",
      "[CV 4/5] END learning_rate=0.05, max_depth=1, n_estimators=150;, score=0.915 total time=   0.0s\n",
      "[CV 5/5] END learning_rate=0.05, max_depth=1, n_estimators=150;, score=0.926 total time=   0.0s\n",
      "[CV 1/5] END learning_rate=0.05, max_depth=1, n_estimators=200;, score=0.883 total time=   0.0s\n",
      "[CV 2/5] END learning_rate=0.05, max_depth=1, n_estimators=200;, score=0.894 total time=   0.0s\n",
      "[CV 3/5] END learning_rate=0.05, max_depth=1, n_estimators=200;, score=0.830 total time=   0.0s\n",
      "[CV 4/5] END learning_rate=0.05, max_depth=1, n_estimators=200;, score=0.904 total time=   0.0s\n",
      "[CV 5/5] END learning_rate=0.05, max_depth=1, n_estimators=200;, score=0.926 total time=   0.0s\n",
      "[CV 1/5] END learning_rate=0.05, max_depth=1, n_estimators=300;, score=0.851 total time=   0.0s\n",
      "[CV 2/5] END learning_rate=0.05, max_depth=1, n_estimators=300;, score=0.894 total time=   0.0s\n",
      "[CV 3/5] END learning_rate=0.05, max_depth=1, n_estimators=300;, score=0.830 total time=   0.0s\n",
      "[CV 4/5] END learning_rate=0.05, max_depth=1, n_estimators=300;, score=0.904 total time=   0.0s\n",
      "[CV 5/5] END learning_rate=0.05, max_depth=1, n_estimators=300;, score=0.926 total time=   0.0s\n",
      "[CV 1/5] END learning_rate=0.05, max_depth=1, n_estimators=400;, score=0.851 total time=   0.1s\n",
      "[CV 2/5] END learning_rate=0.05, max_depth=1, n_estimators=400;, score=0.894 total time=   0.1s\n",
      "[CV 3/5] END learning_rate=0.05, max_depth=1, n_estimators=400;, score=0.830 total time=   0.1s\n",
      "[CV 4/5] END learning_rate=0.05, max_depth=1, n_estimators=400;, score=0.904 total time=   0.1s\n",
      "[CV 5/5] END learning_rate=0.05, max_depth=1, n_estimators=400;, score=0.926 total time=   0.1s\n",
      "[CV 1/5] END learning_rate=0.05, max_depth=2, n_estimators=50;, score=0.872 total time=   0.0s\n",
      "[CV 2/5] END learning_rate=0.05, max_depth=2, n_estimators=50;, score=0.894 total time=   0.0s\n",
      "[CV 3/5] END learning_rate=0.05, max_depth=2, n_estimators=50;, score=0.830 total time=   0.0s\n",
      "[CV 4/5] END learning_rate=0.05, max_depth=2, n_estimators=50;, score=0.904 total time=   0.0s\n",
      "[CV 5/5] END learning_rate=0.05, max_depth=2, n_estimators=50;, score=0.926 total time=   0.0s\n",
      "[CV 1/5] END learning_rate=0.05, max_depth=2, n_estimators=75;, score=0.851 total time=   0.0s\n",
      "[CV 2/5] END learning_rate=0.05, max_depth=2, n_estimators=75;, score=0.894 total time=   0.0s\n",
      "[CV 3/5] END learning_rate=0.05, max_depth=2, n_estimators=75;, score=0.830 total time=   0.0s\n",
      "[CV 4/5] END learning_rate=0.05, max_depth=2, n_estimators=75;, score=0.904 total time=   0.0s\n",
      "[CV 5/5] END learning_rate=0.05, max_depth=2, n_estimators=75;, score=0.926 total time=   0.0s\n",
      "[CV 1/5] END learning_rate=0.05, max_depth=2, n_estimators=100;, score=0.851 total time=   0.0s\n",
      "[CV 2/5] END learning_rate=0.05, max_depth=2, n_estimators=100;, score=0.883 total time=   0.0s\n",
      "[CV 3/5] END learning_rate=0.05, max_depth=2, n_estimators=100;, score=0.830 total time=   0.0s\n",
      "[CV 4/5] END learning_rate=0.05, max_depth=2, n_estimators=100;, score=0.904 total time=   0.0s\n",
      "[CV 5/5] END learning_rate=0.05, max_depth=2, n_estimators=100;, score=0.915 total time=   0.0s\n",
      "[CV 1/5] END learning_rate=0.05, max_depth=2, n_estimators=150;, score=0.851 total time=   0.0s\n",
      "[CV 2/5] END learning_rate=0.05, max_depth=2, n_estimators=150;, score=0.862 total time=   0.0s\n",
      "[CV 3/5] END learning_rate=0.05, max_depth=2, n_estimators=150;, score=0.830 total time=   0.0s\n",
      "[CV 4/5] END learning_rate=0.05, max_depth=2, n_estimators=150;, score=0.904 total time=   0.0s\n",
      "[CV 5/5] END learning_rate=0.05, max_depth=2, n_estimators=150;, score=0.915 total time=   0.0s\n",
      "[CV 1/5] END learning_rate=0.05, max_depth=2, n_estimators=200;, score=0.851 total time=   0.0s\n",
      "[CV 2/5] END learning_rate=0.05, max_depth=2, n_estimators=200;, score=0.862 total time=   0.0s\n",
      "[CV 3/5] END learning_rate=0.05, max_depth=2, n_estimators=200;, score=0.830 total time=   0.0s\n",
      "[CV 4/5] END learning_rate=0.05, max_depth=2, n_estimators=200;, score=0.904 total time=   0.0s\n",
      "[CV 5/5] END learning_rate=0.05, max_depth=2, n_estimators=200;, score=0.926 total time=   0.0s\n",
      "[CV 1/5] END learning_rate=0.05, max_depth=2, n_estimators=300;, score=0.851 total time=   0.1s\n",
      "[CV 2/5] END learning_rate=0.05, max_depth=2, n_estimators=300;, score=0.862 total time=   0.1s\n",
      "[CV 3/5] END learning_rate=0.05, max_depth=2, n_estimators=300;, score=0.830 total time=   0.1s\n",
      "[CV 4/5] END learning_rate=0.05, max_depth=2, n_estimators=300;, score=0.915 total time=   0.1s\n",
      "[CV 5/5] END learning_rate=0.05, max_depth=2, n_estimators=300;, score=0.947 total time=   0.1s\n",
      "[CV 1/5] END learning_rate=0.05, max_depth=2, n_estimators=400;, score=0.851 total time=   0.1s\n",
      "[CV 2/5] END learning_rate=0.05, max_depth=2, n_estimators=400;, score=0.862 total time=   0.1s\n",
      "[CV 3/5] END learning_rate=0.05, max_depth=2, n_estimators=400;, score=0.840 total time=   0.1s\n",
      "[CV 4/5] END learning_rate=0.05, max_depth=2, n_estimators=400;, score=0.915 total time=   0.1s\n",
      "[CV 5/5] END learning_rate=0.05, max_depth=2, n_estimators=400;, score=0.957 total time=   0.1s\n",
      "[CV 1/5] END learning_rate=0.05, max_depth=3, n_estimators=50;, score=0.872 total time=   0.0s\n",
      "[CV 2/5] END learning_rate=0.05, max_depth=3, n_estimators=50;, score=0.862 total time=   0.0s\n",
      "[CV 3/5] END learning_rate=0.05, max_depth=3, n_estimators=50;, score=0.830 total time=   0.0s\n",
      "[CV 4/5] END learning_rate=0.05, max_depth=3, n_estimators=50;, score=0.915 total time=   0.0s\n",
      "[CV 5/5] END learning_rate=0.05, max_depth=3, n_estimators=50;, score=0.936 total time=   0.0s\n",
      "[CV 1/5] END learning_rate=0.05, max_depth=3, n_estimators=75;, score=0.872 total time=   0.0s\n",
      "[CV 2/5] END learning_rate=0.05, max_depth=3, n_estimators=75;, score=0.862 total time=   0.0s\n",
      "[CV 3/5] END learning_rate=0.05, max_depth=3, n_estimators=75;, score=0.830 total time=   0.0s\n",
      "[CV 4/5] END learning_rate=0.05, max_depth=3, n_estimators=75;, score=0.915 total time=   0.0s\n",
      "[CV 5/5] END learning_rate=0.05, max_depth=3, n_estimators=75;, score=0.936 total time=   0.0s\n",
      "[CV 1/5] END learning_rate=0.05, max_depth=3, n_estimators=100;, score=0.872 total time=   0.0s\n",
      "[CV 2/5] END learning_rate=0.05, max_depth=3, n_estimators=100;, score=0.862 total time=   0.0s\n",
      "[CV 3/5] END learning_rate=0.05, max_depth=3, n_estimators=100;, score=0.830 total time=   0.0s\n",
      "[CV 4/5] END learning_rate=0.05, max_depth=3, n_estimators=100;, score=0.915 total time=   0.0s\n"
     ]
    },
    {
     "name": "stdout",
     "output_type": "stream",
     "text": [
      "[CV 5/5] END learning_rate=0.05, max_depth=3, n_estimators=100;, score=0.936 total time=   0.0s\n",
      "[CV 1/5] END learning_rate=0.05, max_depth=3, n_estimators=150;, score=0.851 total time=   0.0s\n",
      "[CV 2/5] END learning_rate=0.05, max_depth=3, n_estimators=150;, score=0.872 total time=   0.0s\n",
      "[CV 3/5] END learning_rate=0.05, max_depth=3, n_estimators=150;, score=0.830 total time=   0.0s\n",
      "[CV 4/5] END learning_rate=0.05, max_depth=3, n_estimators=150;, score=0.915 total time=   0.0s\n",
      "[CV 5/5] END learning_rate=0.05, max_depth=3, n_estimators=150;, score=0.936 total time=   0.0s\n",
      "[CV 1/5] END learning_rate=0.05, max_depth=3, n_estimators=200;, score=0.851 total time=   0.0s\n",
      "[CV 2/5] END learning_rate=0.05, max_depth=3, n_estimators=200;, score=0.872 total time=   0.0s\n",
      "[CV 3/5] END learning_rate=0.05, max_depth=3, n_estimators=200;, score=0.851 total time=   0.1s\n",
      "[CV 4/5] END learning_rate=0.05, max_depth=3, n_estimators=200;, score=0.915 total time=   0.0s\n",
      "[CV 5/5] END learning_rate=0.05, max_depth=3, n_estimators=200;, score=0.957 total time=   0.0s\n",
      "[CV 1/5] END learning_rate=0.05, max_depth=3, n_estimators=300;, score=0.851 total time=   0.1s\n",
      "[CV 2/5] END learning_rate=0.05, max_depth=3, n_estimators=300;, score=0.872 total time=   0.1s\n",
      "[CV 3/5] END learning_rate=0.05, max_depth=3, n_estimators=300;, score=0.851 total time=   0.1s\n",
      "[CV 4/5] END learning_rate=0.05, max_depth=3, n_estimators=300;, score=0.926 total time=   0.1s\n",
      "[CV 5/5] END learning_rate=0.05, max_depth=3, n_estimators=300;, score=0.957 total time=   0.1s\n",
      "[CV 1/5] END learning_rate=0.05, max_depth=3, n_estimators=400;, score=0.872 total time=   0.2s\n",
      "[CV 2/5] END learning_rate=0.05, max_depth=3, n_estimators=400;, score=0.872 total time=   0.2s\n",
      "[CV 3/5] END learning_rate=0.05, max_depth=3, n_estimators=400;, score=0.851 total time=   0.2s\n",
      "[CV 4/5] END learning_rate=0.05, max_depth=3, n_estimators=400;, score=0.915 total time=   0.2s\n",
      "[CV 5/5] END learning_rate=0.05, max_depth=3, n_estimators=400;, score=0.957 total time=   0.2s\n",
      "[CV 1/5] END learning_rate=0.05, max_depth=4, n_estimators=50;, score=0.872 total time=   0.0s\n",
      "[CV 2/5] END learning_rate=0.05, max_depth=4, n_estimators=50;, score=0.862 total time=   0.0s\n",
      "[CV 3/5] END learning_rate=0.05, max_depth=4, n_estimators=50;, score=0.840 total time=   0.0s\n",
      "[CV 4/5] END learning_rate=0.05, max_depth=4, n_estimators=50;, score=0.915 total time=   0.0s\n",
      "[CV 5/5] END learning_rate=0.05, max_depth=4, n_estimators=50;, score=0.947 total time=   0.0s\n",
      "[CV 1/5] END learning_rate=0.05, max_depth=4, n_estimators=75;, score=0.872 total time=   0.0s\n",
      "[CV 2/5] END learning_rate=0.05, max_depth=4, n_estimators=75;, score=0.862 total time=   0.0s\n",
      "[CV 3/5] END learning_rate=0.05, max_depth=4, n_estimators=75;, score=0.851 total time=   0.0s\n",
      "[CV 4/5] END learning_rate=0.05, max_depth=4, n_estimators=75;, score=0.926 total time=   0.0s\n",
      "[CV 5/5] END learning_rate=0.05, max_depth=4, n_estimators=75;, score=0.947 total time=   0.0s\n",
      "[CV 1/5] END learning_rate=0.05, max_depth=4, n_estimators=100;, score=0.872 total time=   0.0s\n",
      "[CV 2/5] END learning_rate=0.05, max_depth=4, n_estimators=100;, score=0.872 total time=   0.0s\n",
      "[CV 3/5] END learning_rate=0.05, max_depth=4, n_estimators=100;, score=0.851 total time=   0.0s\n",
      "[CV 4/5] END learning_rate=0.05, max_depth=4, n_estimators=100;, score=0.926 total time=   0.0s\n",
      "[CV 5/5] END learning_rate=0.05, max_depth=4, n_estimators=100;, score=0.957 total time=   0.0s\n",
      "[CV 1/5] END learning_rate=0.05, max_depth=4, n_estimators=150;, score=0.872 total time=   0.0s\n",
      "[CV 2/5] END learning_rate=0.05, max_depth=4, n_estimators=150;, score=0.872 total time=   0.0s\n",
      "[CV 3/5] END learning_rate=0.05, max_depth=4, n_estimators=150;, score=0.851 total time=   0.0s\n",
      "[CV 4/5] END learning_rate=0.05, max_depth=4, n_estimators=150;, score=0.926 total time=   0.0s\n",
      "[CV 5/5] END learning_rate=0.05, max_depth=4, n_estimators=150;, score=0.957 total time=   0.0s\n",
      "[CV 1/5] END learning_rate=0.05, max_depth=4, n_estimators=200;, score=0.872 total time=   0.1s\n",
      "[CV 2/5] END learning_rate=0.05, max_depth=4, n_estimators=200;, score=0.872 total time=   0.1s\n",
      "[CV 3/5] END learning_rate=0.05, max_depth=4, n_estimators=200;, score=0.851 total time=   0.1s\n",
      "[CV 4/5] END learning_rate=0.05, max_depth=4, n_estimators=200;, score=0.926 total time=   0.1s\n",
      "[CV 5/5] END learning_rate=0.05, max_depth=4, n_estimators=200;, score=0.957 total time=   0.1s\n",
      "[CV 1/5] END learning_rate=0.05, max_depth=4, n_estimators=300;, score=0.872 total time=   0.2s\n",
      "[CV 2/5] END learning_rate=0.05, max_depth=4, n_estimators=300;, score=0.894 total time=   0.1s\n",
      "[CV 3/5] END learning_rate=0.05, max_depth=4, n_estimators=300;, score=0.851 total time=   0.1s\n",
      "[CV 4/5] END learning_rate=0.05, max_depth=4, n_estimators=300;, score=0.915 total time=   0.2s\n",
      "[CV 5/5] END learning_rate=0.05, max_depth=4, n_estimators=300;, score=0.947 total time=   0.2s\n",
      "[CV 1/5] END learning_rate=0.05, max_depth=4, n_estimators=400;, score=0.872 total time=   0.2s\n",
      "[CV 2/5] END learning_rate=0.05, max_depth=4, n_estimators=400;, score=0.872 total time=   0.2s\n",
      "[CV 3/5] END learning_rate=0.05, max_depth=4, n_estimators=400;, score=0.851 total time=   0.2s\n",
      "[CV 4/5] END learning_rate=0.05, max_depth=4, n_estimators=400;, score=0.915 total time=   0.2s\n",
      "[CV 5/5] END learning_rate=0.05, max_depth=4, n_estimators=400;, score=0.947 total time=   0.2s\n",
      "[CV 1/5] END learning_rate=0.05, max_depth=5, n_estimators=50;, score=0.872 total time=   0.0s\n",
      "[CV 2/5] END learning_rate=0.05, max_depth=5, n_estimators=50;, score=0.862 total time=   0.0s\n",
      "[CV 3/5] END learning_rate=0.05, max_depth=5, n_estimators=50;, score=0.851 total time=   0.0s\n",
      "[CV 4/5] END learning_rate=0.05, max_depth=5, n_estimators=50;, score=0.926 total time=   0.0s\n",
      "[CV 5/5] END learning_rate=0.05, max_depth=5, n_estimators=50;, score=0.957 total time=   0.0s\n",
      "[CV 1/5] END learning_rate=0.05, max_depth=5, n_estimators=75;, score=0.872 total time=   0.0s\n",
      "[CV 2/5] END learning_rate=0.05, max_depth=5, n_estimators=75;, score=0.862 total time=   0.0s\n",
      "[CV 3/5] END learning_rate=0.05, max_depth=5, n_estimators=75;, score=0.851 total time=   0.0s\n",
      "[CV 4/5] END learning_rate=0.05, max_depth=5, n_estimators=75;, score=0.926 total time=   0.0s\n",
      "[CV 5/5] END learning_rate=0.05, max_depth=5, n_estimators=75;, score=0.957 total time=   0.0s\n",
      "[CV 1/5] END learning_rate=0.05, max_depth=5, n_estimators=100;, score=0.872 total time=   0.0s\n",
      "[CV 2/5] END learning_rate=0.05, max_depth=5, n_estimators=100;, score=0.872 total time=   0.0s\n",
      "[CV 3/5] END learning_rate=0.05, max_depth=5, n_estimators=100;, score=0.851 total time=   0.0s\n",
      "[CV 4/5] END learning_rate=0.05, max_depth=5, n_estimators=100;, score=0.926 total time=   0.0s\n",
      "[CV 5/5] END learning_rate=0.05, max_depth=5, n_estimators=100;, score=0.947 total time=   0.0s\n",
      "[CV 1/5] END learning_rate=0.05, max_depth=5, n_estimators=150;, score=0.872 total time=   0.1s\n",
      "[CV 2/5] END learning_rate=0.05, max_depth=5, n_estimators=150;, score=0.872 total time=   0.1s\n",
      "[CV 3/5] END learning_rate=0.05, max_depth=5, n_estimators=150;, score=0.851 total time=   0.1s\n",
      "[CV 4/5] END learning_rate=0.05, max_depth=5, n_estimators=150;, score=0.915 total time=   0.1s\n",
      "[CV 5/5] END learning_rate=0.05, max_depth=5, n_estimators=150;, score=0.947 total time=   0.1s\n",
      "[CV 1/5] END learning_rate=0.05, max_depth=5, n_estimators=200;, score=0.872 total time=   0.1s\n",
      "[CV 2/5] END learning_rate=0.05, max_depth=5, n_estimators=200;, score=0.872 total time=   0.1s\n",
      "[CV 3/5] END learning_rate=0.05, max_depth=5, n_estimators=200;, score=0.851 total time=   0.1s\n",
      "[CV 4/5] END learning_rate=0.05, max_depth=5, n_estimators=200;, score=0.915 total time=   0.1s\n",
      "[CV 5/5] END learning_rate=0.05, max_depth=5, n_estimators=200;, score=0.947 total time=   0.1s\n",
      "[CV 1/5] END learning_rate=0.05, max_depth=5, n_estimators=300;, score=0.872 total time=   0.3s\n",
      "[CV 2/5] END learning_rate=0.05, max_depth=5, n_estimators=300;, score=0.872 total time=   0.3s\n",
      "[CV 3/5] END learning_rate=0.05, max_depth=5, n_estimators=300;, score=0.862 total time=   0.3s\n",
      "[CV 4/5] END learning_rate=0.05, max_depth=5, n_estimators=300;, score=0.915 total time=   0.3s\n",
      "[CV 5/5] END learning_rate=0.05, max_depth=5, n_estimators=300;, score=0.947 total time=   0.3s\n"
     ]
    },
    {
     "name": "stdout",
     "output_type": "stream",
     "text": [
      "[CV 1/5] END learning_rate=0.05, max_depth=5, n_estimators=400;, score=0.872 total time=   0.4s\n",
      "[CV 2/5] END learning_rate=0.05, max_depth=5, n_estimators=400;, score=0.872 total time=   0.3s\n",
      "[CV 3/5] END learning_rate=0.05, max_depth=5, n_estimators=400;, score=0.862 total time=   0.3s\n",
      "[CV 4/5] END learning_rate=0.05, max_depth=5, n_estimators=400;, score=0.915 total time=   0.3s\n",
      "[CV 5/5] END learning_rate=0.05, max_depth=5, n_estimators=400;, score=0.947 total time=   0.3s\n",
      "[CV 1/5] END learning_rate=0.1, max_depth=1, n_estimators=50;, score=0.883 total time=   0.0s\n",
      "[CV 2/5] END learning_rate=0.1, max_depth=1, n_estimators=50;, score=0.894 total time=   0.0s\n",
      "[CV 3/5] END learning_rate=0.1, max_depth=1, n_estimators=50;, score=0.851 total time=   0.0s\n",
      "[CV 4/5] END learning_rate=0.1, max_depth=1, n_estimators=50;, score=0.915 total time=   0.0s\n",
      "[CV 5/5] END learning_rate=0.1, max_depth=1, n_estimators=50;, score=0.926 total time=   0.0s\n",
      "[CV 1/5] END learning_rate=0.1, max_depth=1, n_estimators=75;, score=0.883 total time=   0.0s\n",
      "[CV 2/5] END learning_rate=0.1, max_depth=1, n_estimators=75;, score=0.894 total time=   0.0s\n",
      "[CV 3/5] END learning_rate=0.1, max_depth=1, n_estimators=75;, score=0.830 total time=   0.0s\n",
      "[CV 4/5] END learning_rate=0.1, max_depth=1, n_estimators=75;, score=0.915 total time=   0.0s\n",
      "[CV 5/5] END learning_rate=0.1, max_depth=1, n_estimators=75;, score=0.926 total time=   0.0s\n",
      "[CV 1/5] END learning_rate=0.1, max_depth=1, n_estimators=100;, score=0.883 total time=   0.0s\n",
      "[CV 2/5] END learning_rate=0.1, max_depth=1, n_estimators=100;, score=0.894 total time=   0.0s\n",
      "[CV 3/5] END learning_rate=0.1, max_depth=1, n_estimators=100;, score=0.830 total time=   0.0s\n",
      "[CV 4/5] END learning_rate=0.1, max_depth=1, n_estimators=100;, score=0.904 total time=   0.0s\n",
      "[CV 5/5] END learning_rate=0.1, max_depth=1, n_estimators=100;, score=0.926 total time=   0.0s\n",
      "[CV 1/5] END learning_rate=0.1, max_depth=1, n_estimators=150;, score=0.851 total time=   0.0s\n",
      "[CV 2/5] END learning_rate=0.1, max_depth=1, n_estimators=150;, score=0.894 total time=   0.0s\n",
      "[CV 3/5] END learning_rate=0.1, max_depth=1, n_estimators=150;, score=0.830 total time=   0.0s\n",
      "[CV 4/5] END learning_rate=0.1, max_depth=1, n_estimators=150;, score=0.904 total time=   0.0s\n",
      "[CV 5/5] END learning_rate=0.1, max_depth=1, n_estimators=150;, score=0.926 total time=   0.0s\n",
      "[CV 1/5] END learning_rate=0.1, max_depth=1, n_estimators=200;, score=0.851 total time=   0.0s\n",
      "[CV 2/5] END learning_rate=0.1, max_depth=1, n_estimators=200;, score=0.894 total time=   0.0s\n",
      "[CV 3/5] END learning_rate=0.1, max_depth=1, n_estimators=200;, score=0.830 total time=   0.0s\n",
      "[CV 4/5] END learning_rate=0.1, max_depth=1, n_estimators=200;, score=0.904 total time=   0.0s\n",
      "[CV 5/5] END learning_rate=0.1, max_depth=1, n_estimators=200;, score=0.926 total time=   0.0s\n",
      "[CV 1/5] END learning_rate=0.1, max_depth=1, n_estimators=300;, score=0.851 total time=   0.0s\n",
      "[CV 2/5] END learning_rate=0.1, max_depth=1, n_estimators=300;, score=0.894 total time=   0.0s\n",
      "[CV 3/5] END learning_rate=0.1, max_depth=1, n_estimators=300;, score=0.830 total time=   0.0s\n",
      "[CV 4/5] END learning_rate=0.1, max_depth=1, n_estimators=300;, score=0.904 total time=   0.0s\n",
      "[CV 5/5] END learning_rate=0.1, max_depth=1, n_estimators=300;, score=0.926 total time=   0.0s\n",
      "[CV 1/5] END learning_rate=0.1, max_depth=1, n_estimators=400;, score=0.851 total time=   0.1s\n",
      "[CV 2/5] END learning_rate=0.1, max_depth=1, n_estimators=400;, score=0.894 total time=   0.1s\n",
      "[CV 3/5] END learning_rate=0.1, max_depth=1, n_estimators=400;, score=0.830 total time=   0.1s\n",
      "[CV 4/5] END learning_rate=0.1, max_depth=1, n_estimators=400;, score=0.904 total time=   0.1s\n",
      "[CV 5/5] END learning_rate=0.1, max_depth=1, n_estimators=400;, score=0.926 total time=   0.1s\n",
      "[CV 1/5] END learning_rate=0.1, max_depth=2, n_estimators=50;, score=0.872 total time=   0.0s\n",
      "[CV 2/5] END learning_rate=0.1, max_depth=2, n_estimators=50;, score=0.883 total time=   0.0s\n",
      "[CV 3/5] END learning_rate=0.1, max_depth=2, n_estimators=50;, score=0.830 total time=   0.0s\n",
      "[CV 4/5] END learning_rate=0.1, max_depth=2, n_estimators=50;, score=0.904 total time=   0.0s\n",
      "[CV 5/5] END learning_rate=0.1, max_depth=2, n_estimators=50;, score=0.915 total time=   0.0s\n",
      "[CV 1/5] END learning_rate=0.1, max_depth=2, n_estimators=75;, score=0.872 total time=   0.0s\n",
      "[CV 2/5] END learning_rate=0.1, max_depth=2, n_estimators=75;, score=0.872 total time=   0.0s\n",
      "[CV 3/5] END learning_rate=0.1, max_depth=2, n_estimators=75;, score=0.830 total time=   0.0s\n",
      "[CV 4/5] END learning_rate=0.1, max_depth=2, n_estimators=75;, score=0.904 total time=   0.0s\n",
      "[CV 5/5] END learning_rate=0.1, max_depth=2, n_estimators=75;, score=0.926 total time=   0.0s\n",
      "[CV 1/5] END learning_rate=0.1, max_depth=2, n_estimators=100;, score=0.851 total time=   0.0s\n",
      "[CV 2/5] END learning_rate=0.1, max_depth=2, n_estimators=100;, score=0.872 total time=   0.0s\n",
      "[CV 3/5] END learning_rate=0.1, max_depth=2, n_estimators=100;, score=0.830 total time=   0.0s\n",
      "[CV 4/5] END learning_rate=0.1, max_depth=2, n_estimators=100;, score=0.904 total time=   0.0s\n",
      "[CV 5/5] END learning_rate=0.1, max_depth=2, n_estimators=100;, score=0.926 total time=   0.0s\n",
      "[CV 1/5] END learning_rate=0.1, max_depth=2, n_estimators=150;, score=0.851 total time=   0.0s\n",
      "[CV 2/5] END learning_rate=0.1, max_depth=2, n_estimators=150;, score=0.862 total time=   0.0s\n",
      "[CV 3/5] END learning_rate=0.1, max_depth=2, n_estimators=150;, score=0.830 total time=   0.0s\n",
      "[CV 4/5] END learning_rate=0.1, max_depth=2, n_estimators=150;, score=0.915 total time=   0.0s\n",
      "[CV 5/5] END learning_rate=0.1, max_depth=2, n_estimators=150;, score=0.947 total time=   0.0s\n",
      "[CV 1/5] END learning_rate=0.1, max_depth=2, n_estimators=200;, score=0.851 total time=   0.0s\n",
      "[CV 2/5] END learning_rate=0.1, max_depth=2, n_estimators=200;, score=0.872 total time=   0.0s\n",
      "[CV 3/5] END learning_rate=0.1, max_depth=2, n_estimators=200;, score=0.851 total time=   0.0s\n",
      "[CV 4/5] END learning_rate=0.1, max_depth=2, n_estimators=200;, score=0.904 total time=   0.0s\n",
      "[CV 5/5] END learning_rate=0.1, max_depth=2, n_estimators=200;, score=0.957 total time=   0.0s\n",
      "[CV 1/5] END learning_rate=0.1, max_depth=2, n_estimators=300;, score=0.851 total time=   0.1s\n",
      "[CV 2/5] END learning_rate=0.1, max_depth=2, n_estimators=300;, score=0.872 total time=   0.1s\n",
      "[CV 3/5] END learning_rate=0.1, max_depth=2, n_estimators=300;, score=0.851 total time=   0.1s\n",
      "[CV 4/5] END learning_rate=0.1, max_depth=2, n_estimators=300;, score=0.915 total time=   0.1s\n",
      "[CV 5/5] END learning_rate=0.1, max_depth=2, n_estimators=300;, score=0.957 total time=   0.1s\n",
      "[CV 1/5] END learning_rate=0.1, max_depth=2, n_estimators=400;, score=0.851 total time=   0.1s\n",
      "[CV 2/5] END learning_rate=0.1, max_depth=2, n_estimators=400;, score=0.872 total time=   0.1s\n",
      "[CV 3/5] END learning_rate=0.1, max_depth=2, n_estimators=400;, score=0.851 total time=   0.1s\n",
      "[CV 4/5] END learning_rate=0.1, max_depth=2, n_estimators=400;, score=0.915 total time=   0.1s\n",
      "[CV 5/5] END learning_rate=0.1, max_depth=2, n_estimators=400;, score=0.957 total time=   0.1s\n",
      "[CV 1/5] END learning_rate=0.1, max_depth=3, n_estimators=50;, score=0.872 total time=   0.0s\n",
      "[CV 2/5] END learning_rate=0.1, max_depth=3, n_estimators=50;, score=0.862 total time=   0.0s\n",
      "[CV 3/5] END learning_rate=0.1, max_depth=3, n_estimators=50;, score=0.830 total time=   0.0s\n",
      "[CV 4/5] END learning_rate=0.1, max_depth=3, n_estimators=50;, score=0.915 total time=   0.0s\n",
      "[CV 5/5] END learning_rate=0.1, max_depth=3, n_estimators=50;, score=0.947 total time=   0.0s\n",
      "[CV 1/5] END learning_rate=0.1, max_depth=3, n_estimators=75;, score=0.851 total time=   0.0s\n",
      "[CV 2/5] END learning_rate=0.1, max_depth=3, n_estimators=75;, score=0.872 total time=   0.0s\n",
      "[CV 3/5] END learning_rate=0.1, max_depth=3, n_estimators=75;, score=0.830 total time=   0.0s\n",
      "[CV 4/5] END learning_rate=0.1, max_depth=3, n_estimators=75;, score=0.915 total time=   0.0s\n",
      "[CV 5/5] END learning_rate=0.1, max_depth=3, n_estimators=75;, score=0.947 total time=   0.0s\n",
      "[CV 1/5] END learning_rate=0.1, max_depth=3, n_estimators=100;, score=0.851 total time=   0.0s\n",
      "[CV 2/5] END learning_rate=0.1, max_depth=3, n_estimators=100;, score=0.872 total time=   0.0s\n",
      "[CV 3/5] END learning_rate=0.1, max_depth=3, n_estimators=100;, score=0.840 total time=   0.0s\n",
      "[CV 4/5] END learning_rate=0.1, max_depth=3, n_estimators=100;, score=0.915 total time=   0.0s\n"
     ]
    },
    {
     "name": "stdout",
     "output_type": "stream",
     "text": [
      "[CV 5/5] END learning_rate=0.1, max_depth=3, n_estimators=100;, score=0.957 total time=   0.0s\n",
      "[CV 1/5] END learning_rate=0.1, max_depth=3, n_estimators=150;, score=0.851 total time=   0.0s\n",
      "[CV 2/5] END learning_rate=0.1, max_depth=3, n_estimators=150;, score=0.872 total time=   0.0s\n",
      "[CV 3/5] END learning_rate=0.1, max_depth=3, n_estimators=150;, score=0.851 total time=   0.0s\n",
      "[CV 4/5] END learning_rate=0.1, max_depth=3, n_estimators=150;, score=0.915 total time=   0.0s\n",
      "[CV 5/5] END learning_rate=0.1, max_depth=3, n_estimators=150;, score=0.957 total time=   0.0s\n",
      "[CV 1/5] END learning_rate=0.1, max_depth=3, n_estimators=200;, score=0.851 total time=   0.0s\n",
      "[CV 2/5] END learning_rate=0.1, max_depth=3, n_estimators=200;, score=0.872 total time=   0.0s\n",
      "[CV 3/5] END learning_rate=0.1, max_depth=3, n_estimators=200;, score=0.851 total time=   0.0s\n",
      "[CV 4/5] END learning_rate=0.1, max_depth=3, n_estimators=200;, score=0.915 total time=   0.0s\n",
      "[CV 5/5] END learning_rate=0.1, max_depth=3, n_estimators=200;, score=0.957 total time=   0.0s\n",
      "[CV 1/5] END learning_rate=0.1, max_depth=3, n_estimators=300;, score=0.872 total time=   0.1s\n",
      "[CV 2/5] END learning_rate=0.1, max_depth=3, n_estimators=300;, score=0.872 total time=   0.1s\n",
      "[CV 3/5] END learning_rate=0.1, max_depth=3, n_estimators=300;, score=0.851 total time=   0.1s\n",
      "[CV 4/5] END learning_rate=0.1, max_depth=3, n_estimators=300;, score=0.915 total time=   0.1s\n",
      "[CV 5/5] END learning_rate=0.1, max_depth=3, n_estimators=300;, score=0.957 total time=   0.1s\n",
      "[CV 1/5] END learning_rate=0.1, max_depth=3, n_estimators=400;, score=0.872 total time=   0.2s\n",
      "[CV 2/5] END learning_rate=0.1, max_depth=3, n_estimators=400;, score=0.872 total time=   0.2s\n",
      "[CV 3/5] END learning_rate=0.1, max_depth=3, n_estimators=400;, score=0.851 total time=   0.2s\n",
      "[CV 4/5] END learning_rate=0.1, max_depth=3, n_estimators=400;, score=0.915 total time=   0.2s\n",
      "[CV 5/5] END learning_rate=0.1, max_depth=3, n_estimators=400;, score=0.947 total time=   0.2s\n",
      "[CV 1/5] END learning_rate=0.1, max_depth=4, n_estimators=50;, score=0.851 total time=   0.0s\n",
      "[CV 2/5] END learning_rate=0.1, max_depth=4, n_estimators=50;, score=0.851 total time=   0.0s\n",
      "[CV 3/5] END learning_rate=0.1, max_depth=4, n_estimators=50;, score=0.851 total time=   0.0s\n",
      "[CV 4/5] END learning_rate=0.1, max_depth=4, n_estimators=50;, score=0.926 total time=   0.0s\n",
      "[CV 5/5] END learning_rate=0.1, max_depth=4, n_estimators=50;, score=0.947 total time=   0.0s\n",
      "[CV 1/5] END learning_rate=0.1, max_depth=4, n_estimators=75;, score=0.872 total time=   0.0s\n",
      "[CV 2/5] END learning_rate=0.1, max_depth=4, n_estimators=75;, score=0.872 total time=   0.0s\n",
      "[CV 3/5] END learning_rate=0.1, max_depth=4, n_estimators=75;, score=0.851 total time=   0.0s\n",
      "[CV 4/5] END learning_rate=0.1, max_depth=4, n_estimators=75;, score=0.926 total time=   0.0s\n",
      "[CV 5/5] END learning_rate=0.1, max_depth=4, n_estimators=75;, score=0.947 total time=   0.0s\n",
      "[CV 1/5] END learning_rate=0.1, max_depth=4, n_estimators=100;, score=0.872 total time=   0.0s\n",
      "[CV 2/5] END learning_rate=0.1, max_depth=4, n_estimators=100;, score=0.872 total time=   0.0s\n",
      "[CV 3/5] END learning_rate=0.1, max_depth=4, n_estimators=100;, score=0.851 total time=   0.0s\n",
      "[CV 4/5] END learning_rate=0.1, max_depth=4, n_estimators=100;, score=0.926 total time=   0.0s\n",
      "[CV 5/5] END learning_rate=0.1, max_depth=4, n_estimators=100;, score=0.947 total time=   0.0s\n",
      "[CV 1/5] END learning_rate=0.1, max_depth=4, n_estimators=150;, score=0.872 total time=   0.0s\n",
      "[CV 2/5] END learning_rate=0.1, max_depth=4, n_estimators=150;, score=0.872 total time=   0.0s\n",
      "[CV 3/5] END learning_rate=0.1, max_depth=4, n_estimators=150;, score=0.851 total time=   0.0s\n",
      "[CV 4/5] END learning_rate=0.1, max_depth=4, n_estimators=150;, score=0.915 total time=   0.0s\n",
      "[CV 5/5] END learning_rate=0.1, max_depth=4, n_estimators=150;, score=0.947 total time=   0.0s\n",
      "[CV 1/5] END learning_rate=0.1, max_depth=4, n_estimators=200;, score=0.872 total time=   0.1s\n",
      "[CV 2/5] END learning_rate=0.1, max_depth=4, n_estimators=200;, score=0.894 total time=   0.1s\n",
      "[CV 3/5] END learning_rate=0.1, max_depth=4, n_estimators=200;, score=0.851 total time=   0.1s\n",
      "[CV 4/5] END learning_rate=0.1, max_depth=4, n_estimators=200;, score=0.915 total time=   0.1s\n",
      "[CV 5/5] END learning_rate=0.1, max_depth=4, n_estimators=200;, score=0.947 total time=   0.1s\n",
      "[CV 1/5] END learning_rate=0.1, max_depth=4, n_estimators=300;, score=0.872 total time=   0.2s\n",
      "[CV 2/5] END learning_rate=0.1, max_depth=4, n_estimators=300;, score=0.872 total time=   0.2s\n",
      "[CV 3/5] END learning_rate=0.1, max_depth=4, n_estimators=300;, score=0.851 total time=   0.3s\n",
      "[CV 4/5] END learning_rate=0.1, max_depth=4, n_estimators=300;, score=0.915 total time=   0.2s\n",
      "[CV 5/5] END learning_rate=0.1, max_depth=4, n_estimators=300;, score=0.947 total time=   0.2s\n",
      "[CV 1/5] END learning_rate=0.1, max_depth=4, n_estimators=400;, score=0.872 total time=   0.4s\n",
      "[CV 2/5] END learning_rate=0.1, max_depth=4, n_estimators=400;, score=0.872 total time=   0.3s\n",
      "[CV 3/5] END learning_rate=0.1, max_depth=4, n_estimators=400;, score=0.851 total time=   0.3s\n",
      "[CV 4/5] END learning_rate=0.1, max_depth=4, n_estimators=400;, score=0.915 total time=   0.2s\n",
      "[CV 5/5] END learning_rate=0.1, max_depth=4, n_estimators=400;, score=0.947 total time=   0.2s\n",
      "[CV 1/5] END learning_rate=0.1, max_depth=5, n_estimators=50;, score=0.872 total time=   0.0s\n",
      "[CV 2/5] END learning_rate=0.1, max_depth=5, n_estimators=50;, score=0.862 total time=   0.0s\n",
      "[CV 3/5] END learning_rate=0.1, max_depth=5, n_estimators=50;, score=0.851 total time=   0.0s\n",
      "[CV 4/5] END learning_rate=0.1, max_depth=5, n_estimators=50;, score=0.926 total time=   0.0s\n",
      "[CV 5/5] END learning_rate=0.1, max_depth=5, n_estimators=50;, score=0.947 total time=   0.0s\n",
      "[CV 1/5] END learning_rate=0.1, max_depth=5, n_estimators=75;, score=0.872 total time=   0.0s\n",
      "[CV 2/5] END learning_rate=0.1, max_depth=5, n_estimators=75;, score=0.872 total time=   0.0s\n",
      "[CV 3/5] END learning_rate=0.1, max_depth=5, n_estimators=75;, score=0.851 total time=   0.0s\n",
      "[CV 4/5] END learning_rate=0.1, max_depth=5, n_estimators=75;, score=0.915 total time=   0.0s\n",
      "[CV 5/5] END learning_rate=0.1, max_depth=5, n_estimators=75;, score=0.947 total time=   0.0s\n",
      "[CV 1/5] END learning_rate=0.1, max_depth=5, n_estimators=100;, score=0.872 total time=   0.0s\n",
      "[CV 2/5] END learning_rate=0.1, max_depth=5, n_estimators=100;, score=0.872 total time=   0.0s\n",
      "[CV 3/5] END learning_rate=0.1, max_depth=5, n_estimators=100;, score=0.851 total time=   0.0s\n",
      "[CV 4/5] END learning_rate=0.1, max_depth=5, n_estimators=100;, score=0.915 total time=   0.0s\n",
      "[CV 5/5] END learning_rate=0.1, max_depth=5, n_estimators=100;, score=0.947 total time=   0.0s\n",
      "[CV 1/5] END learning_rate=0.1, max_depth=5, n_estimators=150;, score=0.872 total time=   0.1s\n",
      "[CV 2/5] END learning_rate=0.1, max_depth=5, n_estimators=150;, score=0.894 total time=   0.1s\n",
      "[CV 3/5] END learning_rate=0.1, max_depth=5, n_estimators=150;, score=0.851 total time=   0.1s\n",
      "[CV 4/5] END learning_rate=0.1, max_depth=5, n_estimators=150;, score=0.915 total time=   0.1s\n",
      "[CV 5/5] END learning_rate=0.1, max_depth=5, n_estimators=150;, score=0.947 total time=   0.1s\n",
      "[CV 1/5] END learning_rate=0.1, max_depth=5, n_estimators=200;, score=0.872 total time=   0.1s\n",
      "[CV 2/5] END learning_rate=0.1, max_depth=5, n_estimators=200;, score=0.894 total time=   0.1s\n",
      "[CV 3/5] END learning_rate=0.1, max_depth=5, n_estimators=200;, score=0.851 total time=   0.1s\n",
      "[CV 4/5] END learning_rate=0.1, max_depth=5, n_estimators=200;, score=0.915 total time=   0.1s\n",
      "[CV 5/5] END learning_rate=0.1, max_depth=5, n_estimators=200;, score=0.947 total time=   0.1s\n",
      "[CV 1/5] END learning_rate=0.1, max_depth=5, n_estimators=300;, score=0.872 total time=   0.2s\n",
      "[CV 2/5] END learning_rate=0.1, max_depth=5, n_estimators=300;, score=0.894 total time=   0.2s\n",
      "[CV 3/5] END learning_rate=0.1, max_depth=5, n_estimators=300;, score=0.851 total time=   0.2s\n",
      "[CV 4/5] END learning_rate=0.1, max_depth=5, n_estimators=300;, score=0.915 total time=   0.2s\n",
      "[CV 5/5] END learning_rate=0.1, max_depth=5, n_estimators=300;, score=0.947 total time=   0.2s\n",
      "[CV 1/5] END learning_rate=0.1, max_depth=5, n_estimators=400;, score=0.872 total time=   0.3s\n"
     ]
    },
    {
     "name": "stdout",
     "output_type": "stream",
     "text": [
      "[CV 2/5] END learning_rate=0.1, max_depth=5, n_estimators=400;, score=0.894 total time=   0.3s\n",
      "[CV 3/5] END learning_rate=0.1, max_depth=5, n_estimators=400;, score=0.851 total time=   0.3s\n",
      "[CV 4/5] END learning_rate=0.1, max_depth=5, n_estimators=400;, score=0.915 total time=   0.3s\n",
      "[CV 5/5] END learning_rate=0.1, max_depth=5, n_estimators=400;, score=0.947 total time=   0.3s\n"
     ]
    },
    {
     "data": {
      "text/html": [
       "<style>#sk-container-id-7 {color: black;background-color: white;}#sk-container-id-7 pre{padding: 0;}#sk-container-id-7 div.sk-toggleable {background-color: white;}#sk-container-id-7 label.sk-toggleable__label {cursor: pointer;display: block;width: 100%;margin-bottom: 0;padding: 0.3em;box-sizing: border-box;text-align: center;}#sk-container-id-7 label.sk-toggleable__label-arrow:before {content: \"▸\";float: left;margin-right: 0.25em;color: #696969;}#sk-container-id-7 label.sk-toggleable__label-arrow:hover:before {color: black;}#sk-container-id-7 div.sk-estimator:hover label.sk-toggleable__label-arrow:before {color: black;}#sk-container-id-7 div.sk-toggleable__content {max-height: 0;max-width: 0;overflow: hidden;text-align: left;background-color: #f0f8ff;}#sk-container-id-7 div.sk-toggleable__content pre {margin: 0.2em;color: black;border-radius: 0.25em;background-color: #f0f8ff;}#sk-container-id-7 input.sk-toggleable__control:checked~div.sk-toggleable__content {max-height: 200px;max-width: 100%;overflow: auto;}#sk-container-id-7 input.sk-toggleable__control:checked~label.sk-toggleable__label-arrow:before {content: \"▾\";}#sk-container-id-7 div.sk-estimator input.sk-toggleable__control:checked~label.sk-toggleable__label {background-color: #d4ebff;}#sk-container-id-7 div.sk-label input.sk-toggleable__control:checked~label.sk-toggleable__label {background-color: #d4ebff;}#sk-container-id-7 input.sk-hidden--visually {border: 0;clip: rect(1px 1px 1px 1px);clip: rect(1px, 1px, 1px, 1px);height: 1px;margin: -1px;overflow: hidden;padding: 0;position: absolute;width: 1px;}#sk-container-id-7 div.sk-estimator {font-family: monospace;background-color: #f0f8ff;border: 1px dotted black;border-radius: 0.25em;box-sizing: border-box;margin-bottom: 0.5em;}#sk-container-id-7 div.sk-estimator:hover {background-color: #d4ebff;}#sk-container-id-7 div.sk-parallel-item::after {content: \"\";width: 100%;border-bottom: 1px solid gray;flex-grow: 1;}#sk-container-id-7 div.sk-label:hover label.sk-toggleable__label {background-color: #d4ebff;}#sk-container-id-7 div.sk-serial::before {content: \"\";position: absolute;border-left: 1px solid gray;box-sizing: border-box;top: 0;bottom: 0;left: 50%;z-index: 0;}#sk-container-id-7 div.sk-serial {display: flex;flex-direction: column;align-items: center;background-color: white;padding-right: 0.2em;padding-left: 0.2em;position: relative;}#sk-container-id-7 div.sk-item {position: relative;z-index: 1;}#sk-container-id-7 div.sk-parallel {display: flex;align-items: stretch;justify-content: center;background-color: white;position: relative;}#sk-container-id-7 div.sk-item::before, #sk-container-id-7 div.sk-parallel-item::before {content: \"\";position: absolute;border-left: 1px solid gray;box-sizing: border-box;top: 0;bottom: 0;left: 50%;z-index: -1;}#sk-container-id-7 div.sk-parallel-item {display: flex;flex-direction: column;z-index: 1;position: relative;background-color: white;}#sk-container-id-7 div.sk-parallel-item:first-child::after {align-self: flex-end;width: 50%;}#sk-container-id-7 div.sk-parallel-item:last-child::after {align-self: flex-start;width: 50%;}#sk-container-id-7 div.sk-parallel-item:only-child::after {width: 0;}#sk-container-id-7 div.sk-dashed-wrapped {border: 1px dashed gray;margin: 0 0.4em 0.5em 0.4em;box-sizing: border-box;padding-bottom: 0.4em;background-color: white;}#sk-container-id-7 div.sk-label label {font-family: monospace;font-weight: bold;display: inline-block;line-height: 1.2em;}#sk-container-id-7 div.sk-label-container {text-align: center;}#sk-container-id-7 div.sk-container {/* jupyter's `normalize.less` sets `[hidden] { display: none; }` but bootstrap.min.css set `[hidden] { display: none !important; }` so we also need the `!important` here to be able to override the default hidden behavior on the sphinx rendered scikit-learn.org. See: https://github.com/scikit-learn/scikit-learn/issues/21755 */display: inline-block !important;position: relative;}#sk-container-id-7 div.sk-text-repr-fallback {display: none;}</style><div id=\"sk-container-id-7\" class=\"sk-top-container\"><div class=\"sk-text-repr-fallback\"><pre>GridSearchCV(cv=5, estimator=GradientBoostingClassifier(random_state=10),\n",
       "             param_grid={&#x27;learning_rate&#x27;: [0.01, 0.05, 0.1],\n",
       "                         &#x27;max_depth&#x27;: [1, 2, 3, 4, 5],\n",
       "                         &#x27;n_estimators&#x27;: [50, 75, 100, 150, 200, 300, 400]},\n",
       "             scoring=&#x27;recall&#x27;, verbose=3)</pre><b>In a Jupyter environment, please rerun this cell to show the HTML representation or trust the notebook. <br />On GitHub, the HTML representation is unable to render, please try loading this page with nbviewer.org.</b></div><div class=\"sk-container\" hidden><div class=\"sk-item sk-dashed-wrapped\"><div class=\"sk-label-container\"><div class=\"sk-label sk-toggleable\"><input class=\"sk-toggleable__control sk-hidden--visually\" id=\"sk-estimator-id-9\" type=\"checkbox\" ><label for=\"sk-estimator-id-9\" class=\"sk-toggleable__label sk-toggleable__label-arrow\">GridSearchCV</label><div class=\"sk-toggleable__content\"><pre>GridSearchCV(cv=5, estimator=GradientBoostingClassifier(random_state=10),\n",
       "             param_grid={&#x27;learning_rate&#x27;: [0.01, 0.05, 0.1],\n",
       "                         &#x27;max_depth&#x27;: [1, 2, 3, 4, 5],\n",
       "                         &#x27;n_estimators&#x27;: [50, 75, 100, 150, 200, 300, 400]},\n",
       "             scoring=&#x27;recall&#x27;, verbose=3)</pre></div></div></div><div class=\"sk-parallel\"><div class=\"sk-parallel-item\"><div class=\"sk-item\"><div class=\"sk-label-container\"><div class=\"sk-label sk-toggleable\"><input class=\"sk-toggleable__control sk-hidden--visually\" id=\"sk-estimator-id-10\" type=\"checkbox\" ><label for=\"sk-estimator-id-10\" class=\"sk-toggleable__label sk-toggleable__label-arrow\">estimator: GradientBoostingClassifier</label><div class=\"sk-toggleable__content\"><pre>GradientBoostingClassifier(random_state=10)</pre></div></div></div><div class=\"sk-serial\"><div class=\"sk-item\"><div class=\"sk-estimator sk-toggleable\"><input class=\"sk-toggleable__control sk-hidden--visually\" id=\"sk-estimator-id-11\" type=\"checkbox\" ><label for=\"sk-estimator-id-11\" class=\"sk-toggleable__label sk-toggleable__label-arrow\">GradientBoostingClassifier</label><div class=\"sk-toggleable__content\"><pre>GradientBoostingClassifier(random_state=10)</pre></div></div></div></div></div></div></div></div></div></div>"
      ],
      "text/plain": [
       "GridSearchCV(cv=5, estimator=GradientBoostingClassifier(random_state=10),\n",
       "             param_grid={'learning_rate': [0.01, 0.05, 0.1],\n",
       "                         'max_depth': [1, 2, 3, 4, 5],\n",
       "                         'n_estimators': [50, 75, 100, 150, 200, 300, 400]},\n",
       "             scoring='recall', verbose=3)"
      ]
     },
     "execution_count": 55,
     "metadata": {},
     "output_type": "execute_result"
    }
   ],
   "source": [
    "grid_2.fit(X_train,y_train)"
   ]
  },
  {
   "cell_type": "code",
   "execution_count": 56,
   "id": "74594d3e",
   "metadata": {
    "id": "cf436e6e"
   },
   "outputs": [],
   "source": [
    "y_pred=grid_2.predict(X_test)"
   ]
  },
  {
   "cell_type": "code",
   "execution_count": 57,
   "id": "21e1126e",
   "metadata": {
    "scrolled": true
   },
   "outputs": [
    {
     "data": {
      "text/plain": [
       "0.6776315789473685"
      ]
     },
     "execution_count": 57,
     "metadata": {},
     "output_type": "execute_result"
    }
   ],
   "source": [
    "precision_score(y_test,y_pred)"
   ]
  },
  {
   "cell_type": "code",
   "execution_count": 58,
   "id": "168799b8",
   "metadata": {
    "colab": {
     "base_uri": "https://localhost:8080/"
    },
    "id": "ARXiELFUyiSL",
    "outputId": "c733ee66-b6bf-4554-ade0-31bebd12739d"
   },
   "outputs": [
    {
     "data": {
      "text/plain": [
       "0.9196428571428571"
      ]
     },
     "execution_count": 58,
     "metadata": {},
     "output_type": "execute_result"
    }
   ],
   "source": [
    "recall_score(y_test,y_pred)"
   ]
  },
  {
   "cell_type": "code",
   "execution_count": 59,
   "id": "29764146",
   "metadata": {},
   "outputs": [
    {
     "data": {
      "text/plain": [
       "dict_keys(['mean_fit_time', 'std_fit_time', 'mean_score_time', 'std_score_time', 'param_learning_rate', 'param_max_depth', 'param_n_estimators', 'params', 'split0_test_score', 'split1_test_score', 'split2_test_score', 'split3_test_score', 'split4_test_score', 'mean_test_score', 'std_test_score', 'rank_test_score'])"
      ]
     },
     "execution_count": 59,
     "metadata": {},
     "output_type": "execute_result"
    }
   ],
   "source": [
    "grid_2.cv_results_.keys()"
   ]
  },
  {
   "cell_type": "code",
   "execution_count": 60,
   "id": "27ac1d37",
   "metadata": {},
   "outputs": [
    {
     "data": {
      "text/html": [
       "<div>\n",
       "<style scoped>\n",
       "    .dataframe tbody tr th:only-of-type {\n",
       "        vertical-align: middle;\n",
       "    }\n",
       "\n",
       "    .dataframe tbody tr th {\n",
       "        vertical-align: top;\n",
       "    }\n",
       "\n",
       "    .dataframe thead th {\n",
       "        text-align: right;\n",
       "    }\n",
       "</style>\n",
       "<table border=\"1\" class=\"dataframe\">\n",
       "  <thead>\n",
       "    <tr style=\"text-align: right;\">\n",
       "      <th></th>\n",
       "      <th>mean_fit_time</th>\n",
       "      <th>std_fit_time</th>\n",
       "      <th>mean_score_time</th>\n",
       "      <th>std_score_time</th>\n",
       "      <th>param_learning_rate</th>\n",
       "      <th>param_max_depth</th>\n",
       "      <th>param_n_estimators</th>\n",
       "      <th>params</th>\n",
       "      <th>split0_test_score</th>\n",
       "      <th>split1_test_score</th>\n",
       "      <th>split2_test_score</th>\n",
       "      <th>split3_test_score</th>\n",
       "      <th>split4_test_score</th>\n",
       "      <th>mean_test_score</th>\n",
       "      <th>std_test_score</th>\n",
       "      <th>rank_test_score</th>\n",
       "    </tr>\n",
       "  </thead>\n",
       "  <tbody>\n",
       "    <tr>\n",
       "      <th>61</th>\n",
       "      <td>0.249793</td>\n",
       "      <td>0.003544</td>\n",
       "      <td>0.003009</td>\n",
       "      <td>0.000014</td>\n",
       "      <td>0.05</td>\n",
       "      <td>4</td>\n",
       "      <td>300</td>\n",
       "      <td>{'learning_rate': 0.05, 'max_depth': 4, 'n_est...</td>\n",
       "      <td>0.87234</td>\n",
       "      <td>0.893617</td>\n",
       "      <td>0.851064</td>\n",
       "      <td>0.914894</td>\n",
       "      <td>0.946809</td>\n",
       "      <td>0.895745</td>\n",
       "      <td>0.033235</td>\n",
       "      <td>4</td>\n",
       "    </tr>\n",
       "    <tr>\n",
       "      <th>95</th>\n",
       "      <td>0.179192</td>\n",
       "      <td>0.006008</td>\n",
       "      <td>0.003006</td>\n",
       "      <td>0.001096</td>\n",
       "      <td>0.1</td>\n",
       "      <td>4</td>\n",
       "      <td>200</td>\n",
       "      <td>{'learning_rate': 0.1, 'max_depth': 4, 'n_esti...</td>\n",
       "      <td>0.87234</td>\n",
       "      <td>0.893617</td>\n",
       "      <td>0.851064</td>\n",
       "      <td>0.914894</td>\n",
       "      <td>0.946809</td>\n",
       "      <td>0.895745</td>\n",
       "      <td>0.033235</td>\n",
       "      <td>4</td>\n",
       "    </tr>\n",
       "    <tr>\n",
       "      <th>101</th>\n",
       "      <td>0.161807</td>\n",
       "      <td>0.002570</td>\n",
       "      <td>0.003193</td>\n",
       "      <td>0.000398</td>\n",
       "      <td>0.1</td>\n",
       "      <td>5</td>\n",
       "      <td>150</td>\n",
       "      <td>{'learning_rate': 0.1, 'max_depth': 5, 'n_esti...</td>\n",
       "      <td>0.87234</td>\n",
       "      <td>0.893617</td>\n",
       "      <td>0.851064</td>\n",
       "      <td>0.914894</td>\n",
       "      <td>0.946809</td>\n",
       "      <td>0.895745</td>\n",
       "      <td>0.033235</td>\n",
       "      <td>4</td>\n",
       "    </tr>\n",
       "    <tr>\n",
       "      <th>102</th>\n",
       "      <td>0.216994</td>\n",
       "      <td>0.007282</td>\n",
       "      <td>0.003602</td>\n",
       "      <td>0.000803</td>\n",
       "      <td>0.1</td>\n",
       "      <td>5</td>\n",
       "      <td>200</td>\n",
       "      <td>{'learning_rate': 0.1, 'max_depth': 5, 'n_esti...</td>\n",
       "      <td>0.87234</td>\n",
       "      <td>0.893617</td>\n",
       "      <td>0.851064</td>\n",
       "      <td>0.914894</td>\n",
       "      <td>0.946809</td>\n",
       "      <td>0.895745</td>\n",
       "      <td>0.033235</td>\n",
       "      <td>4</td>\n",
       "    </tr>\n",
       "    <tr>\n",
       "      <th>103</th>\n",
       "      <td>0.323601</td>\n",
       "      <td>0.004397</td>\n",
       "      <td>0.003600</td>\n",
       "      <td>0.000799</td>\n",
       "      <td>0.1</td>\n",
       "      <td>5</td>\n",
       "      <td>300</td>\n",
       "      <td>{'learning_rate': 0.1, 'max_depth': 5, 'n_esti...</td>\n",
       "      <td>0.87234</td>\n",
       "      <td>0.893617</td>\n",
       "      <td>0.851064</td>\n",
       "      <td>0.914894</td>\n",
       "      <td>0.946809</td>\n",
       "      <td>0.895745</td>\n",
       "      <td>0.033235</td>\n",
       "      <td>4</td>\n",
       "    </tr>\n",
       "    <tr>\n",
       "      <th>104</th>\n",
       "      <td>0.422407</td>\n",
       "      <td>0.008900</td>\n",
       "      <td>0.004000</td>\n",
       "      <td>0.000014</td>\n",
       "      <td>0.1</td>\n",
       "      <td>5</td>\n",
       "      <td>400</td>\n",
       "      <td>{'learning_rate': 0.1, 'max_depth': 5, 'n_esti...</td>\n",
       "      <td>0.87234</td>\n",
       "      <td>0.893617</td>\n",
       "      <td>0.851064</td>\n",
       "      <td>0.914894</td>\n",
       "      <td>0.946809</td>\n",
       "      <td>0.895745</td>\n",
       "      <td>0.033235</td>\n",
       "      <td>4</td>\n",
       "    </tr>\n",
       "  </tbody>\n",
       "</table>\n",
       "</div>"
      ],
      "text/plain": [
       "     mean_fit_time  std_fit_time  mean_score_time  std_score_time  \\\n",
       "61        0.249793      0.003544         0.003009        0.000014   \n",
       "95        0.179192      0.006008         0.003006        0.001096   \n",
       "101       0.161807      0.002570         0.003193        0.000398   \n",
       "102       0.216994      0.007282         0.003602        0.000803   \n",
       "103       0.323601      0.004397         0.003600        0.000799   \n",
       "104       0.422407      0.008900         0.004000        0.000014   \n",
       "\n",
       "    param_learning_rate param_max_depth param_n_estimators  \\\n",
       "61                 0.05               4                300   \n",
       "95                  0.1               4                200   \n",
       "101                 0.1               5                150   \n",
       "102                 0.1               5                200   \n",
       "103                 0.1               5                300   \n",
       "104                 0.1               5                400   \n",
       "\n",
       "                                                params  split0_test_score  \\\n",
       "61   {'learning_rate': 0.05, 'max_depth': 4, 'n_est...            0.87234   \n",
       "95   {'learning_rate': 0.1, 'max_depth': 4, 'n_esti...            0.87234   \n",
       "101  {'learning_rate': 0.1, 'max_depth': 5, 'n_esti...            0.87234   \n",
       "102  {'learning_rate': 0.1, 'max_depth': 5, 'n_esti...            0.87234   \n",
       "103  {'learning_rate': 0.1, 'max_depth': 5, 'n_esti...            0.87234   \n",
       "104  {'learning_rate': 0.1, 'max_depth': 5, 'n_esti...            0.87234   \n",
       "\n",
       "     split1_test_score  split2_test_score  split3_test_score  \\\n",
       "61            0.893617           0.851064           0.914894   \n",
       "95            0.893617           0.851064           0.914894   \n",
       "101           0.893617           0.851064           0.914894   \n",
       "102           0.893617           0.851064           0.914894   \n",
       "103           0.893617           0.851064           0.914894   \n",
       "104           0.893617           0.851064           0.914894   \n",
       "\n",
       "     split4_test_score  mean_test_score  std_test_score  rank_test_score  \n",
       "61            0.946809         0.895745        0.033235                4  \n",
       "95            0.946809         0.895745        0.033235                4  \n",
       "101           0.946809         0.895745        0.033235                4  \n",
       "102           0.946809         0.895745        0.033235                4  \n",
       "103           0.946809         0.895745        0.033235                4  \n",
       "104           0.946809         0.895745        0.033235                4  "
      ]
     },
     "execution_count": 60,
     "metadata": {},
     "output_type": "execute_result"
    }
   ],
   "source": [
    "results_grid2=pd.DataFrame()\n",
    "results_gridcv2=results_grid2.from_dict(grid_2.cv_results_)\n",
    "results_gridcv2[results_gridcv2.rank_test_score==4]"
   ]
  },
  {
   "cell_type": "code",
   "execution_count": 61,
   "id": "e861aad1",
   "metadata": {},
   "outputs": [
    {
     "name": "stdout",
     "output_type": "stream",
     "text": [
      "3\n",
      "p 0.6776315789473685 False\n",
      "r 0.9196428571428571\n",
      "4\n",
      "p 0.6776315789473685 False\n",
      "r 0.9196428571428571\n",
      "35\n",
      "p 0.6776315789473685 False\n",
      "r 0.9196428571428571\n",
      "61\n",
      "p 0.6733333333333333 False\n",
      "r 0.9017857142857143\n",
      "95\n",
      "p 0.6802721088435374 False\n",
      "r 0.8928571428571429\n",
      "101\n",
      "p 0.684931506849315 False\n",
      "r 0.8928571428571429\n",
      "102\n",
      "p 0.684931506849315 False\n",
      "r 0.8928571428571429\n",
      "103\n",
      "p 0.684931506849315 False\n",
      "r 0.8928571428571429\n",
      "104\n",
      "p 0.684931506849315 False\n",
      "r 0.8928571428571429\n",
      "58\n",
      "p 0.6938775510204082 False\n",
      "r 0.9107142857142857\n",
      "59\n",
      "p 0.6778523489932886 False\n",
      "r 0.9017857142857143\n",
      "60\n",
      "p 0.6733333333333333 False\n",
      "r 0.9017857142857143\n",
      "68\n",
      "p 0.6824324324324325 False\n",
      "r 0.9017857142857143\n",
      "69\n",
      "p 0.6802721088435374 False\n",
      "r 0.8928571428571429\n",
      "5\n",
      "p 0.6776315789473685 False\n",
      "r 0.9196428571428571\n",
      "6\n",
      "p 0.6821192052980133 False\n",
      "r 0.9196428571428571\n",
      "33\n",
      "p 0.6845637583892618 False\n",
      "r 0.9107142857142857\n",
      "34\n",
      "p 0.6845637583892618 False\n",
      "r 0.9107142857142857\n",
      "36\n",
      "p 0.6821192052980133 False\n",
      "r 0.9196428571428571\n",
      "37\n",
      "p 0.6866666666666666 False\n",
      "r 0.9196428571428571\n",
      "55\n",
      "p 0.6824324324324325 False\n",
      "r 0.9017857142857143\n",
      "63\n",
      "p 0.6938775510204082 False\n",
      "r 0.9107142857142857\n",
      "64\n",
      "p 0.6845637583892618 False\n",
      "r 0.9107142857142857\n",
      "65\n",
      "p 0.6845637583892618 False\n",
      "r 0.9107142857142857\n",
      "70\n",
      "p 0.6821192052980133 False\n",
      "r 0.9196428571428571\n",
      "89\n",
      "p 0.6824324324324325 False\n",
      "r 0.9017857142857143\n",
      "92\n",
      "p 0.6891891891891891 False\n",
      "r 0.9107142857142857\n",
      "93\n",
      "p 0.68 False\n",
      "r 0.9107142857142857\n",
      "54\n",
      "p 0.6891891891891891 False\n",
      "r 0.9107142857142857\n",
      "57\n",
      "p 0.6845637583892618 False\n",
      "r 0.9107142857142857\n",
      "62\n",
      "p 0.6756756756756757 False\n",
      "r 0.8928571428571429\n",
      "66\n",
      "p 0.6824324324324325 False\n",
      "r 0.9017857142857143\n",
      "67\n",
      "p 0.6824324324324325 False\n",
      "r 0.9017857142857143\n",
      "90\n",
      "p 0.6802721088435374 False\n",
      "r 0.8928571428571429\n",
      "94\n",
      "p 0.6733333333333333 False\n",
      "r 0.9017857142857143\n",
      "96\n",
      "p 0.684931506849315 False\n",
      "r 0.8928571428571429\n",
      "97\n",
      "p 0.684931506849315 False\n",
      "r 0.8928571428571429\n",
      "98\n",
      "p 0.6778523489932886 False\n",
      "r 0.9017857142857143\n",
      "99\n",
      "p 0.6870748299319728 False\n",
      "r 0.9017857142857143\n",
      "100\n",
      "p 0.6802721088435374 False\n",
      "r 0.8928571428571429\n",
      "27\n",
      "p 0.6938775510204082 False\n",
      "r 0.9107142857142857\n",
      "32\n",
      "p 0.6938775510204082 False\n",
      "r 0.9107142857142857\n",
      "38\n",
      "p 0.6870748299319728 False\n",
      "r 0.9017857142857143\n",
      "53\n",
      "p 0.6891891891891891 False\n",
      "r 0.9107142857142857\n",
      "71\n",
      "p 0.6866666666666666 False\n",
      "r 0.9196428571428571\n",
      "82\n",
      "p 0.7006802721088435 True\n",
      "r 0.9196428571428571\n",
      "83\n",
      "p 0.7006802721088435 True\n",
      "r 0.9196428571428571\n",
      "87\n",
      "p 0.6938775510204082 False\n",
      "r 0.9107142857142857\n",
      "88\n",
      "p 0.6891891891891891 False\n",
      "r 0.9107142857142857\n",
      "25\n",
      "p 0.6891891891891891 False\n",
      "r 0.9107142857142857\n",
      "26\n",
      "p 0.6938775510204082 False\n",
      "r 0.9107142857142857\n",
      "39\n",
      "p 0.6870748299319728 False\n",
      "r 0.9017857142857143\n",
      "56\n",
      "p 0.68 False\n",
      "r 0.9107142857142857\n",
      "72\n",
      "p 0.6866666666666666 False\n",
      "r 0.9196428571428571\n",
      "81\n",
      "p 0.6986301369863014 False\n",
      "r 0.9107142857142857\n",
      "86\n",
      "p 0.6938775510204082 False\n",
      "r 0.9107142857142857\n",
      "10\n",
      "p 0.6938775510204082 False\n",
      "r 0.9107142857142857\n",
      "11\n",
      "p 0.6938775510204082 False\n",
      "r 0.9107142857142857\n",
      "42\n",
      "p 0.6938775510204082 False\n",
      "r 0.9107142857142857\n",
      "48\n",
      "p 0.6986301369863014 False\n",
      "r 0.9107142857142857\n",
      "84\n",
      "p 0.6845637583892618 False\n",
      "r 0.9107142857142857\n",
      "91\n",
      "p 0.6938775510204082 False\n",
      "r 0.9107142857142857\n",
      "24\n",
      "p 0.6870748299319728 False\n",
      "r 0.9017857142857143\n",
      "9\n",
      "p 0.6938775510204082 False\n",
      "r 0.9107142857142857\n",
      "85\n",
      "p 0.6845637583892618 False\n",
      "r 0.9107142857142857\n",
      "2\n",
      "p 0.6776315789473685 False\n",
      "r 0.9196428571428571\n",
      "17\n",
      "p 0.6938775510204082 False\n",
      "r 0.9107142857142857\n",
      "18\n",
      "p 0.6891891891891891 False\n",
      "r 0.9107142857142857\n",
      "19\n",
      "p 0.68 False\n",
      "r 0.9107142857142857\n",
      "20\n",
      "p 0.6821192052980133 False\n",
      "r 0.9196428571428571\n",
      "49\n",
      "p 0.6754966887417219 False\n",
      "r 0.9107142857142857\n",
      "50\n",
      "p 0.68 False\n",
      "r 0.9107142857142857\n",
      "51\n",
      "p 0.6821192052980133 False\n",
      "r 0.9196428571428571\n",
      "47\n",
      "p 0.7083333333333334 True\n",
      "r 0.9107142857142857\n",
      "80\n",
      "p 0.7083333333333334 True\n",
      "r 0.9107142857142857\n",
      "12\n",
      "p 0.6938775510204082 False\n",
      "r 0.9107142857142857\n",
      "13\n",
      "p 0.6891891891891891 False\n",
      "r 0.9107142857142857\n",
      "40\n",
      "p 0.6870748299319728 False\n",
      "r 0.9017857142857143\n",
      "41\n",
      "p 0.6870748299319728 False\n",
      "r 0.9017857142857143\n",
      "43\n",
      "p 0.6891891891891891 False\n",
      "r 0.9107142857142857\n",
      "52\n",
      "p 0.6891891891891891 False\n",
      "r 0.9107142857142857\n",
      "73\n",
      "p 0.6866666666666666 False\n",
      "r 0.9196428571428571\n",
      "74\n",
      "p 0.6866666666666666 False\n",
      "r 0.9196428571428571\n",
      "75\n",
      "p 0.6866666666666666 False\n",
      "r 0.9196428571428571\n",
      "76\n",
      "p 0.6891891891891891 False\n",
      "r 0.9107142857142857\n",
      "77\n",
      "p 0.6870748299319728 False\n",
      "r 0.9017857142857143\n",
      "78\n",
      "p 0.7083333333333334 True\n",
      "r 0.9107142857142857\n",
      "31\n",
      "p 0.6938775510204082 False\n",
      "r 0.9107142857142857\n",
      "44\n",
      "p 0.6870748299319728 False\n",
      "r 0.9017857142857143\n",
      "79\n",
      "p 0.7083333333333334 True\n",
      "r 0.9107142857142857\n",
      "46\n",
      "p 0.7083333333333334 True\n",
      "r 0.9107142857142857\n",
      "16\n",
      "p 0.6944444444444444 False\n",
      "r 0.8928571428571429\n",
      "45\n",
      "p 0.7062937062937062 True\n",
      "r 0.9017857142857143\n",
      "8\n",
      "p 0.7101449275362319 True\n",
      "r 0.875\n",
      "23\n",
      "p 0.7092198581560284 True\n",
      "r 0.8928571428571429\n",
      "30\n",
      "p 0.6917808219178082 False\n",
      "r 0.9017857142857143\n",
      "29\n",
      "p 0.7185185185185186 True\n",
      "r 0.8660714285714286\n",
      "15\n",
      "p 0.7196969696969697 True\n",
      "r 0.8482142857142857\n",
      "22\n",
      "p 0.7196969696969697 True\n",
      "r 0.8482142857142857\n",
      "1\n",
      "p 0.6776315789473685 False\n",
      "r 0.9196428571428571\n",
      "28\n",
      "p 0.0 False\n",
      "r 0.0\n",
      "14\n",
      "p 0.0 False\n",
      "r 0.0\n",
      "21\n",
      "p 0.0 False\n",
      "r 0.0\n",
      "0\n",
      "p 0.0 False\n",
      "r 0.0\n",
      "7\n",
      "p 0.0 False\n",
      "r 0.0\n"
     ]
    }
   ],
   "source": [
    "for e in set(results_gridcv2.rank_test_score):\n",
    "    for ind in results_gridcv2[results_gridcv2.rank_test_score==e].index:\n",
    "        gb_opt=GradientBoostingClassifier(random_state=10,learning_rate=results_gridcv2.iloc[ind].param_learning_rate,n_estimators=results_gridcv2.iloc[ind].param_n_estimators,max_depth=results_gridcv2.iloc[ind].param_max_depth)\n",
    "        gb_opt.fit(X_train,y_train)\n",
    "        y_pred=gb_opt.predict(X_test)\n",
    "        print(ind)\n",
    "        print('p',precision_score(y_test,y_pred),precision_score(y_test,y_pred)>=0.7)\n",
    "        print('r',recall_score(y_test,y_pred))"
   ]
  },
  {
   "cell_type": "markdown",
   "id": "c326d637",
   "metadata": {},
   "source": [
    "#### O conjunto de parâmetros com maior cobertura e uma precissão mínima é o index 83 então o index escolhido 83"
   ]
  },
  {
   "cell_type": "code",
   "execution_count": 62,
   "id": "a37553b1",
   "metadata": {},
   "outputs": [
    {
     "data": {
      "text/plain": [
       "mean_fit_time                                                   0.198405\n",
       "std_fit_time                                                    0.004964\n",
       "mean_score_time                                                 0.002794\n",
       "std_score_time                                                  0.000397\n",
       "param_learning_rate                                                  0.1\n",
       "param_max_depth                                                        2\n",
       "param_n_estimators                                                   400\n",
       "params                 {'learning_rate': 0.1, 'max_depth': 2, 'n_esti...\n",
       "split0_test_score                                               0.851064\n",
       "split1_test_score                                                0.87234\n",
       "split2_test_score                                               0.851064\n",
       "split3_test_score                                               0.914894\n",
       "split4_test_score                                               0.957447\n",
       "mean_test_score                                                 0.889362\n",
       "std_test_score                                                  0.041257\n",
       "rank_test_score                                                       41\n",
       "Name: 83, dtype: object"
      ]
     },
     "execution_count": 62,
     "metadata": {},
     "output_type": "execute_result"
    }
   ],
   "source": [
    "results_gridcv2.iloc[83]"
   ]
  },
  {
   "cell_type": "markdown",
   "id": "40ef0945",
   "metadata": {},
   "source": [
    "### Avaliar o melhor modelo com 2 variáveis"
   ]
  },
  {
   "cell_type": "code",
   "execution_count": 63,
   "id": "d50a939f",
   "metadata": {},
   "outputs": [],
   "source": [
    "Y=data['Failure']\n",
    "X=data.drop(columns=['Failure'])[['Y2s2_complete', 'Y4s2_complete']]"
   ]
  },
  {
   "cell_type": "code",
   "execution_count": 64,
   "id": "2f19f54e",
   "metadata": {},
   "outputs": [],
   "source": [
    "gb_best2=GradientBoostingClassifier(random_state=10,learning_rate=0.1,n_estimators=400,max_depth=2)"
   ]
  },
  {
   "cell_type": "code",
   "execution_count": 65,
   "id": "dc225b39",
   "metadata": {
    "scrolled": true
   },
   "outputs": [
    {
     "data": {
      "text/html": [
       "<style>#sk-container-id-8 {color: black;background-color: white;}#sk-container-id-8 pre{padding: 0;}#sk-container-id-8 div.sk-toggleable {background-color: white;}#sk-container-id-8 label.sk-toggleable__label {cursor: pointer;display: block;width: 100%;margin-bottom: 0;padding: 0.3em;box-sizing: border-box;text-align: center;}#sk-container-id-8 label.sk-toggleable__label-arrow:before {content: \"▸\";float: left;margin-right: 0.25em;color: #696969;}#sk-container-id-8 label.sk-toggleable__label-arrow:hover:before {color: black;}#sk-container-id-8 div.sk-estimator:hover label.sk-toggleable__label-arrow:before {color: black;}#sk-container-id-8 div.sk-toggleable__content {max-height: 0;max-width: 0;overflow: hidden;text-align: left;background-color: #f0f8ff;}#sk-container-id-8 div.sk-toggleable__content pre {margin: 0.2em;color: black;border-radius: 0.25em;background-color: #f0f8ff;}#sk-container-id-8 input.sk-toggleable__control:checked~div.sk-toggleable__content {max-height: 200px;max-width: 100%;overflow: auto;}#sk-container-id-8 input.sk-toggleable__control:checked~label.sk-toggleable__label-arrow:before {content: \"▾\";}#sk-container-id-8 div.sk-estimator input.sk-toggleable__control:checked~label.sk-toggleable__label {background-color: #d4ebff;}#sk-container-id-8 div.sk-label input.sk-toggleable__control:checked~label.sk-toggleable__label {background-color: #d4ebff;}#sk-container-id-8 input.sk-hidden--visually {border: 0;clip: rect(1px 1px 1px 1px);clip: rect(1px, 1px, 1px, 1px);height: 1px;margin: -1px;overflow: hidden;padding: 0;position: absolute;width: 1px;}#sk-container-id-8 div.sk-estimator {font-family: monospace;background-color: #f0f8ff;border: 1px dotted black;border-radius: 0.25em;box-sizing: border-box;margin-bottom: 0.5em;}#sk-container-id-8 div.sk-estimator:hover {background-color: #d4ebff;}#sk-container-id-8 div.sk-parallel-item::after {content: \"\";width: 100%;border-bottom: 1px solid gray;flex-grow: 1;}#sk-container-id-8 div.sk-label:hover label.sk-toggleable__label {background-color: #d4ebff;}#sk-container-id-8 div.sk-serial::before {content: \"\";position: absolute;border-left: 1px solid gray;box-sizing: border-box;top: 0;bottom: 0;left: 50%;z-index: 0;}#sk-container-id-8 div.sk-serial {display: flex;flex-direction: column;align-items: center;background-color: white;padding-right: 0.2em;padding-left: 0.2em;position: relative;}#sk-container-id-8 div.sk-item {position: relative;z-index: 1;}#sk-container-id-8 div.sk-parallel {display: flex;align-items: stretch;justify-content: center;background-color: white;position: relative;}#sk-container-id-8 div.sk-item::before, #sk-container-id-8 div.sk-parallel-item::before {content: \"\";position: absolute;border-left: 1px solid gray;box-sizing: border-box;top: 0;bottom: 0;left: 50%;z-index: -1;}#sk-container-id-8 div.sk-parallel-item {display: flex;flex-direction: column;z-index: 1;position: relative;background-color: white;}#sk-container-id-8 div.sk-parallel-item:first-child::after {align-self: flex-end;width: 50%;}#sk-container-id-8 div.sk-parallel-item:last-child::after {align-self: flex-start;width: 50%;}#sk-container-id-8 div.sk-parallel-item:only-child::after {width: 0;}#sk-container-id-8 div.sk-dashed-wrapped {border: 1px dashed gray;margin: 0 0.4em 0.5em 0.4em;box-sizing: border-box;padding-bottom: 0.4em;background-color: white;}#sk-container-id-8 div.sk-label label {font-family: monospace;font-weight: bold;display: inline-block;line-height: 1.2em;}#sk-container-id-8 div.sk-label-container {text-align: center;}#sk-container-id-8 div.sk-container {/* jupyter's `normalize.less` sets `[hidden] { display: none; }` but bootstrap.min.css set `[hidden] { display: none !important; }` so we also need the `!important` here to be able to override the default hidden behavior on the sphinx rendered scikit-learn.org. See: https://github.com/scikit-learn/scikit-learn/issues/21755 */display: inline-block !important;position: relative;}#sk-container-id-8 div.sk-text-repr-fallback {display: none;}</style><div id=\"sk-container-id-8\" class=\"sk-top-container\"><div class=\"sk-text-repr-fallback\"><pre>GradientBoostingClassifier(max_depth=2, n_estimators=400, random_state=10)</pre><b>In a Jupyter environment, please rerun this cell to show the HTML representation or trust the notebook. <br />On GitHub, the HTML representation is unable to render, please try loading this page with nbviewer.org.</b></div><div class=\"sk-container\" hidden><div class=\"sk-item\"><div class=\"sk-estimator sk-toggleable\"><input class=\"sk-toggleable__control sk-hidden--visually\" id=\"sk-estimator-id-12\" type=\"checkbox\" checked><label for=\"sk-estimator-id-12\" class=\"sk-toggleable__label sk-toggleable__label-arrow\">GradientBoostingClassifier</label><div class=\"sk-toggleable__content\"><pre>GradientBoostingClassifier(max_depth=2, n_estimators=400, random_state=10)</pre></div></div></div></div></div>"
      ],
      "text/plain": [
       "GradientBoostingClassifier(max_depth=2, n_estimators=400, random_state=10)"
      ]
     },
     "execution_count": 65,
     "metadata": {},
     "output_type": "execute_result"
    }
   ],
   "source": [
    "gb_best2.fit(X_train,y_train) "
   ]
  },
  {
   "cell_type": "code",
   "execution_count": 66,
   "id": "e95f05a5",
   "metadata": {
    "id": "cf436e6e"
   },
   "outputs": [],
   "source": [
    "y_pred=gb_best2.predict(X_test)"
   ]
  },
  {
   "cell_type": "code",
   "execution_count": 67,
   "id": "a8c92200",
   "metadata": {
    "scrolled": false
   },
   "outputs": [
    {
     "data": {
      "text/plain": [
       "0.7006802721088435"
      ]
     },
     "execution_count": 67,
     "metadata": {},
     "output_type": "execute_result"
    }
   ],
   "source": [
    "precision_score(y_test,y_pred)"
   ]
  },
  {
   "cell_type": "code",
   "execution_count": 68,
   "id": "c5d6f5a2",
   "metadata": {
    "colab": {
     "base_uri": "https://localhost:8080/"
    },
    "id": "ARXiELFUyiSL",
    "outputId": "c733ee66-b6bf-4554-ade0-31bebd12739d"
   },
   "outputs": [
    {
     "data": {
      "text/plain": [
       "0.9196428571428571"
      ]
     },
     "execution_count": 68,
     "metadata": {},
     "output_type": "execute_result"
    }
   ],
   "source": [
    "recall_score(y_test,y_pred)"
   ]
  },
  {
   "cell_type": "code",
   "execution_count": 69,
   "id": "c3a9411f",
   "metadata": {},
   "outputs": [
    {
     "data": {
      "text/html": [
       "<style>#sk-container-id-9 {color: black;background-color: white;}#sk-container-id-9 pre{padding: 0;}#sk-container-id-9 div.sk-toggleable {background-color: white;}#sk-container-id-9 label.sk-toggleable__label {cursor: pointer;display: block;width: 100%;margin-bottom: 0;padding: 0.3em;box-sizing: border-box;text-align: center;}#sk-container-id-9 label.sk-toggleable__label-arrow:before {content: \"▸\";float: left;margin-right: 0.25em;color: #696969;}#sk-container-id-9 label.sk-toggleable__label-arrow:hover:before {color: black;}#sk-container-id-9 div.sk-estimator:hover label.sk-toggleable__label-arrow:before {color: black;}#sk-container-id-9 div.sk-toggleable__content {max-height: 0;max-width: 0;overflow: hidden;text-align: left;background-color: #f0f8ff;}#sk-container-id-9 div.sk-toggleable__content pre {margin: 0.2em;color: black;border-radius: 0.25em;background-color: #f0f8ff;}#sk-container-id-9 input.sk-toggleable__control:checked~div.sk-toggleable__content {max-height: 200px;max-width: 100%;overflow: auto;}#sk-container-id-9 input.sk-toggleable__control:checked~label.sk-toggleable__label-arrow:before {content: \"▾\";}#sk-container-id-9 div.sk-estimator input.sk-toggleable__control:checked~label.sk-toggleable__label {background-color: #d4ebff;}#sk-container-id-9 div.sk-label input.sk-toggleable__control:checked~label.sk-toggleable__label {background-color: #d4ebff;}#sk-container-id-9 input.sk-hidden--visually {border: 0;clip: rect(1px 1px 1px 1px);clip: rect(1px, 1px, 1px, 1px);height: 1px;margin: -1px;overflow: hidden;padding: 0;position: absolute;width: 1px;}#sk-container-id-9 div.sk-estimator {font-family: monospace;background-color: #f0f8ff;border: 1px dotted black;border-radius: 0.25em;box-sizing: border-box;margin-bottom: 0.5em;}#sk-container-id-9 div.sk-estimator:hover {background-color: #d4ebff;}#sk-container-id-9 div.sk-parallel-item::after {content: \"\";width: 100%;border-bottom: 1px solid gray;flex-grow: 1;}#sk-container-id-9 div.sk-label:hover label.sk-toggleable__label {background-color: #d4ebff;}#sk-container-id-9 div.sk-serial::before {content: \"\";position: absolute;border-left: 1px solid gray;box-sizing: border-box;top: 0;bottom: 0;left: 50%;z-index: 0;}#sk-container-id-9 div.sk-serial {display: flex;flex-direction: column;align-items: center;background-color: white;padding-right: 0.2em;padding-left: 0.2em;position: relative;}#sk-container-id-9 div.sk-item {position: relative;z-index: 1;}#sk-container-id-9 div.sk-parallel {display: flex;align-items: stretch;justify-content: center;background-color: white;position: relative;}#sk-container-id-9 div.sk-item::before, #sk-container-id-9 div.sk-parallel-item::before {content: \"\";position: absolute;border-left: 1px solid gray;box-sizing: border-box;top: 0;bottom: 0;left: 50%;z-index: -1;}#sk-container-id-9 div.sk-parallel-item {display: flex;flex-direction: column;z-index: 1;position: relative;background-color: white;}#sk-container-id-9 div.sk-parallel-item:first-child::after {align-self: flex-end;width: 50%;}#sk-container-id-9 div.sk-parallel-item:last-child::after {align-self: flex-start;width: 50%;}#sk-container-id-9 div.sk-parallel-item:only-child::after {width: 0;}#sk-container-id-9 div.sk-dashed-wrapped {border: 1px dashed gray;margin: 0 0.4em 0.5em 0.4em;box-sizing: border-box;padding-bottom: 0.4em;background-color: white;}#sk-container-id-9 div.sk-label label {font-family: monospace;font-weight: bold;display: inline-block;line-height: 1.2em;}#sk-container-id-9 div.sk-label-container {text-align: center;}#sk-container-id-9 div.sk-container {/* jupyter's `normalize.less` sets `[hidden] { display: none; }` but bootstrap.min.css set `[hidden] { display: none !important; }` so we also need the `!important` here to be able to override the default hidden behavior on the sphinx rendered scikit-learn.org. See: https://github.com/scikit-learn/scikit-learn/issues/21755 */display: inline-block !important;position: relative;}#sk-container-id-9 div.sk-text-repr-fallback {display: none;}</style><div id=\"sk-container-id-9\" class=\"sk-top-container\"><div class=\"sk-text-repr-fallback\"><pre>GradientBoostingClassifier(max_depth=2, n_estimators=400, random_state=10)</pre><b>In a Jupyter environment, please rerun this cell to show the HTML representation or trust the notebook. <br />On GitHub, the HTML representation is unable to render, please try loading this page with nbviewer.org.</b></div><div class=\"sk-container\" hidden><div class=\"sk-item\"><div class=\"sk-estimator sk-toggleable\"><input class=\"sk-toggleable__control sk-hidden--visually\" id=\"sk-estimator-id-13\" type=\"checkbox\" checked><label for=\"sk-estimator-id-13\" class=\"sk-toggleable__label sk-toggleable__label-arrow\">GradientBoostingClassifier</label><div class=\"sk-toggleable__content\"><pre>GradientBoostingClassifier(max_depth=2, n_estimators=400, random_state=10)</pre></div></div></div></div></div>"
      ],
      "text/plain": [
       "GradientBoostingClassifier(max_depth=2, n_estimators=400, random_state=10)"
      ]
     },
     "execution_count": 69,
     "metadata": {},
     "output_type": "execute_result"
    }
   ],
   "source": [
    "Y=data['Failure']\n",
    "X=data.drop(columns=['Failure'])[['Y2s2_complete', 'Y4s2_complete']]\n",
    "gb_topick_2=GradientBoostingClassifier(random_state=10,learning_rate=0.1,n_estimators=400,max_depth=2)\n",
    "gb_topick_2.fit(X,Y)\n",
    "# pickle.dump(gb_topick_2,open('modelo_2','wb'))"
   ]
  },
  {
   "cell_type": "markdown",
   "id": "d60aecb2",
   "metadata": {},
   "source": [
    "# Ficamos assim com um modelo com 91% de cobertura e os 70% de precisão"
   ]
  },
  {
   "cell_type": "markdown",
   "id": "5e27dd92",
   "metadata": {},
   "source": [
    "# "
   ]
  }
 ],
 "metadata": {
  "accelerator": "GPU",
  "colab": {
   "provenance": []
  },
  "gpuClass": "standard",
  "kernelspec": {
   "display_name": "Python 3",
   "language": "python",
   "name": "python3"
  },
  "language_info": {
   "codemirror_mode": {
    "name": "ipython",
    "version": 3
   },
   "file_extension": ".py",
   "mimetype": "text/x-python",
   "name": "python",
   "nbconvert_exporter": "python",
   "pygments_lexer": "ipython3",
   "version": "3.9.12"
  }
 },
 "nbformat": 4,
 "nbformat_minor": 5
}
